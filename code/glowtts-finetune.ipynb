{
 "cells": [
  {
   "cell_type": "markdown",
   "metadata": {},
   "source": [
    "## Preprocess Dataset"
   ]
  },
  {
   "cell_type": "code",
   "execution_count": 1,
   "metadata": {},
   "outputs": [],
   "source": [
    "import sys\n",
    "\n",
    "sys.path.append(\"/home/voice-cloning-finetune/TTS\")"
   ]
  },
  {
   "cell_type": "code",
   "execution_count": 2,
   "metadata": {},
   "outputs": [],
   "source": [
    "import os\n",
    "from TTS.tts.configs.shared_configs import BaseDatasetConfig\n",
    "from TTS.tts.datasets import load_tts_samples"
   ]
  },
  {
   "cell_type": "code",
   "execution_count": 3,
   "metadata": {},
   "outputs": [
    {
     "name": "stdout",
     "output_type": "stream",
     "text": [
      " | > Found 2390 files in /home/voice-cloning-finetune/ThaiMultiSpeech\n"
     ]
    }
   ],
   "source": [
    "# dataset config for one of the pre-defined datasets\n",
    "ds_path = \"/home/voice-cloning-finetune/ThaiMultiSpeech\"\n",
    "dataset_config = BaseDatasetConfig(\n",
    "    formatter=\"tms_formatter\", meta_file_train=\"metadata.txt\", path=ds_path, language=\"th\"\n",
    ")\n",
    "\n",
    "# load training samples\n",
    "train_samples, eval_samples = load_tts_samples(dataset_config, eval_split=True)"
   ]
  },
  {
   "cell_type": "code",
   "execution_count": 4,
   "metadata": {},
   "outputs": [
    {
     "data": {
      "text/plain": [
       "[{'text': 'พอเข้ามาในห้องคุณสาย แม่ก็หยิบหมอนออกมาจากหลังตู้ใบหนึ่ง เอามาวางลงกับพื้นกระดาน แล้วแม่ก็เสื่อมตัวลงนอนอีกสักครู่ก็หลับอย่างสบาย ส่วนคุณสายก็กลับมานั่งที่เดิม หยิบผ้าห่มที่ซักแล้วมากองหนึ่ง บอกว่าเป็นของเสด็จ แล้วก็เรียกร้องให้เข้าไปนั่งใกล้ ๆ แล้วบอกให้ช่วยกันจีบ โดยคุณสายทําให้ดูก่อน แล้วก็ให้พลอยลองทําดูบ้าง',\n",
       "  'audio_file': '/home/voice-cloning-finetune/ThaiMultiSpeech/wavs/เจ้าคุณพระ_sample0_chunk179.wav',\n",
       "  'speaker_name': 'เจ้าคุณพระ',\n",
       "  'root_path': '/home/voice-cloning-finetune/ThaiMultiSpeech',\n",
       "  'language': 'th',\n",
       "  'audio_unique_name': '#wavs/เจ้าคุณพระ_sample0_chunk179'},\n",
       " {'text': 'การดึงเสื้อสวมเข้าทางหัวของเขาเท่าไหร่ เสื้อก็ยิ่งหดเล็กลงเล็กลง จนกระทั่งในที่สุดมันเล็กจนแทบจะใส่ให้ตุ๊กตาหุ่นมือได้พอดี ซึ่งแน่นอนย่อมไม่พอดีกับแฮร์รี่ ป้าเพชรธูเนียสรุปว่า มันคงหดตอนที่เธอเอาไปซัก และแฮร์รี่ก็โล่งใจที่ไม่ถูกลงโทษ',\n",
       "  'audio_file': '/home/voice-cloning-finetune/ThaiMultiSpeech/wavs/Understand Thai_sample1_chunk134.wav',\n",
       "  'speaker_name': 'Understand Thai',\n",
       "  'root_path': '/home/voice-cloning-finetune/ThaiMultiSpeech',\n",
       "  'language': 'th',\n",
       "  'audio_unique_name': '#wavs/Understand Thai_sample1_chunk134'},\n",
       " {'text': 'เจ้าเป็นสายลมไม่ได้ เราเป็นสองอย่างที่แตกต่างกัน สายลมบอกไม่จริงเลย ฉันได้เรียนรู้จากความลับของนักแปลทักษะระหว่างการเดินทาง ฉันมีสายลมทะเลทรายมหาสมุทร ดาวและสิ่งมีชีวิตอยู่ในตัวฉัน เราต่างถูกสร้างขึ้นโดยพระหัตถ์ของพระเจ้าเดียวกันและมีวิญญาณเดียวกัน ฉันอยากจะเป็นอย่างท่าน ฉันอยากเดินทางไป',\n",
       "  'audio_file': '/home/voice-cloning-finetune/ThaiMultiSpeech/wavs/นิยาย ก่อนนอน_sample0_chunk442.wav',\n",
       "  'speaker_name': 'นิยาย ก่อนนอน',\n",
       "  'root_path': '/home/voice-cloning-finetune/ThaiMultiSpeech',\n",
       "  'language': 'th',\n",
       "  'audio_unique_name': '#wavs/นิยาย ก่อนนอน_sample0_chunk442'},\n",
       " {'text': 'คนที่ตายก็คือเจ้าตังค์ เพราะข้ารู้ว่าจะเปลี่ยนตัวเองเป็นสายลมได้อย่างไร ในวันที่สอง เด็กหนุ่มปีนไปบนหน้าผาที่อยู่ข้างค่ายทหาร ยามอนุญาตให้เขาขึ้นไปได้ พวกยามก็ได้ยินเรื่องของพ่อมดผู้แปลงเป็นสายลมได้ และไม่อยากเข้าใกล้เขาถึงยังไง เด็กหนุ่มก็ฝ่าทะเลทรายไปไม่ได้อยู่ดี เขาใช้เวลาตลอดบ่ายของวันที่สอง มองทะเลทรายและฟังเสียงจากหัวใจของเขา',\n",
       "  'audio_file': '/home/voice-cloning-finetune/ThaiMultiSpeech/wavs/นิยาย ก่อนนอน_sample0_chunk431.wav',\n",
       "  'speaker_name': 'นิยาย ก่อนนอน',\n",
       "  'root_path': '/home/voice-cloning-finetune/ThaiMultiSpeech',\n",
       "  'language': 'th',\n",
       "  'audio_unique_name': '#wavs/นิยาย ก่อนนอน_sample0_chunk431'},\n",
       " {'text': 'พอแม่ถามแม่ก็ตอบเอง เหมือนกับว่าคงจะเดาออกว่าในบ้านนี้ ถ้าจะมีคนให้ของพรอย ก็น่าจะเป็นคุณเฉย นี่แหละ พรอยได้แต่พยักหน้ารับคํา แม่กําลังปิดหีบอยู่ ก็หยุดนิ่ง เอามือวางพัดไว้บนฝาหีบครู่หนึ่ง ตาเมมมองออกไปนอกหน้าต่างเหมือนกําลังตื่นตรองตัดสินใจอะไรอยู่ แต่แล้วแม่ก็ถอนใจใหญ่สลัดหน้า',\n",
       "  'audio_file': '/home/voice-cloning-finetune/ThaiMultiSpeech/wavs/เจ้าคุณพระ_sample0_chunk51.wav',\n",
       "  'speaker_name': 'เจ้าคุณพระ',\n",
       "  'root_path': '/home/voice-cloning-finetune/ThaiMultiSpeech',\n",
       "  'language': 'th',\n",
       "  'audio_unique_name': '#wavs/เจ้าคุณพระ_sample0_chunk51'}]"
      ]
     },
     "execution_count": 4,
     "metadata": {},
     "output_type": "execute_result"
    }
   ],
   "source": [
    "train_samples[:5]"
   ]
  },
  {
   "cell_type": "markdown",
   "metadata": {},
   "source": [
    "## Train TorToise Model"
   ]
  },
  {
   "cell_type": "code",
   "execution_count": 5,
   "metadata": {},
   "outputs": [],
   "source": [
    "# TortoiseConfig: all model related values for training, validating and testing.\n",
    "from TTS.tts.configs.shared_configs import CharactersConfig\n",
    "from TTS.tts.configs.glow_tts_config import GlowTTSConfig\n",
    "from TTS.tts.models.glow_tts import GlowTTS\n",
    "from TTS.config.shared_configs import BaseAudioConfig\n",
    "from TTS.utils.audio import AudioProcessor\n",
    "from TTS.tts.utils.text.tokenizer import TTSTokenizer\n",
    "from TTS.tts.utils.speakers import SpeakerManager\n",
    "from trainer import Trainer, TrainerArgs\n",
    "\n",
    "import re"
   ]
  },
  {
   "cell_type": "markdown",
   "metadata": {},
   "source": [
    "Append the following code in `/usr/local/lib/python3.9/dist-packages/TTS/tts/utils/text/cleaners.py`"
   ]
  },
  {
   "cell_type": "code",
   "execution_count": 6,
   "metadata": {},
   "outputs": [],
   "source": [
    "# from pythainlp.tokenize import word_tokenize\n",
    "\n",
    "# def thai_cleaners(text):\n",
    "#     \"\"\"Pipeline for Thai text\"\"\"\n",
    "#     text = lowercase(text)\n",
    "#     text = replace_symbols(text, lang=None)\n",
    "#     text = remove_aux_symbols(text)\n",
    "#     text = ' '.join(word_tokenize(text, keep_whitespace=False))\n",
    "#     return text"
   ]
  },
  {
   "cell_type": "code",
   "execution_count": 7,
   "metadata": {},
   "outputs": [],
   "source": [
    "# Example of Thai cleaners on transcription sample\n",
    "# thai_cleaners(train_samples[0]['text'])"
   ]
  },
  {
   "cell_type": "code",
   "execution_count": 8,
   "metadata": {},
   "outputs": [],
   "source": [
    "output_path = \"glowtts_train_dir\"\n",
    "if not os.path.exists(output_path):\n",
    "    os.makedirs(output_path)"
   ]
  },
  {
   "cell_type": "code",
   "execution_count": 9,
   "metadata": {},
   "outputs": [],
   "source": [
    "audio_config = BaseAudioConfig(sample_rate=22050, resample=True)"
   ]
  },
  {
   "cell_type": "code",
   "execution_count": 10,
   "metadata": {},
   "outputs": [],
   "source": [
    "char_config = CharactersConfig(\n",
    "    pad=\"_\",\n",
    "    eos=\"&\",\n",
    "    bos=\"*\",\n",
    "    blank=None,\n",
    "    characters=\"ABCDEFGHIJKLMNOPQRSTUVWXYZabcdefghijklmnopqrstuvwxyz0123456789%\\u0e01\\u0e02\\u0e03\\u0e04\\u0e05\\u0e06\\u0e07\\u0e08\\u0e09\\u0e0a\\u0e0b\\u0e0c\\u0e0d\\u0e0e\\u0e0f\\u0e10\\u0e11\\u0e12\\u0e13\\u0e14\\u0e15\\u0e16\\u0e17\\u0e18\\u0e19\\u0e1a\\u0e1b\\u0e1c\\u0e1d\\u0e1e\\u0e1f\\u0e20\\u0e21\\u0e22\\u0e23\\u0e24\\u0e25\\u0e26\\u0e27\\u0e28\\u0e29\\u0e2a\\u0e2b\\u0e2c\\u0e2d\\u0e2e\\u0e30\\u0e31\\u0e32\\u0e33\\u0e34\\u0e35\\u0e36\\u0e37\\u0e38\\u0e39\\u0e3a\\u0e40\\u0e41\\u0e42\\u0e43\\u0e44\\u0e45\\u0e46\\u0e47\\u0e48\\u0e49\\u0e4a\\u0e4b\\u0e4c\\u0e4d\\u0e4e\\u0e4f\\u0e50\\u0e51\\u0e52\\u0e53\\u0e54\\u0e55\\u0e56\\u0e57\\u0e58\\u0e59\\u0e5a\\u0e5b\",\n",
    "    punctuations=\"!'(),-.:;? \",\n",
    "    phonemes=\"\",\n",
    "    is_unique=True,\n",
    "    is_sorted=True,\n",
    ")"
   ]
  },
  {
   "cell_type": "code",
   "execution_count": 11,
   "metadata": {},
   "outputs": [],
   "source": [
    "config = GlowTTSConfig(\n",
    "    batch_size=4,\n",
    "    eval_batch_size=4,\n",
    "    num_loader_workers=4,\n",
    "    num_eval_loader_workers=4,\n",
    "    run_eval=True,\n",
    "    test_delay_epochs=-1,\n",
    "    epochs=100,\n",
    "    audio=audio_config,\n",
    "    text_cleaner=\"thai_cleaners\",\n",
    "    use_speaker_embedding=True,\n",
    "    use_phonemes=False,\n",
    "    print_step=1000,\n",
    "    print_eval=False,\n",
    "    mixed_precision=True,\n",
    "    output_path=output_path,\n",
    "    datasets=[dataset_config],\n",
    "    characters=char_config,\n",
    "    save_step=1000,\n",
    "    training_seed=42\n",
    ")"
   ]
  },
  {
   "cell_type": "code",
   "execution_count": 12,
   "metadata": {},
   "outputs": [
    {
     "name": "stdout",
     "output_type": "stream",
     "text": [
      " > Setting up Audio Processor...\n",
      " | > sample_rate:22050\n",
      " | > resample:True\n",
      " | > num_mels:80\n",
      " | > log_func:np.log10\n",
      " | > min_level_db:-100\n",
      " | > frame_shift_ms:None\n",
      " | > frame_length_ms:None\n",
      " | > ref_level_db:20\n",
      " | > fft_size:1024\n",
      " | > power:1.5\n",
      " | > preemphasis:0.0\n",
      " | > griffin_lim_iters:60\n",
      " | > signal_norm:True\n",
      " | > symmetric_norm:True\n",
      " | > mel_fmin:0\n",
      " | > mel_fmax:None\n",
      " | > pitch_fmin:1.0\n",
      " | > pitch_fmax:640.0\n",
      " | > spec_gain:20.0\n",
      " | > stft_pad_mode:reflect\n",
      " | > max_norm:4.0\n",
      " | > clip_norm:True\n",
      " | > do_trim_silence:True\n",
      " | > trim_db:45\n",
      " | > do_sound_norm:False\n",
      " | > do_amp_to_db_linear:True\n",
      " | > do_amp_to_db_mel:True\n",
      " | > do_rms_norm:False\n",
      " | > db_level:None\n",
      " | > stats_path:None\n",
      " | > base:10\n",
      " | > hop_length:256\n",
      " | > win_length:1024\n"
     ]
    }
   ],
   "source": [
    "ap = AudioProcessor.init_from_config(config)\n",
    "# Modify sample rate if for a custom audio dataset:\n",
    "# ap.sample_rate = 22050"
   ]
  },
  {
   "cell_type": "code",
   "execution_count": 13,
   "metadata": {},
   "outputs": [],
   "source": [
    "tokenizer, config = TTSTokenizer.init_from_config(config)"
   ]
  },
  {
   "cell_type": "code",
   "execution_count": 14,
   "metadata": {},
   "outputs": [],
   "source": [
    "# init speaker manager for multi-speaker training\n",
    "# it maps speaker-id to speaker-name in the model and data-loader\n",
    "speaker_manager = SpeakerManager()\n",
    "speaker_manager.set_ids_from_data(train_samples + eval_samples, parse_key=\"speaker_name\")\n",
    "config.num_speakers = speaker_manager.num_speakers"
   ]
  },
  {
   "cell_type": "code",
   "execution_count": 15,
   "metadata": {},
   "outputs": [
    {
     "name": "stdout",
     "output_type": "stream",
     "text": [
      " | > Found 2390 files in /home/voice-cloning-finetune/ThaiMultiSpeech\n"
     ]
    }
   ],
   "source": [
    "train_samples, eval_samples = load_tts_samples(\n",
    "    dataset_config,\n",
    "    eval_split=True,\n",
    "    eval_split_max_size=config.eval_split_max_size,\n",
    "    eval_split_size=config.eval_split_size,\n",
    ")"
   ]
  },
  {
   "cell_type": "code",
   "execution_count": 16,
   "metadata": {},
   "outputs": [
    {
     "name": "stdout",
     "output_type": "stream",
     "text": [
      " > Init speaker_embedding layer.\n"
     ]
    }
   ],
   "source": [
    "model = GlowTTS(config, ap, tokenizer, speaker_manager=speaker_manager)"
   ]
  },
  {
   "cell_type": "code",
   "execution_count": 17,
   "metadata": {},
   "outputs": [
    {
     "name": "stderr",
     "output_type": "stream",
     "text": [
      "fatal: not a git repository (or any parent up to mount point /home)\n",
      "Stopping at filesystem boundary (GIT_DISCOVERY_ACROSS_FILESYSTEM not set).\n",
      "fatal: not a git repository (or any parent up to mount point /home)\n",
      "Stopping at filesystem boundary (GIT_DISCOVERY_ACROSS_FILESYSTEM not set).\n",
      " > Training Environment:\n",
      " | > Backend: Torch\n",
      " | > Mixed precision: True\n",
      " | > Precision: fp16\n",
      " | > Current device: 0\n",
      " | > Num. of GPUs: 1\n",
      " | > Num. of CPUs: 16\n",
      " | > Num. of Torch Threads: 8\n",
      " | > Torch seed: 42\n",
      " | > Torch CUDNN: True\n",
      " | > Torch CUDNN deterministic: False\n",
      " | > Torch CUDNN benchmark: False\n",
      " | > Torch TF32 MatMul: False\n",
      " > Start Tensorboard: tensorboard --logdir=glowtts_train_dir/run-October-21-2024_11+30AM-0000000\n",
      "/usr/local/lib/python3.9/dist-packages/trainer/trainer.py:552: FutureWarning: `torch.cuda.amp.GradScaler(args...)` is deprecated. Please use `torch.amp.GradScaler('cuda', args...)` instead.\n",
      "  self.scaler = torch.cuda.amp.GradScaler()\n",
      "\n",
      " > Model has 32341009 parameters\n"
     ]
    },
    {
     "name": "stdout",
     "output_type": "stream",
     "text": [
      " > `speakers.pth` is saved to glowtts_train_dir/run-October-21-2024_11+30AM-0000000/speakers.pth.\n",
      " > `speakers_file` is updated in the config.json.\n"
     ]
    }
   ],
   "source": [
    "trainer = Trainer(\n",
    "    TrainerArgs(), config, output_path, model=model, train_samples=train_samples, eval_samples=eval_samples\n",
    ")"
   ]
  },
  {
   "cell_type": "code",
   "execution_count": 18,
   "metadata": {},
   "outputs": [
    {
     "name": "stderr",
     "output_type": "stream",
     "text": [
      "\n",
      "\u001b[4m\u001b[1m > EPOCH: 0/100\u001b[0m\n",
      " --> glowtts_train_dir/run-October-21-2024_11+30AM-0000000\n"
     ]
    },
    {
     "name": "stdout",
     "output_type": "stream",
     "text": [
      "\n",
      "\n",
      "> DataLoader initialization\n",
      "| > Tokenizer:\n",
      "\t| > add_blank: False\n",
      "\t| > use_eos_bos: False\n",
      "\t| > use_phonemes: False\n",
      "| > Number of instances : 2367\n"
     ]
    },
    {
     "name": "stderr",
     "output_type": "stream",
     "text": [
      "\n",
      "\u001b[1m > TRAINING (2024-10-21 11:30:59) \u001b[0m\n"
     ]
    },
    {
     "name": "stdout",
     "output_type": "stream",
     "text": [
      " | > Preprocessing samples\n",
      " | > Max text length: 551\n",
      " | > Min text length: 5\n",
      " | > Avg text length: 275.29446556822984\n",
      " | \n",
      " | > Max audio length: 1487988\n",
      " | > Min audio length: 208538\n",
      " | > Avg audio length: 1372787.1081537812\n",
      " | > Num. instances discarded samples: 0\n",
      " | > Batch group size: 0.\n"
     ]
    },
    {
     "name": "stderr",
     "output_type": "stream",
     "text": [
      "\n",
      "\u001b[1m   --> TIME: 2024-10-21 11:31:01 -- STEP: 0/592 -- GLOBAL_STEP: 0\u001b[0m\n",
      "     | > current_lr: 2.5e-07 \n",
      "     | > step_time: 0.6547  (0.6547188758850098)\n",
      "     | > loader_time: 0.8201  (0.8200645446777344)\n",
      "\n",
      " [!] `train_step()` retuned `None` outputs. Skipping training step.\n",
      " [!] `train_step()` retuned `None` outputs. Skipping training step.\n",
      " [!] `train_step()` retuned `None` outputs. Skipping training step.\n",
      " [!] `train_step()` retuned `None` outputs. Skipping training step.\n",
      " [!] `train_step()` retuned `None` outputs. Skipping training step.\n",
      " [!] `train_step()` retuned `None` outputs. Skipping training step.\n",
      " [!] `train_step()` retuned `None` outputs. Skipping training step.\n",
      " [!] `train_step()` retuned `None` outputs. Skipping training step.\n",
      " [!] `train_step()` retuned `None` outputs. Skipping training step.\n",
      " [!] `train_step()` retuned `None` outputs. Skipping training step.\n",
      "/home/voice-cloning-finetune/TTS/TTS/tts/models/glow_tts.py:415: FutureWarning: `torch.cuda.amp.autocast(args...)` is deprecated. Please use `torch.amp.autocast('cuda', args...)` instead.\n",
      "  with autocast(enabled=False):  # avoid mixed_precision in criterion\n"
     ]
    },
    {
     "name": "stdout",
     "output_type": "stream",
     "text": [
      "เขา ก็ บ่น เร็ว ๆ ก็ เล่า กัน โฟล ลี่ แนะ นําผม ให้ เวลา เต็มที่ ห้า นาที ก่อนที่ กรุงเทพฯ จะ เข้าไป ร่วมกับ เวลา ปกติ ของ โลก ฮอล ลี่ ก้าว ผ่าน ศูนย์ ที่ เคย เป็น ทางเดิน คม ระยะ เบา ๆ เพราะ แรง แตก ของ ระเบิด แต่ นอกจากนั้น ทุกอย่าง ยังคง สภาพเดิม ที่ เธอ จํา ได้ ทาง ข้างล่าง ห้องขัง ไม่ มี ใคร ตอบ ไม่ มี แม้แต่ คํา เดียว มี ใคร บางคน ออกเสียง ออกมา เสียงดัง ๆ มาย โฟล์ เต็มที่ ฮอล ลี่ หัน มอง ไป รอบด้าน\n",
      " [!] Character 'ฯ' not found in the vocabulary. Discarding it.\n"
     ]
    },
    {
     "name": "stderr",
     "output_type": "stream",
     "text": [
      "\n",
      "\u001b[1m > EVALUATION \u001b[0m\n",
      "\n"
     ]
    },
    {
     "name": "stdout",
     "output_type": "stream",
     "text": [
      "\n",
      "\n",
      "> DataLoader initialization\n",
      "| > Tokenizer:\n",
      "\t| > add_blank: False\n",
      "\t| > use_eos_bos: False\n",
      "\t| > use_phonemes: False\n",
      "| > Number of instances : 23\n",
      " | > Preprocessing samples\n",
      " | > Max text length: 388\n",
      " | > Min text length: 218\n",
      " | > Avg text length: 284.30434782608694\n",
      " | \n",
      " | > Max audio length: 1487988\n",
      " | > Min audio length: 1367090\n",
      " | > Avg audio length: 1372346.4347826086\n",
      " | > Num. instances discarded samples: 0\n",
      " | > Batch group size: 0.\n",
      " | > Synthesizing test sentences.\n"
     ]
    },
    {
     "name": "stderr",
     "output_type": "stream",
     "text": [
      "\n",
      "  \u001b[1m--> EVAL PERFORMANCE\u001b[0m\n",
      "     | > avg_loader_time: 0.020586299896240234 \u001b[0m(+0)\n",
      "     | > avg_loss: 3.1881445407867433 \u001b[0m(+0)\n",
      "     | > avg_log_mle: 0.7314979910850525 \u001b[0m(+0)\n",
      "     | > avg_loss_dur: 2.456646513938904 \u001b[0m(+0)\n",
      "\n",
      " > BEST MODEL : glowtts_train_dir/run-October-21-2024_11+30AM-0000000/best_model_592.pth\n",
      "\n",
      "\u001b[4m\u001b[1m > EPOCH: 1/100\u001b[0m\n",
      " --> glowtts_train_dir/run-October-21-2024_11+30AM-0000000\n",
      "\n",
      "\u001b[1m > TRAINING (2024-10-21 11:34:17) \u001b[0m\n",
      "\n",
      "\u001b[1m   --> TIME: 2024-10-21 11:36:22 -- STEP: 408/592 -- GLOBAL_STEP: 1000\u001b[0m\n",
      "     | > loss: 3.6189706325531006  (2.8535796427259257)\n",
      "     | > log_mle: 0.7011098861694336  (0.6972393693000662)\n",
      "     | > loss_dur: 2.917860746383667  (2.156340269335343)\n",
      "     | > amp_scaler: 16384.0  (16384.0)\n",
      "     | > grad_norm: tensor(10.2258, device='cuda:0')  (tensor(8.1197, device='cuda:0'))\n",
      "     | > current_lr: 2.5e-07 \n",
      "     | > step_time: 0.2626  (0.29911506526610426)\n",
      "     | > loader_time: 0.0037  (0.0033531714888180002)\n",
      "\n",
      "\n",
      " > CHECKPOINT : glowtts_train_dir/run-October-21-2024_11+30AM-0000000/checkpoint_1000.pth\n"
     ]
    },
    {
     "name": "stdout",
     "output_type": "stream",
     "text": [
      "เขา ก็ บ่น เร็ว ๆ ก็ เล่า กัน โฟล ลี่ แนะ นําผม ให้ เวลา เต็มที่ ห้า นาที ก่อนที่ กรุงเทพฯ จะ เข้าไป ร่วมกับ เวลา ปกติ ของ โลก ฮอล ลี่ ก้าว ผ่าน ศูนย์ ที่ เคย เป็น ทางเดิน คม ระยะ เบา ๆ เพราะ แรง แตก ของ ระเบิด แต่ นอกจากนั้น ทุกอย่าง ยังคง สภาพเดิม ที่ เธอ จํา ได้ ทาง ข้างล่าง ห้องขัง ไม่ มี ใคร ตอบ ไม่ มี แม้แต่ คํา เดียว มี ใคร บางคน ออกเสียง ออกมา เสียงดัง ๆ มาย โฟล์ เต็มที่ ฮอล ลี่ หัน มอง ไป รอบด้าน\n",
      " [!] Character 'ฯ' not found in the vocabulary. Discarding it.\n"
     ]
    },
    {
     "name": "stderr",
     "output_type": "stream",
     "text": [
      "\n",
      "\u001b[1m > EVALUATION \u001b[0m\n",
      "\n"
     ]
    },
    {
     "name": "stdout",
     "output_type": "stream",
     "text": [
      " | > Synthesizing test sentences.\n"
     ]
    },
    {
     "name": "stderr",
     "output_type": "stream",
     "text": [
      "\n",
      "  \u001b[1m--> EVAL PERFORMANCE\u001b[0m\n",
      "     | > avg_loader_time:\u001b[91m 0.05957064628601074 \u001b[0m(+0.03898434638977051)\n",
      "     | > avg_loss:\u001b[92m 2.846604824066162 \u001b[0m(-0.34153971672058114)\n",
      "     | > avg_log_mle:\u001b[92m 0.7169882178306579 \u001b[0m(-0.01450977325439462)\n",
      "     | > avg_loss_dur:\u001b[92m 2.129616641998291 \u001b[0m(-0.32702987194061306)\n",
      "\n",
      " > BEST MODEL : glowtts_train_dir/run-October-21-2024_11+30AM-0000000/best_model_1184.pth\n",
      "\n",
      "\u001b[4m\u001b[1m > EPOCH: 2/100\u001b[0m\n",
      " --> glowtts_train_dir/run-October-21-2024_11+30AM-0000000\n",
      "\n",
      "\u001b[1m > TRAINING (2024-10-21 11:37:30) \u001b[0m\n"
     ]
    },
    {
     "name": "stdout",
     "output_type": "stream",
     "text": [
      "เขา ก็ บ่น เร็ว ๆ ก็ เล่า กัน โฟล ลี่ แนะ นําผม ให้ เวลา เต็มที่ ห้า นาที ก่อนที่ กรุงเทพฯ จะ เข้าไป ร่วมกับ เวลา ปกติ ของ โลก ฮอล ลี่ ก้าว ผ่าน ศูนย์ ที่ เคย เป็น ทางเดิน คม ระยะ เบา ๆ เพราะ แรง แตก ของ ระเบิด แต่ นอกจากนั้น ทุกอย่าง ยังคง สภาพเดิม ที่ เธอ จํา ได้ ทาง ข้างล่าง ห้องขัง ไม่ มี ใคร ตอบ ไม่ มี แม้แต่ คํา เดียว มี ใคร บางคน ออกเสียง ออกมา เสียงดัง ๆ มาย โฟล์ เต็มที่ ฮอล ลี่ หัน มอง ไป รอบด้าน\n",
      " [!] Character 'ฯ' not found in the vocabulary. Discarding it.\n"
     ]
    },
    {
     "name": "stderr",
     "output_type": "stream",
     "text": [
      "\n",
      "\u001b[1m > EVALUATION \u001b[0m\n",
      "\n"
     ]
    },
    {
     "name": "stdout",
     "output_type": "stream",
     "text": [
      " | > Synthesizing test sentences.\n"
     ]
    },
    {
     "name": "stderr",
     "output_type": "stream",
     "text": [
      "\n",
      "  \u001b[1m--> EVAL PERFORMANCE\u001b[0m\n",
      "     | > avg_loader_time:\u001b[92m 0.04642300605773926 \u001b[0m(-0.01314764022827148)\n",
      "     | > avg_loss:\u001b[92m 2.5737678527832033 \u001b[0m(-0.2728369712829588)\n",
      "     | > avg_log_mle:\u001b[92m 0.6646985650062561 \u001b[0m(-0.05228965282440179)\n",
      "     | > avg_loss_dur:\u001b[92m 1.9090692758560182 \u001b[0m(-0.22054736614227277)\n",
      "\n",
      " > BEST MODEL : glowtts_train_dir/run-October-21-2024_11+30AM-0000000/best_model_1776.pth\n",
      "\n",
      "\u001b[4m\u001b[1m > EPOCH: 3/100\u001b[0m\n",
      " --> glowtts_train_dir/run-October-21-2024_11+30AM-0000000\n",
      "\n",
      "\u001b[1m > TRAINING (2024-10-21 11:40:39) \u001b[0m\n",
      "\n",
      "\u001b[1m   --> TIME: 2024-10-21 11:41:48 -- STEP: 224/592 -- GLOBAL_STEP: 2000\u001b[0m\n",
      "     | > loss: 2.212158441543579  (2.4827068485319623)\n",
      "     | > log_mle: 0.5757750868797302  (0.6195155347564391)\n",
      "     | > loss_dur: 1.6363834142684937  (1.8631913103163242)\n",
      "     | > amp_scaler: 16384.0  (16384.0)\n",
      "     | > grad_norm: tensor(4.4882, device='cuda:0')  (tensor(5.0942, device='cuda:0'))\n",
      "     | > current_lr: 7.5e-07 \n",
      "     | > step_time: 0.2454  (0.2975450211337634)\n",
      "     | > loader_time: 0.0023  (0.003904562975679124)\n",
      "\n",
      "\n",
      " > CHECKPOINT : glowtts_train_dir/run-October-21-2024_11+30AM-0000000/checkpoint_2000.pth\n"
     ]
    },
    {
     "name": "stdout",
     "output_type": "stream",
     "text": [
      "เขา ก็ บ่น เร็ว ๆ ก็ เล่า กัน โฟล ลี่ แนะ นําผม ให้ เวลา เต็มที่ ห้า นาที ก่อนที่ กรุงเทพฯ จะ เข้าไป ร่วมกับ เวลา ปกติ ของ โลก ฮอล ลี่ ก้าว ผ่าน ศูนย์ ที่ เคย เป็น ทางเดิน คม ระยะ เบา ๆ เพราะ แรง แตก ของ ระเบิด แต่ นอกจากนั้น ทุกอย่าง ยังคง สภาพเดิม ที่ เธอ จํา ได้ ทาง ข้างล่าง ห้องขัง ไม่ มี ใคร ตอบ ไม่ มี แม้แต่ คํา เดียว มี ใคร บางคน ออกเสียง ออกมา เสียงดัง ๆ มาย โฟล์ เต็มที่ ฮอล ลี่ หัน มอง ไป รอบด้าน\n",
      " [!] Character 'ฯ' not found in the vocabulary. Discarding it.\n"
     ]
    },
    {
     "name": "stderr",
     "output_type": "stream",
     "text": [
      "\n",
      "\u001b[1m > EVALUATION \u001b[0m\n",
      "\n"
     ]
    },
    {
     "name": "stdout",
     "output_type": "stream",
     "text": [
      " | > Synthesizing test sentences.\n"
     ]
    },
    {
     "name": "stderr",
     "output_type": "stream",
     "text": [
      "\n",
      "  \u001b[1m--> EVAL PERFORMANCE\u001b[0m\n",
      "     | > avg_loader_time:\u001b[91m 0.06316947937011719 \u001b[0m(+0.016746473312377927)\n",
      "     | > avg_loss:\u001b[91m 2.6682336807250975 \u001b[0m(+0.09446582794189418)\n",
      "     | > avg_log_mle:\u001b[92m 0.5871011734008789 \u001b[0m(-0.07759739160537726)\n",
      "     | > avg_loss_dur:\u001b[91m 2.081132507324219 \u001b[0m(+0.17206323146820068)\n",
      "\n",
      "\n",
      "\u001b[4m\u001b[1m > EPOCH: 4/100\u001b[0m\n",
      " --> glowtts_train_dir/run-October-21-2024_11+30AM-0000000\n",
      "\n",
      "\u001b[1m > TRAINING (2024-10-21 11:43:48) \u001b[0m\n"
     ]
    },
    {
     "name": "stdout",
     "output_type": "stream",
     "text": [
      "เขา ก็ บ่น เร็ว ๆ ก็ เล่า กัน โฟล ลี่ แนะ นําผม ให้ เวลา เต็มที่ ห้า นาที ก่อนที่ กรุงเทพฯ จะ เข้าไป ร่วมกับ เวลา ปกติ ของ โลก ฮอล ลี่ ก้าว ผ่าน ศูนย์ ที่ เคย เป็น ทางเดิน คม ระยะ เบา ๆ เพราะ แรง แตก ของ ระเบิด แต่ นอกจากนั้น ทุกอย่าง ยังคง สภาพเดิม ที่ เธอ จํา ได้ ทาง ข้างล่าง ห้องขัง ไม่ มี ใคร ตอบ ไม่ มี แม้แต่ คํา เดียว มี ใคร บางคน ออกเสียง ออกมา เสียงดัง ๆ มาย โฟล์ เต็มที่ ฮอล ลี่ หัน มอง ไป รอบด้าน\n",
      " [!] Character 'ฯ' not found in the vocabulary. Discarding it.\n"
     ]
    },
    {
     "name": "stderr",
     "output_type": "stream",
     "text": [
      "\n",
      "\u001b[1m > EVALUATION \u001b[0m\n",
      "\n"
     ]
    },
    {
     "name": "stdout",
     "output_type": "stream",
     "text": [
      " | > Synthesizing test sentences.\n"
     ]
    },
    {
     "name": "stderr",
     "output_type": "stream",
     "text": [
      "\n",
      "  \u001b[1m--> EVAL PERFORMANCE\u001b[0m\n",
      "     | > avg_loader_time:\u001b[92m 0.04792780876159668 \u001b[0m(-0.01524167060852051)\n",
      "     | > avg_loss:\u001b[92m 2.4250600814819334 \u001b[0m(-0.24317359924316406)\n",
      "     | > avg_log_mle:\u001b[92m 0.5151162564754486 \u001b[0m(-0.0719849169254303)\n",
      "     | > avg_loss_dur:\u001b[92m 1.9099437713623046 \u001b[0m(-0.1711887359619142)\n",
      "\n",
      " > BEST MODEL : glowtts_train_dir/run-October-21-2024_11+30AM-0000000/best_model_2960.pth\n",
      "\n",
      "\u001b[4m\u001b[1m > EPOCH: 5/100\u001b[0m\n",
      " --> glowtts_train_dir/run-October-21-2024_11+30AM-0000000\n",
      "\n",
      "\u001b[1m > TRAINING (2024-10-21 11:47:00) \u001b[0m\n",
      "\n",
      "\u001b[1m   --> TIME: 2024-10-21 11:47:13 -- STEP: 40/592 -- GLOBAL_STEP: 3000\u001b[0m\n",
      "     | > loss: 2.4186208248138428  (2.3588052242994304)\n",
      "     | > log_mle: 0.5075526237487793  (0.4961761578917504)\n",
      "     | > loss_dur: 1.9110682010650635  (1.8626290529966354)\n",
      "     | > amp_scaler: 16384.0  (16384.0)\n",
      "     | > grad_norm: tensor(4.3469, device='cuda:0')  (tensor(4.3783, device='cuda:0'))\n",
      "     | > current_lr: 1.2499999999999999e-06 \n",
      "     | > step_time: 0.3214  (0.30631695985794066)\n",
      "     | > loader_time: 0.0024  (0.0033390104770660406)\n",
      "\n",
      "\n",
      " > CHECKPOINT : glowtts_train_dir/run-October-21-2024_11+30AM-0000000/checkpoint_3000.pth\n"
     ]
    },
    {
     "name": "stdout",
     "output_type": "stream",
     "text": [
      "เขา ก็ บ่น เร็ว ๆ ก็ เล่า กัน โฟล ลี่ แนะ นําผม ให้ เวลา เต็มที่ ห้า นาที ก่อนที่ กรุงเทพฯ จะ เข้าไป ร่วมกับ เวลา ปกติ ของ โลก ฮอล ลี่ ก้าว ผ่าน ศูนย์ ที่ เคย เป็น ทางเดิน คม ระยะ เบา ๆ เพราะ แรง แตก ของ ระเบิด แต่ นอกจากนั้น ทุกอย่าง ยังคง สภาพเดิม ที่ เธอ จํา ได้ ทาง ข้างล่าง ห้องขัง ไม่ มี ใคร ตอบ ไม่ มี แม้แต่ คํา เดียว มี ใคร บางคน ออกเสียง ออกมา เสียงดัง ๆ มาย โฟล์ เต็มที่ ฮอล ลี่ หัน มอง ไป รอบด้าน\n",
      " [!] Character 'ฯ' not found in the vocabulary. Discarding it.\n"
     ]
    },
    {
     "name": "stderr",
     "output_type": "stream",
     "text": [
      "\n",
      "\u001b[1m > EVALUATION \u001b[0m\n",
      "\n"
     ]
    },
    {
     "name": "stdout",
     "output_type": "stream",
     "text": [
      " | > Synthesizing test sentences.\n"
     ]
    },
    {
     "name": "stderr",
     "output_type": "stream",
     "text": [
      "\n",
      "  \u001b[1m--> EVAL PERFORMANCE\u001b[0m\n",
      "     | > avg_loader_time:\u001b[92m 0.0466559886932373 \u001b[0m(-0.0012718200683593736)\n",
      "     | > avg_loss:\u001b[92m 2.137856960296631 \u001b[0m(-0.28720312118530256)\n",
      "     | > avg_log_mle:\u001b[92m 0.4446942567825317 \u001b[0m(-0.07042199969291685)\n",
      "     | > avg_loss_dur:\u001b[92m 1.693162703514099 \u001b[0m(-0.2167810678482056)\n",
      "\n",
      " > BEST MODEL : glowtts_train_dir/run-October-21-2024_11+30AM-0000000/best_model_3552.pth\n",
      "\n",
      "\u001b[4m\u001b[1m > EPOCH: 6/100\u001b[0m\n",
      " --> glowtts_train_dir/run-October-21-2024_11+30AM-0000000\n",
      "\n",
      "\u001b[1m > TRAINING (2024-10-21 11:50:14) \u001b[0m\n",
      "\n",
      "\u001b[1m   --> TIME: 2024-10-21 11:52:31 -- STEP: 448/592 -- GLOBAL_STEP: 4000\u001b[0m\n",
      "     | > loss: 1.625307559967041  (2.008438478357025)\n",
      "     | > log_mle: 0.3799658417701721  (0.39680783284295895)\n",
      "     | > loss_dur: 1.2453417778015137  (1.6116306425205305)\n",
      "     | > amp_scaler: 16384.0  (16384.0)\n",
      "     | > grad_norm: tensor(2.9849, device='cuda:0')  (tensor(3.6146, device='cuda:0'))\n",
      "     | > current_lr: 1.5e-06 \n",
      "     | > step_time: 0.3001  (0.29777758036341)\n",
      "     | > loader_time: 0.002  (0.0037054728184427533)\n",
      "\n",
      "\n",
      " > CHECKPOINT : glowtts_train_dir/run-October-21-2024_11+30AM-0000000/checkpoint_4000.pth\n"
     ]
    },
    {
     "name": "stdout",
     "output_type": "stream",
     "text": [
      "เขา ก็ บ่น เร็ว ๆ ก็ เล่า กัน โฟล ลี่ แนะ นําผม ให้ เวลา เต็มที่ ห้า นาที ก่อนที่ กรุงเทพฯ จะ เข้าไป ร่วมกับ เวลา ปกติ ของ โลก ฮอล ลี่ ก้าว ผ่าน ศูนย์ ที่ เคย เป็น ทางเดิน คม ระยะ เบา ๆ เพราะ แรง แตก ของ ระเบิด แต่ นอกจากนั้น ทุกอย่าง ยังคง สภาพเดิม ที่ เธอ จํา ได้ ทาง ข้างล่าง ห้องขัง ไม่ มี ใคร ตอบ ไม่ มี แม้แต่ คํา เดียว มี ใคร บางคน ออกเสียง ออกมา เสียงดัง ๆ มาย โฟล์ เต็มที่ ฮอล ลี่ หัน มอง ไป รอบด้าน\n",
      " [!] Character 'ฯ' not found in the vocabulary. Discarding it.\n"
     ]
    },
    {
     "name": "stderr",
     "output_type": "stream",
     "text": [
      "\n",
      "\u001b[1m > EVALUATION \u001b[0m\n",
      "\n"
     ]
    },
    {
     "name": "stdout",
     "output_type": "stream",
     "text": [
      " | > Synthesizing test sentences.\n"
     ]
    },
    {
     "name": "stderr",
     "output_type": "stream",
     "text": [
      "\n",
      "  \u001b[1m--> EVAL PERFORMANCE\u001b[0m\n",
      "     | > avg_loader_time:\u001b[91m 0.0756453037261963 \u001b[0m(+0.02898931503295899)\n",
      "     | > avg_loss:\u001b[92m 1.8980582237243653 \u001b[0m(-0.23979873657226558)\n",
      "     | > avg_log_mle:\u001b[92m 0.38071189522743226 \u001b[0m(-0.06398236155509945)\n",
      "     | > avg_loss_dur:\u001b[92m 1.5173463106155396 \u001b[0m(-0.17581639289855944)\n",
      "\n",
      " > BEST MODEL : glowtts_train_dir/run-October-21-2024_11+30AM-0000000/best_model_4144.pth\n",
      "\n",
      "\u001b[4m\u001b[1m > EPOCH: 7/100\u001b[0m\n",
      " --> glowtts_train_dir/run-October-21-2024_11+30AM-0000000\n",
      "\n",
      "\u001b[1m > TRAINING (2024-10-21 11:53:30) \u001b[0m\n"
     ]
    },
    {
     "name": "stdout",
     "output_type": "stream",
     "text": [
      "เขา ก็ บ่น เร็ว ๆ ก็ เล่า กัน โฟล ลี่ แนะ นําผม ให้ เวลา เต็มที่ ห้า นาที ก่อนที่ กรุงเทพฯ จะ เข้าไป ร่วมกับ เวลา ปกติ ของ โลก ฮอล ลี่ ก้าว ผ่าน ศูนย์ ที่ เคย เป็น ทางเดิน คม ระยะ เบา ๆ เพราะ แรง แตก ของ ระเบิด แต่ นอกจากนั้น ทุกอย่าง ยังคง สภาพเดิม ที่ เธอ จํา ได้ ทาง ข้างล่าง ห้องขัง ไม่ มี ใคร ตอบ ไม่ มี แม้แต่ คํา เดียว มี ใคร บางคน ออกเสียง ออกมา เสียงดัง ๆ มาย โฟล์ เต็มที่ ฮอล ลี่ หัน มอง ไป รอบด้าน\n",
      " [!] Character 'ฯ' not found in the vocabulary. Discarding it.\n"
     ]
    },
    {
     "name": "stderr",
     "output_type": "stream",
     "text": [
      "\n",
      "\u001b[1m > EVALUATION \u001b[0m\n",
      "\n"
     ]
    },
    {
     "name": "stdout",
     "output_type": "stream",
     "text": [
      " | > Synthesizing test sentences.\n"
     ]
    },
    {
     "name": "stderr",
     "output_type": "stream",
     "text": [
      "\n",
      "  \u001b[1m--> EVAL PERFORMANCE\u001b[0m\n",
      "     | > avg_loader_time:\u001b[92m 0.07555603981018066 \u001b[0m(-8.926391601563055e-05)\n",
      "     | > avg_loss:\u001b[92m 1.7159178495407104 \u001b[0m(-0.18214037418365492)\n",
      "     | > avg_log_mle:\u001b[92m 0.321124005317688 \u001b[0m(-0.059587889909744285)\n",
      "     | > avg_loss_dur:\u001b[92m 1.3947938203811645 \u001b[0m(-0.12255249023437509)\n",
      "\n",
      " > BEST MODEL : glowtts_train_dir/run-October-21-2024_11+30AM-0000000/best_model_4736.pth\n",
      "\n",
      "\u001b[4m\u001b[1m > EPOCH: 8/100\u001b[0m\n",
      " --> glowtts_train_dir/run-October-21-2024_11+30AM-0000000\n",
      "\n",
      "\u001b[1m > TRAINING (2024-10-21 11:56:41) \u001b[0m\n",
      "/home/voice-cloning-finetune/TTS/TTS/tts/models/glow_tts.py:415: FutureWarning: `torch.cuda.amp.autocast(args...)` is deprecated. Please use `torch.amp.autocast('cuda', args...)` instead.\n",
      "  with autocast(enabled=False):  # avoid mixed_precision in criterion\n",
      "\n",
      "\u001b[1m   --> TIME: 2024-10-21 11:58:04 -- STEP: 264/592 -- GLOBAL_STEP: 5000\u001b[0m\n",
      "     | > loss: 1.3766059875488281  (1.670612700960853)\n",
      "     | > log_mle: 0.23605233430862427  (0.2940193424847992)\n",
      "     | > loss_dur: 1.140553593635559  (1.3765933583631655)\n",
      "     | > amp_scaler: 16384.0  (16384.0)\n",
      "     | > grad_norm: tensor(2.3930, device='cuda:0')  (tensor(3.0993, device='cuda:0'))\n",
      "     | > current_lr: 2e-06 \n",
      "     | > step_time: 0.1976  (0.30024516221248754)\n",
      "     | > loader_time: 0.0026  (0.003423203121532093)\n",
      "\n",
      "\n",
      " > CHECKPOINT : glowtts_train_dir/run-October-21-2024_11+30AM-0000000/checkpoint_5000.pth\n"
     ]
    },
    {
     "name": "stdout",
     "output_type": "stream",
     "text": [
      "เขา ก็ บ่น เร็ว ๆ ก็ เล่า กัน โฟล ลี่ แนะ นําผม ให้ เวลา เต็มที่ ห้า นาที ก่อนที่ กรุงเทพฯ จะ เข้าไป ร่วมกับ เวลา ปกติ ของ โลก ฮอล ลี่ ก้าว ผ่าน ศูนย์ ที่ เคย เป็น ทางเดิน คม ระยะ เบา ๆ เพราะ แรง แตก ของ ระเบิด แต่ นอกจากนั้น ทุกอย่าง ยังคง สภาพเดิม ที่ เธอ จํา ได้ ทาง ข้างล่าง ห้องขัง ไม่ มี ใคร ตอบ ไม่ มี แม้แต่ คํา เดียว มี ใคร บางคน ออกเสียง ออกมา เสียงดัง ๆ มาย โฟล์ เต็มที่ ฮอล ลี่ หัน มอง ไป รอบด้าน\n",
      " [!] Character 'ฯ' not found in the vocabulary. Discarding it.\n"
     ]
    },
    {
     "name": "stderr",
     "output_type": "stream",
     "text": [
      "\n",
      "\u001b[1m > EVALUATION \u001b[0m\n",
      "\n"
     ]
    },
    {
     "name": "stdout",
     "output_type": "stream",
     "text": [
      " | > Synthesizing test sentences.\n"
     ]
    },
    {
     "name": "stderr",
     "output_type": "stream",
     "text": [
      "\n",
      "  \u001b[1m--> EVAL PERFORMANCE\u001b[0m\n",
      "     | > avg_loader_time:\u001b[92m 0.053739500045776364 \u001b[0m(-0.0218165397644043)\n",
      "     | > avg_loss:\u001b[92m 1.5594728946685792 \u001b[0m(-0.15644495487213117)\n",
      "     | > avg_log_mle:\u001b[92m 0.26754614114761355 \u001b[0m(-0.05357786417007443)\n",
      "     | > avg_loss_dur:\u001b[92m 1.2919267654418944 \u001b[0m(-0.10286705493927006)\n",
      "\n",
      " > BEST MODEL : glowtts_train_dir/run-October-21-2024_11+30AM-0000000/best_model_5328.pth\n",
      "\n",
      "\u001b[4m\u001b[1m > EPOCH: 9/100\u001b[0m\n",
      " --> glowtts_train_dir/run-October-21-2024_11+30AM-0000000\n",
      "\n",
      "\u001b[1m > TRAINING (2024-10-21 12:00:00) \u001b[0m\n"
     ]
    },
    {
     "name": "stdout",
     "output_type": "stream",
     "text": [
      "เขา ก็ บ่น เร็ว ๆ ก็ เล่า กัน โฟล ลี่ แนะ นําผม ให้ เวลา เต็มที่ ห้า นาที ก่อนที่ กรุงเทพฯ จะ เข้าไป ร่วมกับ เวลา ปกติ ของ โลก ฮอล ลี่ ก้าว ผ่าน ศูนย์ ที่ เคย เป็น ทางเดิน คม ระยะ เบา ๆ เพราะ แรง แตก ของ ระเบิด แต่ นอกจากนั้น ทุกอย่าง ยังคง สภาพเดิม ที่ เธอ จํา ได้ ทาง ข้างล่าง ห้องขัง ไม่ มี ใคร ตอบ ไม่ มี แม้แต่ คํา เดียว มี ใคร บางคน ออกเสียง ออกมา เสียงดัง ๆ มาย โฟล์ เต็มที่ ฮอล ลี่ หัน มอง ไป รอบด้าน\n",
      " [!] Character 'ฯ' not found in the vocabulary. Discarding it.\n"
     ]
    },
    {
     "name": "stderr",
     "output_type": "stream",
     "text": [
      "\n",
      "\u001b[1m > EVALUATION \u001b[0m\n",
      "\n"
     ]
    },
    {
     "name": "stdout",
     "output_type": "stream",
     "text": [
      " | > Synthesizing test sentences.\n"
     ]
    },
    {
     "name": "stderr",
     "output_type": "stream",
     "text": [
      "\n",
      "  \u001b[1m--> EVAL PERFORMANCE\u001b[0m\n",
      "     | > avg_loader_time:\u001b[92m 0.04954719543457031 \u001b[0m(-0.004192304611206052)\n",
      "     | > avg_loss:\u001b[92m 1.4123968362808228 \u001b[0m(-0.1470760583877564)\n",
      "     | > avg_log_mle:\u001b[92m 0.22172871828079224 \u001b[0m(-0.045817422866821306)\n",
      "     | > avg_loss_dur:\u001b[92m 1.1906681060791016 \u001b[0m(-0.10125865936279288)\n",
      "\n",
      " > BEST MODEL : glowtts_train_dir/run-October-21-2024_11+30AM-0000000/best_model_5920.pth\n",
      "\n",
      "\u001b[4m\u001b[1m > EPOCH: 10/100\u001b[0m\n",
      " --> glowtts_train_dir/run-October-21-2024_11+30AM-0000000\n",
      "\n",
      "\u001b[1m > TRAINING (2024-10-21 12:03:14) \u001b[0m\n",
      "\n",
      "\u001b[1m   --> TIME: 2024-10-21 12:03:39 -- STEP: 80/592 -- GLOBAL_STEP: 6000\u001b[0m\n",
      "     | > loss: 1.5390112400054932  (1.4259276151657099)\n",
      "     | > log_mle: 0.30640721321105957  (0.21561407223343848)\n",
      "     | > loss_dur: 1.2326040267944336  (1.2103135384619237)\n",
      "     | > amp_scaler: 16384.0  (16384.0)\n",
      "     | > grad_norm: tensor(3.0223, device='cuda:0')  (tensor(3.6433, device='cuda:0'))\n",
      "     | > current_lr: 2.4999999999999998e-06 \n",
      "     | > step_time: 0.2293  (0.29591771364212033)\n",
      "     | > loader_time: 0.005  (0.00353618860244751)\n",
      "\n",
      "\n",
      " > CHECKPOINT : glowtts_train_dir/run-October-21-2024_11+30AM-0000000/checkpoint_6000.pth\n"
     ]
    },
    {
     "name": "stdout",
     "output_type": "stream",
     "text": [
      "เขา ก็ บ่น เร็ว ๆ ก็ เล่า กัน โฟล ลี่ แนะ นําผม ให้ เวลา เต็มที่ ห้า นาที ก่อนที่ กรุงเทพฯ จะ เข้าไป ร่วมกับ เวลา ปกติ ของ โลก ฮอล ลี่ ก้าว ผ่าน ศูนย์ ที่ เคย เป็น ทางเดิน คม ระยะ เบา ๆ เพราะ แรง แตก ของ ระเบิด แต่ นอกจากนั้น ทุกอย่าง ยังคง สภาพเดิม ที่ เธอ จํา ได้ ทาง ข้างล่าง ห้องขัง ไม่ มี ใคร ตอบ ไม่ มี แม้แต่ คํา เดียว มี ใคร บางคน ออกเสียง ออกมา เสียงดัง ๆ มาย โฟล์ เต็มที่ ฮอล ลี่ หัน มอง ไป รอบด้าน\n",
      " [!] Character 'ฯ' not found in the vocabulary. Discarding it.\n"
     ]
    },
    {
     "name": "stderr",
     "output_type": "stream",
     "text": [
      "\n",
      "\u001b[1m > EVALUATION \u001b[0m\n",
      "\n"
     ]
    },
    {
     "name": "stdout",
     "output_type": "stream",
     "text": [
      " | > Synthesizing test sentences.\n"
     ]
    },
    {
     "name": "stderr",
     "output_type": "stream",
     "text": [
      "\n",
      "  \u001b[1m--> EVAL PERFORMANCE\u001b[0m\n",
      "     | > avg_loader_time:\u001b[91m 0.05669193267822266 \u001b[0m(+0.0071447372436523465)\n",
      "     | > avg_loss:\u001b[92m 1.2909221410751344 \u001b[0m(-0.12147469520568843)\n",
      "     | > avg_log_mle:\u001b[92m 0.18202306032180787 \u001b[0m(-0.03970565795898437)\n",
      "     | > avg_loss_dur:\u001b[92m 1.1088990807533263 \u001b[0m(-0.08176902532577524)\n",
      "\n",
      " > BEST MODEL : glowtts_train_dir/run-October-21-2024_11+30AM-0000000/best_model_6512.pth\n",
      "\n",
      "\u001b[4m\u001b[1m > EPOCH: 11/100\u001b[0m\n",
      " --> glowtts_train_dir/run-October-21-2024_11+30AM-0000000\n",
      "\n",
      "\u001b[1m > TRAINING (2024-10-21 12:06:30) \u001b[0m\n",
      "\n",
      "\u001b[1m   --> TIME: 2024-10-21 12:08:59 -- STEP: 488/592 -- GLOBAL_STEP: 7000\u001b[0m\n",
      "     | > loss: 1.3832316398620605  (1.2535159710000787)\n",
      "     | > log_mle: 0.15644925832748413  (0.16029781029849732)\n",
      "     | > loss_dur: 1.2267823219299316  (1.0932181619229873)\n",
      "     | > amp_scaler: 32768.0  (32768.0)\n",
      "     | > grad_norm: tensor(6.7228, device='cuda:0')  (tensor(4.9455, device='cuda:0'))\n",
      "     | > current_lr: 2.75e-06 \n",
      "     | > step_time: 0.2319  (0.2980275227398167)\n",
      "     | > loader_time: 0.0028  (0.003612308228602175)\n",
      "\n",
      "\n",
      " > CHECKPOINT : glowtts_train_dir/run-October-21-2024_11+30AM-0000000/checkpoint_7000.pth\n"
     ]
    },
    {
     "name": "stdout",
     "output_type": "stream",
     "text": [
      "เขา ก็ บ่น เร็ว ๆ ก็ เล่า กัน โฟล ลี่ แนะ นําผม ให้ เวลา เต็มที่ ห้า นาที ก่อนที่ กรุงเทพฯ จะ เข้าไป ร่วมกับ เวลา ปกติ ของ โลก ฮอล ลี่ ก้าว ผ่าน ศูนย์ ที่ เคย เป็น ทางเดิน คม ระยะ เบา ๆ เพราะ แรง แตก ของ ระเบิด แต่ นอกจากนั้น ทุกอย่าง ยังคง สภาพเดิม ที่ เธอ จํา ได้ ทาง ข้างล่าง ห้องขัง ไม่ มี ใคร ตอบ ไม่ มี แม้แต่ คํา เดียว มี ใคร บางคน ออกเสียง ออกมา เสียงดัง ๆ มาย โฟล์ เต็มที่ ฮอล ลี่ หัน มอง ไป รอบด้าน\n",
      " [!] Character 'ฯ' not found in the vocabulary. Discarding it.\n"
     ]
    },
    {
     "name": "stderr",
     "output_type": "stream",
     "text": [
      "\n",
      "\u001b[1m > EVALUATION \u001b[0m\n",
      "\n"
     ]
    },
    {
     "name": "stdout",
     "output_type": "stream",
     "text": [
      " | > Synthesizing test sentences.\n"
     ]
    },
    {
     "name": "stderr",
     "output_type": "stream",
     "text": [
      "\n",
      "  \u001b[1m--> EVAL PERFORMANCE\u001b[0m\n",
      "     | > avg_loader_time:\u001b[91m 0.07145519256591797 \u001b[0m(+0.014763259887695307)\n",
      "     | > avg_loss:\u001b[92m 1.1833046674728394 \u001b[0m(-0.10761747360229501)\n",
      "     | > avg_log_mle:\u001b[92m 0.14825795888900756 \u001b[0m(-0.033765101432800315)\n",
      "     | > avg_loss_dur:\u001b[92m 1.0350467205047607 \u001b[0m(-0.07385236024856567)\n",
      "\n",
      " > BEST MODEL : glowtts_train_dir/run-October-21-2024_11+30AM-0000000/best_model_7104.pth\n",
      "\n",
      "\u001b[4m\u001b[1m > EPOCH: 12/100\u001b[0m\n",
      " --> glowtts_train_dir/run-October-21-2024_11+30AM-0000000\n",
      "\n",
      "\u001b[1m > TRAINING (2024-10-21 12:09:49) \u001b[0m\n"
     ]
    },
    {
     "name": "stdout",
     "output_type": "stream",
     "text": [
      "เขา ก็ บ่น เร็ว ๆ ก็ เล่า กัน โฟล ลี่ แนะ นําผม ให้ เวลา เต็มที่ ห้า นาที ก่อนที่ กรุงเทพฯ จะ เข้าไป ร่วมกับ เวลา ปกติ ของ โลก ฮอล ลี่ ก้าว ผ่าน ศูนย์ ที่ เคย เป็น ทางเดิน คม ระยะ เบา ๆ เพราะ แรง แตก ของ ระเบิด แต่ นอกจากนั้น ทุกอย่าง ยังคง สภาพเดิม ที่ เธอ จํา ได้ ทาง ข้างล่าง ห้องขัง ไม่ มี ใคร ตอบ ไม่ มี แม้แต่ คํา เดียว มี ใคร บางคน ออกเสียง ออกมา เสียงดัง ๆ มาย โฟล์ เต็มที่ ฮอล ลี่ หัน มอง ไป รอบด้าน\n",
      " [!] Character 'ฯ' not found in the vocabulary. Discarding it.\n"
     ]
    },
    {
     "name": "stderr",
     "output_type": "stream",
     "text": [
      "\n",
      "\u001b[1m > EVALUATION \u001b[0m\n",
      "\n"
     ]
    },
    {
     "name": "stdout",
     "output_type": "stream",
     "text": [
      " | > Synthesizing test sentences.\n"
     ]
    },
    {
     "name": "stderr",
     "output_type": "stream",
     "text": [
      "\n",
      "  \u001b[1m--> EVAL PERFORMANCE\u001b[0m\n",
      "     | > avg_loader_time:\u001b[92m 0.04135065078735352 \u001b[0m(-0.030104541778564448)\n",
      "     | > avg_loss:\u001b[92m 1.091310691833496 \u001b[0m(-0.0919939756393433)\n",
      "     | > avg_log_mle:\u001b[92m 0.11880705356597901 \u001b[0m(-0.029450905323028548)\n",
      "     | > avg_loss_dur:\u001b[92m 0.9725036740303039 \u001b[0m(-0.06254304647445674)\n",
      "\n",
      " > BEST MODEL : glowtts_train_dir/run-October-21-2024_11+30AM-0000000/best_model_7696.pth\n",
      "\n",
      "\u001b[4m\u001b[1m > EPOCH: 13/100\u001b[0m\n",
      " --> glowtts_train_dir/run-October-21-2024_11+30AM-0000000\n",
      "\n",
      "\u001b[1m > TRAINING (2024-10-21 12:13:03) \u001b[0m\n",
      "\n",
      "\u001b[1m   --> TIME: 2024-10-21 12:14:36 -- STEP: 304/592 -- GLOBAL_STEP: 8000\u001b[0m\n",
      "     | > loss: 0.9592410326004028  (1.079595795195354)\n",
      "     | > log_mle: 0.09866970777511597  (0.1052329475550275)\n",
      "     | > loss_dur: 0.8605713248252869  (0.9743628517577523)\n",
      "     | > amp_scaler: 16384.0  (16384.0)\n",
      "     | > grad_norm: tensor(3.8694, device='cuda:0')  (tensor(7.9734, device='cuda:0'))\n",
      "     | > current_lr: 3.25e-06 \n",
      "     | > step_time: 0.2149  (0.29689504676743544)\n",
      "     | > loader_time: 0.0029  (0.003870754649764616)\n",
      "\n",
      "\n",
      " > CHECKPOINT : glowtts_train_dir/run-October-21-2024_11+30AM-0000000/checkpoint_8000.pth\n"
     ]
    },
    {
     "name": "stdout",
     "output_type": "stream",
     "text": [
      "เขา ก็ บ่น เร็ว ๆ ก็ เล่า กัน โฟล ลี่ แนะ นําผม ให้ เวลา เต็มที่ ห้า นาที ก่อนที่ กรุงเทพฯ จะ เข้าไป ร่วมกับ เวลา ปกติ ของ โลก ฮอล ลี่ ก้าว ผ่าน ศูนย์ ที่ เคย เป็น ทางเดิน คม ระยะ เบา ๆ เพราะ แรง แตก ของ ระเบิด แต่ นอกจากนั้น ทุกอย่าง ยังคง สภาพเดิม ที่ เธอ จํา ได้ ทาง ข้างล่าง ห้องขัง ไม่ มี ใคร ตอบ ไม่ มี แม้แต่ คํา เดียว มี ใคร บางคน ออกเสียง ออกมา เสียงดัง ๆ มาย โฟล์ เต็มที่ ฮอล ลี่ หัน มอง ไป รอบด้าน\n",
      " [!] Character 'ฯ' not found in the vocabulary. Discarding it.\n"
     ]
    },
    {
     "name": "stderr",
     "output_type": "stream",
     "text": [
      "\n",
      "\u001b[1m > EVALUATION \u001b[0m\n",
      "\n"
     ]
    },
    {
     "name": "stdout",
     "output_type": "stream",
     "text": [
      " | > Synthesizing test sentences.\n"
     ]
    },
    {
     "name": "stderr",
     "output_type": "stream",
     "text": [
      "\n",
      "  \u001b[1m--> EVAL PERFORMANCE\u001b[0m\n",
      "     | > avg_loader_time:\u001b[91m 0.04786205291748047 \u001b[0m(+0.00651140213012695)\n",
      "     | > avg_loss:\u001b[92m 1.0164949774742127 \u001b[0m(-0.07481571435928336)\n",
      "     | > avg_log_mle:\u001b[92m 0.09599213600158692 \u001b[0m(-0.022814917564392093)\n",
      "     | > avg_loss_dur:\u001b[92m 0.9205028414726257 \u001b[0m(-0.05200083255767818)\n",
      "\n",
      " > BEST MODEL : glowtts_train_dir/run-October-21-2024_11+30AM-0000000/best_model_8288.pth\n",
      "\n",
      "\u001b[4m\u001b[1m > EPOCH: 14/100\u001b[0m\n",
      " --> glowtts_train_dir/run-October-21-2024_11+30AM-0000000\n",
      "\n",
      "\u001b[1m > TRAINING (2024-10-21 12:16:24) \u001b[0m\n"
     ]
    },
    {
     "name": "stdout",
     "output_type": "stream",
     "text": [
      "เขา ก็ บ่น เร็ว ๆ ก็ เล่า กัน โฟล ลี่ แนะ นําผม ให้ เวลา เต็มที่ ห้า นาที ก่อนที่ กรุงเทพฯ จะ เข้าไป ร่วมกับ เวลา ปกติ ของ โลก ฮอล ลี่ ก้าว ผ่าน ศูนย์ ที่ เคย เป็น ทางเดิน คม ระยะ เบา ๆ เพราะ แรง แตก ของ ระเบิด แต่ นอกจากนั้น ทุกอย่าง ยังคง สภาพเดิม ที่ เธอ จํา ได้ ทาง ข้างล่าง ห้องขัง ไม่ มี ใคร ตอบ ไม่ มี แม้แต่ คํา เดียว มี ใคร บางคน ออกเสียง ออกมา เสียงดัง ๆ มาย โฟล์ เต็มที่ ฮอล ลี่ หัน มอง ไป รอบด้าน\n",
      " [!] Character 'ฯ' not found in the vocabulary. Discarding it.\n"
     ]
    },
    {
     "name": "stderr",
     "output_type": "stream",
     "text": [
      "\n",
      "\u001b[1m > EVALUATION \u001b[0m\n",
      "\n"
     ]
    },
    {
     "name": "stdout",
     "output_type": "stream",
     "text": [
      " | > Synthesizing test sentences.\n"
     ]
    },
    {
     "name": "stderr",
     "output_type": "stream",
     "text": [
      "\n",
      "  \u001b[1m--> EVAL PERFORMANCE\u001b[0m\n",
      "     | > avg_loader_time:\u001b[91m 0.051706695556640626 \u001b[0m(+0.0038446426391601576)\n",
      "     | > avg_loss:\u001b[92m 0.9539905786514282 \u001b[0m(-0.06250439882278447)\n",
      "     | > avg_log_mle:\u001b[92m 0.07632898092269898 \u001b[0m(-0.01966315507888794)\n",
      "     | > avg_loss_dur:\u001b[92m 0.8776615977287292 \u001b[0m(-0.04284124374389653)\n",
      "\n",
      " > BEST MODEL : glowtts_train_dir/run-October-21-2024_11+30AM-0000000/best_model_8880.pth\n",
      "\n",
      "\u001b[4m\u001b[1m > EPOCH: 15/100\u001b[0m\n",
      " --> glowtts_train_dir/run-October-21-2024_11+30AM-0000000\n",
      "\n",
      "\u001b[1m > TRAINING (2024-10-21 12:19:38) \u001b[0m\n",
      "\n",
      "\u001b[1m   --> TIME: 2024-10-21 12:20:18 -- STEP: 120/592 -- GLOBAL_STEP: 9000\u001b[0m\n",
      "     | > loss: 0.9688535332679749  (0.9686068271597227)\n",
      "     | > log_mle: 0.09739702939987183  (0.06272171139717102)\n",
      "     | > loss_dur: 0.871456503868103  (0.905885116259257)\n",
      "     | > amp_scaler: 16384.0  (16384.0)\n",
      "     | > grad_norm: tensor(0.9137, device='cuda:0')  (tensor(11.6541, device='cuda:0'))\n",
      "     | > current_lr: 3.7499999999999997e-06 \n",
      "     | > step_time: 0.3922  (0.3131305515766144)\n",
      "     | > loader_time: 0.0175  (0.0036386529604593913)\n",
      "\n",
      "\n",
      " > CHECKPOINT : glowtts_train_dir/run-October-21-2024_11+30AM-0000000/checkpoint_9000.pth\n"
     ]
    },
    {
     "name": "stdout",
     "output_type": "stream",
     "text": [
      "เขา ก็ บ่น เร็ว ๆ ก็ เล่า กัน โฟล ลี่ แนะ นําผม ให้ เวลา เต็มที่ ห้า นาที ก่อนที่ กรุงเทพฯ จะ เข้าไป ร่วมกับ เวลา ปกติ ของ โลก ฮอล ลี่ ก้าว ผ่าน ศูนย์ ที่ เคย เป็น ทางเดิน คม ระยะ เบา ๆ เพราะ แรง แตก ของ ระเบิด แต่ นอกจากนั้น ทุกอย่าง ยังคง สภาพเดิม ที่ เธอ จํา ได้ ทาง ข้างล่าง ห้องขัง ไม่ มี ใคร ตอบ ไม่ มี แม้แต่ คํา เดียว มี ใคร บางคน ออกเสียง ออกมา เสียงดัง ๆ มาย โฟล์ เต็มที่ ฮอล ลี่ หัน มอง ไป รอบด้าน\n",
      " [!] Character 'ฯ' not found in the vocabulary. Discarding it.\n"
     ]
    },
    {
     "name": "stderr",
     "output_type": "stream",
     "text": [
      "\n",
      "\u001b[1m > EVALUATION \u001b[0m\n",
      "\n"
     ]
    },
    {
     "name": "stdout",
     "output_type": "stream",
     "text": [
      " | > Synthesizing test sentences.\n"
     ]
    },
    {
     "name": "stderr",
     "output_type": "stream",
     "text": [
      "\n",
      "  \u001b[1m--> EVAL PERFORMANCE\u001b[0m\n",
      "     | > avg_loader_time:\u001b[91m 0.0521294116973877 \u001b[0m(+0.0004227161407470703)\n",
      "     | > avg_loss:\u001b[92m 0.8944393992424011 \u001b[0m(-0.0595511794090271)\n",
      "     | > avg_log_mle:\u001b[92m 0.04889024496078491 \u001b[0m(-0.027438735961914068)\n",
      "     | > avg_loss_dur:\u001b[92m 0.8455491542816163 \u001b[0m(-0.03211244344711295)\n",
      "\n",
      " > BEST MODEL : glowtts_train_dir/run-October-21-2024_11+30AM-0000000/best_model_9472.pth\n",
      "\n",
      "\u001b[4m\u001b[1m > EPOCH: 16/100\u001b[0m\n",
      " --> glowtts_train_dir/run-October-21-2024_11+30AM-0000000\n",
      "\n",
      "\u001b[1m > TRAINING (2024-10-21 12:23:02) \u001b[0m\n",
      "\n",
      "\u001b[1m   --> TIME: 2024-10-21 12:25:47 -- STEP: 528/592 -- GLOBAL_STEP: 10000\u001b[0m\n",
      "     | > loss: 0.9217908978462219  (0.8835068970467105)\n",
      "     | > log_mle: -0.042079031467437744  (0.025633090486129127)\n",
      "     | > loss_dur: 0.9638699293136597  (0.857873806673469)\n",
      "     | > amp_scaler: 4096.0  (12575.03030303031)\n",
      "     | > grad_norm: tensor(15.7305, device='cuda:0')  (tensor(15.0549, device='cuda:0'))\n",
      "     | > current_lr: 4e-06 \n",
      "     | > step_time: 0.2564  (0.30393304291999673)\n",
      "     | > loader_time: 0.0049  (0.003926665945486588)\n",
      "\n",
      "\n",
      " > CHECKPOINT : glowtts_train_dir/run-October-21-2024_11+30AM-0000000/checkpoint_10000.pth\n"
     ]
    },
    {
     "name": "stdout",
     "output_type": "stream",
     "text": [
      "เขา ก็ บ่น เร็ว ๆ ก็ เล่า กัน โฟล ลี่ แนะ นําผม ให้ เวลา เต็มที่ ห้า นาที ก่อนที่ กรุงเทพฯ จะ เข้าไป ร่วมกับ เวลา ปกติ ของ โลก ฮอล ลี่ ก้าว ผ่าน ศูนย์ ที่ เคย เป็น ทางเดิน คม ระยะ เบา ๆ เพราะ แรง แตก ของ ระเบิด แต่ นอกจากนั้น ทุกอย่าง ยังคง สภาพเดิม ที่ เธอ จํา ได้ ทาง ข้างล่าง ห้องขัง ไม่ มี ใคร ตอบ ไม่ มี แม้แต่ คํา เดียว มี ใคร บางคน ออกเสียง ออกมา เสียงดัง ๆ มาย โฟล์ เต็มที่ ฮอล ลี่ หัน มอง ไป รอบด้าน\n",
      " [!] Character 'ฯ' not found in the vocabulary. Discarding it.\n"
     ]
    },
    {
     "name": "stderr",
     "output_type": "stream",
     "text": [
      "\n",
      "\u001b[1m > EVALUATION \u001b[0m\n",
      "\n"
     ]
    },
    {
     "name": "stdout",
     "output_type": "stream",
     "text": [
      " | > Synthesizing test sentences.\n"
     ]
    },
    {
     "name": "stderr",
     "output_type": "stream",
     "text": [
      "\n",
      "  \u001b[1m--> EVAL PERFORMANCE\u001b[0m\n",
      "     | > avg_loader_time:\u001b[92m 0.04596872329711914 \u001b[0m(-0.006160688400268559)\n",
      "     | > avg_loss:\u001b[92m 0.8905058145523072 \u001b[0m(-0.003933584690093972)\n",
      "     | > avg_log_mle:\u001b[91m 0.06683648824691772 \u001b[0m(+0.017946243286132812)\n",
      "     | > avg_loss_dur:\u001b[92m 0.8236693263053894 \u001b[0m(-0.021879827976226895)\n",
      "\n",
      " > BEST MODEL : glowtts_train_dir/run-October-21-2024_11+30AM-0000000/best_model_10064.pth\n",
      "\n",
      "\u001b[4m\u001b[1m > EPOCH: 17/100\u001b[0m\n",
      " --> glowtts_train_dir/run-October-21-2024_11+30AM-0000000\n",
      "\n",
      "\u001b[1m > TRAINING (2024-10-21 12:26:26) \u001b[0m\n"
     ]
    },
    {
     "name": "stdout",
     "output_type": "stream",
     "text": [
      "เขา ก็ บ่น เร็ว ๆ ก็ เล่า กัน โฟล ลี่ แนะ นําผม ให้ เวลา เต็มที่ ห้า นาที ก่อนที่ กรุงเทพฯ จะ เข้าไป ร่วมกับ เวลา ปกติ ของ โลก ฮอล ลี่ ก้าว ผ่าน ศูนย์ ที่ เคย เป็น ทางเดิน คม ระยะ เบา ๆ เพราะ แรง แตก ของ ระเบิด แต่ นอกจากนั้น ทุกอย่าง ยังคง สภาพเดิม ที่ เธอ จํา ได้ ทาง ข้างล่าง ห้องขัง ไม่ มี ใคร ตอบ ไม่ มี แม้แต่ คํา เดียว มี ใคร บางคน ออกเสียง ออกมา เสียงดัง ๆ มาย โฟล์ เต็มที่ ฮอล ลี่ หัน มอง ไป รอบด้าน\n",
      " [!] Character 'ฯ' not found in the vocabulary. Discarding it.\n"
     ]
    },
    {
     "name": "stderr",
     "output_type": "stream",
     "text": [
      "\n",
      "\u001b[1m > EVALUATION \u001b[0m\n",
      "\n"
     ]
    },
    {
     "name": "stdout",
     "output_type": "stream",
     "text": [
      " | > Synthesizing test sentences.\n"
     ]
    },
    {
     "name": "stderr",
     "output_type": "stream",
     "text": [
      "\n",
      "  \u001b[1m--> EVAL PERFORMANCE\u001b[0m\n",
      "     | > avg_loader_time:\u001b[91m 0.04718837738037109 \u001b[0m(+0.0012196540832519545)\n",
      "     | > avg_loss:\u001b[92m 0.8308204650878906 \u001b[0m(-0.059685349464416504)\n",
      "     | > avg_log_mle:\u001b[92m 0.019918811321258546 \u001b[0m(-0.04691767692565918)\n",
      "     | > avg_loss_dur:\u001b[92m 0.810901653766632 \u001b[0m(-0.012767672538757324)\n",
      "\n",
      " > BEST MODEL : glowtts_train_dir/run-October-21-2024_11+30AM-0000000/best_model_10656.pth\n",
      "\n",
      "\u001b[4m\u001b[1m > EPOCH: 18/100\u001b[0m\n",
      " --> glowtts_train_dir/run-October-21-2024_11+30AM-0000000\n",
      "\n",
      "\u001b[1m > TRAINING (2024-10-21 12:29:42) \u001b[0m\n",
      "\n",
      "\u001b[1m   --> TIME: 2024-10-21 12:31:30 -- STEP: 344/592 -- GLOBAL_STEP: 11000\u001b[0m\n",
      "     | > loss: 0.7974518537521362  (0.8228087302210716)\n",
      "     | > log_mle: -0.013609766960144043  (-0.009574042329954544)\n",
      "     | > loss_dur: 0.8110616207122803  (0.8323827727242954)\n",
      "     | > amp_scaler: 4096.0  (4096.0)\n",
      "     | > grad_norm: tensor(49.6406, device='cuda:0')  (tensor(19.1384, device='cuda:0'))\n",
      "     | > current_lr: 4.5e-06 \n",
      "     | > step_time: 0.3145  (0.3025063886198886)\n",
      "     | > loader_time: 0.0021  (0.006770706453988709)\n",
      "\n",
      "\n",
      " > CHECKPOINT : glowtts_train_dir/run-October-21-2024_11+30AM-0000000/checkpoint_11000.pth\n"
     ]
    },
    {
     "name": "stdout",
     "output_type": "stream",
     "text": [
      "เขา ก็ บ่น เร็ว ๆ ก็ เล่า กัน โฟล ลี่ แนะ นําผม ให้ เวลา เต็มที่ ห้า นาที ก่อนที่ กรุงเทพฯ จะ เข้าไป ร่วมกับ เวลา ปกติ ของ โลก ฮอล ลี่ ก้าว ผ่าน ศูนย์ ที่ เคย เป็น ทางเดิน คม ระยะ เบา ๆ เพราะ แรง แตก ของ ระเบิด แต่ นอกจากนั้น ทุกอย่าง ยังคง สภาพเดิม ที่ เธอ จํา ได้ ทาง ข้างล่าง ห้องขัง ไม่ มี ใคร ตอบ ไม่ มี แม้แต่ คํา เดียว มี ใคร บางคน ออกเสียง ออกมา เสียงดัง ๆ มาย โฟล์ เต็มที่ ฮอล ลี่ หัน มอง ไป รอบด้าน\n",
      " [!] Character 'ฯ' not found in the vocabulary. Discarding it.\n"
     ]
    },
    {
     "name": "stderr",
     "output_type": "stream",
     "text": [
      "\n",
      "\u001b[1m > EVALUATION \u001b[0m\n",
      "\n"
     ]
    },
    {
     "name": "stdout",
     "output_type": "stream",
     "text": [
      " | > Synthesizing test sentences.\n"
     ]
    },
    {
     "name": "stderr",
     "output_type": "stream",
     "text": [
      "\n",
      "  \u001b[1m--> EVAL PERFORMANCE\u001b[0m\n",
      "     | > avg_loader_time:\u001b[91m 0.05610432624816895 \u001b[0m(+0.008915948867797854)\n",
      "     | > avg_loss:\u001b[92m 0.7755749344825744 \u001b[0m(-0.05524553060531623)\n",
      "     | > avg_log_mle:\u001b[92m -0.009206938743591308 \u001b[0m(-0.029125750064849854)\n",
      "     | > avg_loss_dur:\u001b[92m 0.7847818732261658 \u001b[0m(-0.026119780540466264)\n",
      "\n",
      " > BEST MODEL : glowtts_train_dir/run-October-21-2024_11+30AM-0000000/best_model_11248.pth\n",
      "\n",
      "\u001b[4m\u001b[1m > EPOCH: 19/100\u001b[0m\n",
      " --> glowtts_train_dir/run-October-21-2024_11+30AM-0000000\n",
      "\n",
      "\u001b[1m > TRAINING (2024-10-21 12:33:06) \u001b[0m\n"
     ]
    },
    {
     "name": "stdout",
     "output_type": "stream",
     "text": [
      "เขา ก็ บ่น เร็ว ๆ ก็ เล่า กัน โฟล ลี่ แนะ นําผม ให้ เวลา เต็มที่ ห้า นาที ก่อนที่ กรุงเทพฯ จะ เข้าไป ร่วมกับ เวลา ปกติ ของ โลก ฮอล ลี่ ก้าว ผ่าน ศูนย์ ที่ เคย เป็น ทางเดิน คม ระยะ เบา ๆ เพราะ แรง แตก ของ ระเบิด แต่ นอกจากนั้น ทุกอย่าง ยังคง สภาพเดิม ที่ เธอ จํา ได้ ทาง ข้างล่าง ห้องขัง ไม่ มี ใคร ตอบ ไม่ มี แม้แต่ คํา เดียว มี ใคร บางคน ออกเสียง ออกมา เสียงดัง ๆ มาย โฟล์ เต็มที่ ฮอล ลี่ หัน มอง ไป รอบด้าน\n",
      " [!] Character 'ฯ' not found in the vocabulary. Discarding it.\n"
     ]
    },
    {
     "name": "stderr",
     "output_type": "stream",
     "text": [
      "\n",
      "\u001b[1m > EVALUATION \u001b[0m\n",
      "\n"
     ]
    },
    {
     "name": "stdout",
     "output_type": "stream",
     "text": [
      " | > Synthesizing test sentences.\n"
     ]
    },
    {
     "name": "stderr",
     "output_type": "stream",
     "text": [
      "\n",
      "  \u001b[1m--> EVAL PERFORMANCE\u001b[0m\n",
      "     | > avg_loader_time:\u001b[91m 0.07271323204040528 \u001b[0m(+0.016608905792236332)\n",
      "     | > avg_loss:\u001b[92m 0.765320611000061 \u001b[0m(-0.010254323482513428)\n",
      "     | > avg_log_mle:\u001b[92m -0.01350480318069458 \u001b[0m(-0.004297864437103272)\n",
      "     | > avg_loss_dur:\u001b[92m 0.7788254141807556 \u001b[0m(-0.005956459045410201)\n",
      "\n",
      " > BEST MODEL : glowtts_train_dir/run-October-21-2024_11+30AM-0000000/best_model_11840.pth\n",
      "\n",
      "\u001b[4m\u001b[1m > EPOCH: 20/100\u001b[0m\n",
      " --> glowtts_train_dir/run-October-21-2024_11+30AM-0000000\n",
      "\n",
      "\u001b[1m > TRAINING (2024-10-21 12:36:28) \u001b[0m\n",
      "\n",
      "\u001b[1m   --> TIME: 2024-10-21 12:37:20 -- STEP: 160/592 -- GLOBAL_STEP: 12000\u001b[0m\n",
      "     | > loss: 0.7019363045692444  (0.7748908434063198)\n",
      "     | > log_mle: 0.037624895572662354  (-0.04085377603769304)\n",
      "     | > loss_dur: 0.664311408996582  (0.8157446194440127)\n",
      "     | > amp_scaler: 8192.0  (5043.2)\n",
      "     | > grad_norm: tensor(1.2844, device='cuda:0')  (tensor(24.4985, device='cuda:0'))\n",
      "     | > current_lr: 4.9999999999999996e-06 \n",
      "     | > step_time: 0.2265  (0.30479931086301815)\n",
      "     | > loader_time: 0.003  (0.0036462992429733276)\n",
      "\n",
      "\n",
      " > CHECKPOINT : glowtts_train_dir/run-October-21-2024_11+30AM-0000000/checkpoint_12000.pth\n"
     ]
    },
    {
     "name": "stdout",
     "output_type": "stream",
     "text": [
      "เขา ก็ บ่น เร็ว ๆ ก็ เล่า กัน โฟล ลี่ แนะ นําผม ให้ เวลา เต็มที่ ห้า นาที ก่อนที่ กรุงเทพฯ จะ เข้าไป ร่วมกับ เวลา ปกติ ของ โลก ฮอล ลี่ ก้าว ผ่าน ศูนย์ ที่ เคย เป็น ทางเดิน คม ระยะ เบา ๆ เพราะ แรง แตก ของ ระเบิด แต่ นอกจากนั้น ทุกอย่าง ยังคง สภาพเดิม ที่ เธอ จํา ได้ ทาง ข้างล่าง ห้องขัง ไม่ มี ใคร ตอบ ไม่ มี แม้แต่ คํา เดียว มี ใคร บางคน ออกเสียง ออกมา เสียงดัง ๆ มาย โฟล์ เต็มที่ ฮอล ลี่ หัน มอง ไป รอบด้าน\n",
      " [!] Character 'ฯ' not found in the vocabulary. Discarding it.\n"
     ]
    },
    {
     "name": "stderr",
     "output_type": "stream",
     "text": [
      "\n",
      "\u001b[1m > EVALUATION \u001b[0m\n",
      "\n"
     ]
    },
    {
     "name": "stdout",
     "output_type": "stream",
     "text": [
      " | > Synthesizing test sentences.\n"
     ]
    },
    {
     "name": "stderr",
     "output_type": "stream",
     "text": [
      "\n",
      "  \u001b[1m--> EVAL PERFORMANCE\u001b[0m\n",
      "     | > avg_loader_time:\u001b[92m 0.04311695098876953 \u001b[0m(-0.029596281051635746)\n",
      "     | > avg_loss:\u001b[92m 0.757259750366211 \u001b[0m(-0.008060860633850031)\n",
      "     | > avg_log_mle:\u001b[91m -0.006578099727630615 \u001b[0m(+0.006926703453063965)\n",
      "     | > avg_loss_dur:\u001b[92m 0.7638378500938415 \u001b[0m(-0.01498756408691404)\n",
      "\n",
      " > BEST MODEL : glowtts_train_dir/run-October-21-2024_11+30AM-0000000/best_model_12432.pth\n",
      "\n",
      "\u001b[4m\u001b[1m > EPOCH: 21/100\u001b[0m\n",
      " --> glowtts_train_dir/run-October-21-2024_11+30AM-0000000\n",
      "\n",
      "\u001b[1m > TRAINING (2024-10-21 12:39:54) \u001b[0m\n"
     ]
    },
    {
     "name": "stdout",
     "output_type": "stream",
     "text": [
      "เขา ก็ บ่น เร็ว ๆ ก็ เล่า กัน โฟล ลี่ แนะ นําผม ให้ เวลา เต็มที่ ห้า นาที ก่อนที่ กรุงเทพฯ จะ เข้าไป ร่วมกับ เวลา ปกติ ของ โลก ฮอล ลี่ ก้าว ผ่าน ศูนย์ ที่ เคย เป็น ทางเดิน คม ระยะ เบา ๆ เพราะ แรง แตก ของ ระเบิด แต่ นอกจากนั้น ทุกอย่าง ยังคง สภาพเดิม ที่ เธอ จํา ได้ ทาง ข้างล่าง ห้องขัง ไม่ มี ใคร ตอบ ไม่ มี แม้แต่ คํา เดียว มี ใคร บางคน ออกเสียง ออกมา เสียงดัง ๆ มาย โฟล์ เต็มที่ ฮอล ลี่ หัน มอง ไป รอบด้าน\n",
      " [!] Character 'ฯ' not found in the vocabulary. Discarding it.\n"
     ]
    },
    {
     "name": "stderr",
     "output_type": "stream",
     "text": [
      "\n",
      "\u001b[1m   --> TIME: 2024-10-21 12:42:49 -- STEP: 568/592 -- GLOBAL_STEP: 13000\u001b[0m\n",
      "     | > loss: 0.7643786072731018  (0.7307264441755456)\n",
      "     | > log_mle: 0.025355815887451172  (-0.06281841535803293)\n",
      "     | > loss_dur: 0.7390227913856506  (0.7935448595335783)\n",
      "     | > amp_scaler: 4096.0  (4096.0)\n",
      "     | > grad_norm: tensor(1.3124, device='cuda:0')  (tensor(28.4819, device='cuda:0'))\n",
      "     | > current_lr: 5.25e-06 \n",
      "     | > step_time: 0.4298  (0.30171321185541816)\n",
      "     | > loader_time: 0.0036  (0.0038112297024525386)\n",
      "\n",
      "\n",
      " > CHECKPOINT : glowtts_train_dir/run-October-21-2024_11+30AM-0000000/checkpoint_13000.pth\n",
      "\n",
      "\u001b[1m > EVALUATION \u001b[0m\n",
      "\n"
     ]
    },
    {
     "name": "stdout",
     "output_type": "stream",
     "text": [
      " | > Synthesizing test sentences.\n"
     ]
    },
    {
     "name": "stderr",
     "output_type": "stream",
     "text": [
      "\n",
      "  \u001b[1m--> EVAL PERFORMANCE\u001b[0m\n",
      "     | > avg_loader_time:\u001b[91m 0.06518888473510742 \u001b[0m(+0.02207193374633789)\n",
      "     | > avg_loss:\u001b[92m 0.7233778595924377 \u001b[0m(-0.03388189077377324)\n",
      "     | > avg_log_mle:\u001b[92m -0.03837326765060425 \u001b[0m(-0.031795167922973634)\n",
      "     | > avg_loss_dur:\u001b[92m 0.761751127243042 \u001b[0m(-0.0020867228507995828)\n",
      "\n",
      " > BEST MODEL : glowtts_train_dir/run-October-21-2024_11+30AM-0000000/best_model_13024.pth\n",
      "\n",
      "\u001b[4m\u001b[1m > EPOCH: 22/100\u001b[0m\n",
      " --> glowtts_train_dir/run-October-21-2024_11+30AM-0000000\n",
      "\n",
      "\u001b[1m > TRAINING (2024-10-21 12:43:19) \u001b[0m\n"
     ]
    },
    {
     "name": "stdout",
     "output_type": "stream",
     "text": [
      "เขา ก็ บ่น เร็ว ๆ ก็ เล่า กัน โฟล ลี่ แนะ นําผม ให้ เวลา เต็มที่ ห้า นาที ก่อนที่ กรุงเทพฯ จะ เข้าไป ร่วมกับ เวลา ปกติ ของ โลก ฮอล ลี่ ก้าว ผ่าน ศูนย์ ที่ เคย เป็น ทางเดิน คม ระยะ เบา ๆ เพราะ แรง แตก ของ ระเบิด แต่ นอกจากนั้น ทุกอย่าง ยังคง สภาพเดิม ที่ เธอ จํา ได้ ทาง ข้างล่าง ห้องขัง ไม่ มี ใคร ตอบ ไม่ มี แม้แต่ คํา เดียว มี ใคร บางคน ออกเสียง ออกมา เสียงดัง ๆ มาย โฟล์ เต็มที่ ฮอล ลี่ หัน มอง ไป รอบด้าน\n",
      " [!] Character 'ฯ' not found in the vocabulary. Discarding it.\n"
     ]
    },
    {
     "name": "stderr",
     "output_type": "stream",
     "text": [
      "\n",
      "\u001b[1m > EVALUATION \u001b[0m\n",
      "\n"
     ]
    },
    {
     "name": "stdout",
     "output_type": "stream",
     "text": [
      " | > Synthesizing test sentences.\n"
     ]
    },
    {
     "name": "stderr",
     "output_type": "stream",
     "text": [
      "\n",
      "  \u001b[1m--> EVAL PERFORMANCE\u001b[0m\n",
      "     | > avg_loader_time:\u001b[92m 0.06509385108947754 \u001b[0m(-9.503364562987726e-05)\n",
      "     | > avg_loss:\u001b[92m 0.7165541291236878 \u001b[0m(-0.006823730468749956)\n",
      "     | > avg_log_mle:\u001b[92m -0.047960364818573 \u001b[0m(-0.009587097167968753)\n",
      "     | > avg_loss_dur:\u001b[91m 0.7645144939422608 \u001b[0m(+0.002763366699218839)\n",
      "\n",
      " > BEST MODEL : glowtts_train_dir/run-October-21-2024_11+30AM-0000000/best_model_13616.pth\n",
      "\n",
      "\u001b[4m\u001b[1m > EPOCH: 23/100\u001b[0m\n",
      " --> glowtts_train_dir/run-October-21-2024_11+30AM-0000000\n",
      "\n",
      "\u001b[1m > TRAINING (2024-10-21 12:46:39) \u001b[0m\n",
      "\n",
      "\u001b[1m   --> TIME: 2024-10-21 12:48:37 -- STEP: 384/592 -- GLOBAL_STEP: 14000\u001b[0m\n",
      "     | > loss: 0.6087450981140137  (0.6956102278394001)\n",
      "     | > log_mle: -0.21222102642059326  (-0.092727295588702)\n",
      "     | > loss_dur: 0.8209661245346069  (0.788337523428102)\n",
      "     | > amp_scaler: 2048.0  (2048.0)\n",
      "     | > grad_norm: tensor(75.6060, device='cuda:0')  (tensor(37.5297, device='cuda:0'))\n",
      "     | > current_lr: 5.75e-06 \n",
      "     | > step_time: 0.2531  (0.2998133562505243)\n",
      "     | > loader_time: 0.0027  (0.003904893373449647)\n",
      "\n",
      "\n",
      " > CHECKPOINT : glowtts_train_dir/run-October-21-2024_11+30AM-0000000/checkpoint_14000.pth\n"
     ]
    },
    {
     "name": "stdout",
     "output_type": "stream",
     "text": [
      "เขา ก็ บ่น เร็ว ๆ ก็ เล่า กัน โฟล ลี่ แนะ นําผม ให้ เวลา เต็มที่ ห้า นาที ก่อนที่ กรุงเทพฯ จะ เข้าไป ร่วมกับ เวลา ปกติ ของ โลก ฮอล ลี่ ก้าว ผ่าน ศูนย์ ที่ เคย เป็น ทางเดิน คม ระยะ เบา ๆ เพราะ แรง แตก ของ ระเบิด แต่ นอกจากนั้น ทุกอย่าง ยังคง สภาพเดิม ที่ เธอ จํา ได้ ทาง ข้างล่าง ห้องขัง ไม่ มี ใคร ตอบ ไม่ มี แม้แต่ คํา เดียว มี ใคร บางคน ออกเสียง ออกมา เสียงดัง ๆ มาย โฟล์ เต็มที่ ฮอล ลี่ หัน มอง ไป รอบด้าน\n",
      " [!] Character 'ฯ' not found in the vocabulary. Discarding it.\n"
     ]
    },
    {
     "name": "stderr",
     "output_type": "stream",
     "text": [
      "\n",
      "\u001b[1m > EVALUATION \u001b[0m\n",
      "\n"
     ]
    },
    {
     "name": "stdout",
     "output_type": "stream",
     "text": [
      " | > Synthesizing test sentences.\n"
     ]
    },
    {
     "name": "stderr",
     "output_type": "stream",
     "text": [
      "\n",
      "  \u001b[1m--> EVAL PERFORMANCE\u001b[0m\n",
      "     | > avg_loader_time:\u001b[92m 0.053960418701171874 \u001b[0m(-0.011133432388305671)\n",
      "     | > avg_loss:\u001b[91m 0.7412002682685852 \u001b[0m(+0.02464613914489744)\n",
      "     | > avg_log_mle:\u001b[91m -0.023720061779022215 \u001b[0m(+0.024240303039550784)\n",
      "     | > avg_loss_dur:\u001b[91m 0.7649203300476074 \u001b[0m(+0.0004058361053466131)\n",
      "\n",
      "\n",
      "\u001b[4m\u001b[1m > EPOCH: 24/100\u001b[0m\n",
      " --> glowtts_train_dir/run-October-21-2024_11+30AM-0000000\n",
      "\n",
      "\u001b[1m > TRAINING (2024-10-21 12:49:57) \u001b[0m\n"
     ]
    },
    {
     "name": "stdout",
     "output_type": "stream",
     "text": [
      "เขา ก็ บ่น เร็ว ๆ ก็ เล่า กัน โฟล ลี่ แนะ นําผม ให้ เวลา เต็มที่ ห้า นาที ก่อนที่ กรุงเทพฯ จะ เข้าไป ร่วมกับ เวลา ปกติ ของ โลก ฮอล ลี่ ก้าว ผ่าน ศูนย์ ที่ เคย เป็น ทางเดิน คม ระยะ เบา ๆ เพราะ แรง แตก ของ ระเบิด แต่ นอกจากนั้น ทุกอย่าง ยังคง สภาพเดิม ที่ เธอ จํา ได้ ทาง ข้างล่าง ห้องขัง ไม่ มี ใคร ตอบ ไม่ มี แม้แต่ คํา เดียว มี ใคร บางคน ออกเสียง ออกมา เสียงดัง ๆ มาย โฟล์ เต็มที่ ฮอล ลี่ หัน มอง ไป รอบด้าน\n",
      " [!] Character 'ฯ' not found in the vocabulary. Discarding it.\n"
     ]
    },
    {
     "name": "stderr",
     "output_type": "stream",
     "text": [
      "\n",
      "\u001b[1m > EVALUATION \u001b[0m\n",
      "\n"
     ]
    },
    {
     "name": "stdout",
     "output_type": "stream",
     "text": [
      " | > Synthesizing test sentences.\n"
     ]
    },
    {
     "name": "stderr",
     "output_type": "stream",
     "text": [
      "\n",
      "  \u001b[1m--> EVAL PERFORMANCE\u001b[0m\n",
      "     | > avg_loader_time:\u001b[91m 0.0541933536529541 \u001b[0m(+0.00023293495178222656)\n",
      "     | > avg_loss:\u001b[92m 0.7258156657218933 \u001b[0m(-0.015384602546691939)\n",
      "     | > avg_log_mle:\u001b[92m -0.0482865571975708 \u001b[0m(-0.024566495418548585)\n",
      "     | > avg_loss_dur:\u001b[91m 0.7741022229194641 \u001b[0m(+0.009181892871856667)\n",
      "\n",
      "\n",
      "\u001b[4m\u001b[1m > EPOCH: 25/100\u001b[0m\n",
      " --> glowtts_train_dir/run-October-21-2024_11+30AM-0000000\n",
      "\n",
      "\u001b[1m > TRAINING (2024-10-21 12:53:09) \u001b[0m\n",
      "\n",
      "\u001b[1m   --> TIME: 2024-10-21 12:54:11 -- STEP: 200/592 -- GLOBAL_STEP: 15000\u001b[0m\n",
      "     | > loss: 0.5758440494537354  (0.6662392395734783)\n",
      "     | > log_mle: -0.10848796367645264  (-0.1126241734623909)\n",
      "     | > loss_dur: 0.684332013130188  (0.7788634130358696)\n",
      "     | > amp_scaler: 2048.0  (2048.0)\n",
      "     | > grad_norm: tensor(18.6431, device='cuda:0')  (tensor(44.7767, device='cuda:0'))\n",
      "     | > current_lr: 6.2499999999999995e-06 \n",
      "     | > step_time: 0.2896  (0.29775894403457626)\n",
      "     | > loader_time: 0.0032  (0.003677703142166138)\n",
      "\n",
      "\n",
      " > CHECKPOINT : glowtts_train_dir/run-October-21-2024_11+30AM-0000000/checkpoint_15000.pth\n"
     ]
    },
    {
     "name": "stdout",
     "output_type": "stream",
     "text": [
      "เขา ก็ บ่น เร็ว ๆ ก็ เล่า กัน โฟล ลี่ แนะ นําผม ให้ เวลา เต็มที่ ห้า นาที ก่อนที่ กรุงเทพฯ จะ เข้าไป ร่วมกับ เวลา ปกติ ของ โลก ฮอล ลี่ ก้าว ผ่าน ศูนย์ ที่ เคย เป็น ทางเดิน คม ระยะ เบา ๆ เพราะ แรง แตก ของ ระเบิด แต่ นอกจากนั้น ทุกอย่าง ยังคง สภาพเดิม ที่ เธอ จํา ได้ ทาง ข้างล่าง ห้องขัง ไม่ มี ใคร ตอบ ไม่ มี แม้แต่ คํา เดียว มี ใคร บางคน ออกเสียง ออกมา เสียงดัง ๆ มาย โฟล์ เต็มที่ ฮอล ลี่ หัน มอง ไป รอบด้าน\n",
      " [!] Character 'ฯ' not found in the vocabulary. Discarding it.\n"
     ]
    },
    {
     "name": "stderr",
     "output_type": "stream",
     "text": [
      "\n",
      "\u001b[1m > EVALUATION \u001b[0m\n",
      "\n"
     ]
    },
    {
     "name": "stdout",
     "output_type": "stream",
     "text": [
      " | > Synthesizing test sentences.\n"
     ]
    },
    {
     "name": "stderr",
     "output_type": "stream",
     "text": [
      "\n",
      "  \u001b[1m--> EVAL PERFORMANCE\u001b[0m\n",
      "     | > avg_loader_time:\u001b[91m 0.05900416374206543 \u001b[0m(+0.004810810089111328)\n",
      "     | > avg_loss:\u001b[91m 0.7490847945213318 \u001b[0m(+0.023269128799438543)\n",
      "     | > avg_log_mle:\u001b[92m -0.04839282035827637 \u001b[0m(-0.00010626316070556918)\n",
      "     | > avg_loss_dur:\u001b[91m 0.7974776148796081 \u001b[0m(+0.023375391960144043)\n",
      "\n",
      "\n",
      "\u001b[4m\u001b[1m > EPOCH: 26/100\u001b[0m\n",
      " --> glowtts_train_dir/run-October-21-2024_11+30AM-0000000\n",
      "\n",
      "\u001b[1m > TRAINING (2024-10-21 12:56:25) \u001b[0m\n"
     ]
    },
    {
     "name": "stdout",
     "output_type": "stream",
     "text": [
      "เขา ก็ บ่น เร็ว ๆ ก็ เล่า กัน โฟล ลี่ แนะ นําผม ให้ เวลา เต็มที่ ห้า นาที ก่อนที่ กรุงเทพฯ จะ เข้าไป ร่วมกับ เวลา ปกติ ของ โลก ฮอล ลี่ ก้าว ผ่าน ศูนย์ ที่ เคย เป็น ทางเดิน คม ระยะ เบา ๆ เพราะ แรง แตก ของ ระเบิด แต่ นอกจากนั้น ทุกอย่าง ยังคง สภาพเดิม ที่ เธอ จํา ได้ ทาง ข้างล่าง ห้องขัง ไม่ มี ใคร ตอบ ไม่ มี แม้แต่ คํา เดียว มี ใคร บางคน ออกเสียง ออกมา เสียงดัง ๆ มาย โฟล์ เต็มที่ ฮอล ลี่ หัน มอง ไป รอบด้าน\n",
      " [!] Character 'ฯ' not found in the vocabulary. Discarding it.\n"
     ]
    },
    {
     "name": "stderr",
     "output_type": "stream",
     "text": [
      "\n",
      "\u001b[1m > EVALUATION \u001b[0m\n",
      "\n"
     ]
    },
    {
     "name": "stdout",
     "output_type": "stream",
     "text": [
      " | > Synthesizing test sentences.\n"
     ]
    },
    {
     "name": "stderr",
     "output_type": "stream",
     "text": [
      "\n",
      "  \u001b[1m--> EVAL PERFORMANCE\u001b[0m\n",
      "     | > avg_loader_time:\u001b[92m 0.054106283187866214 \u001b[0m(-0.004897880554199215)\n",
      "     | > avg_loss:\u001b[91m 0.8299478769302369 \u001b[0m(+0.08086308240890505)\n",
      "     | > avg_log_mle:\u001b[91m 0.015496551990509033 \u001b[0m(+0.0638893723487854)\n",
      "     | > avg_loss_dur:\u001b[91m 0.8144513249397278 \u001b[0m(+0.016973710060119718)\n",
      "\n",
      "\n",
      "\u001b[4m\u001b[1m > EPOCH: 27/100\u001b[0m\n",
      " --> glowtts_train_dir/run-October-21-2024_11+30AM-0000000\n",
      "\n",
      "\u001b[1m > TRAINING (2024-10-21 12:59:38) \u001b[0m\n",
      "\n",
      "\u001b[1m   --> TIME: 2024-10-21 12:59:44 -- STEP: 16/592 -- GLOBAL_STEP: 16000\u001b[0m\n",
      "     | > loss: 0.5811863541603088  (0.7053494080901146)\n",
      "     | > log_mle: -0.2493143081665039  (-0.1196981891989708)\n",
      "     | > loss_dur: 0.8305006623268127  (0.8250475972890854)\n",
      "     | > amp_scaler: 2048.0  (2048.0)\n",
      "     | > grad_norm: tensor(136.2993, device='cuda:0')  (tensor(88.4866, device='cuda:0'))\n",
      "     | > current_lr: 6.75e-06 \n",
      "     | > step_time: 0.223  (0.3120099604129791)\n",
      "     | > loader_time: 0.0024  (0.0039797574281692505)\n",
      "\n",
      "\n",
      " > CHECKPOINT : glowtts_train_dir/run-October-21-2024_11+30AM-0000000/checkpoint_16000.pth\n"
     ]
    },
    {
     "name": "stdout",
     "output_type": "stream",
     "text": [
      "เขา ก็ บ่น เร็ว ๆ ก็ เล่า กัน โฟล ลี่ แนะ นําผม ให้ เวลา เต็มที่ ห้า นาที ก่อนที่ กรุงเทพฯ จะ เข้าไป ร่วมกับ เวลา ปกติ ของ โลก ฮอล ลี่ ก้าว ผ่าน ศูนย์ ที่ เคย เป็น ทางเดิน คม ระยะ เบา ๆ เพราะ แรง แตก ของ ระเบิด แต่ นอกจากนั้น ทุกอย่าง ยังคง สภาพเดิม ที่ เธอ จํา ได้ ทาง ข้างล่าง ห้องขัง ไม่ มี ใคร ตอบ ไม่ มี แม้แต่ คํา เดียว มี ใคร บางคน ออกเสียง ออกมา เสียงดัง ๆ มาย โฟล์ เต็มที่ ฮอล ลี่ หัน มอง ไป รอบด้าน\n",
      " [!] Character 'ฯ' not found in the vocabulary. Discarding it.\n"
     ]
    },
    {
     "name": "stderr",
     "output_type": "stream",
     "text": [
      "\n",
      "\u001b[1m > EVALUATION \u001b[0m\n",
      "\n"
     ]
    },
    {
     "name": "stdout",
     "output_type": "stream",
     "text": [
      " | > Synthesizing test sentences.\n"
     ]
    },
    {
     "name": "stderr",
     "output_type": "stream",
     "text": [
      "\n",
      "  \u001b[1m--> EVAL PERFORMANCE\u001b[0m\n",
      "     | > avg_loader_time:\u001b[91m 0.07022438049316407 \u001b[0m(+0.016118097305297854)\n",
      "     | > avg_loss:\u001b[92m 0.7341513991355896 \u001b[0m(-0.09579647779464728)\n",
      "     | > avg_log_mle:\u001b[92m -0.038681745529174805 \u001b[0m(-0.05417829751968384)\n",
      "     | > avg_loss_dur:\u001b[92m 0.7728331446647644 \u001b[0m(-0.041618180274963446)\n",
      "\n",
      "\n",
      "\u001b[4m\u001b[1m > EPOCH: 28/100\u001b[0m\n",
      " --> glowtts_train_dir/run-October-21-2024_11+30AM-0000000\n",
      "\n",
      "\u001b[1m > TRAINING (2024-10-21 13:03:01) \u001b[0m\n",
      "\n",
      "\u001b[1m   --> TIME: 2024-10-21 13:05:11 -- STEP: 424/592 -- GLOBAL_STEP: 17000\u001b[0m\n",
      "     | > loss: 0.481395423412323  (0.6244394566934072)\n",
      "     | > log_mle: -0.2586416006088257  (-0.1493046379314278)\n",
      "     | > loss_dur: 0.7400370240211487  (0.7737440946248343)\n",
      "     | > amp_scaler: 2048.0  (2048.0)\n",
      "     | > grad_norm: tensor(92.2630, device='cuda:0')  (tensor(60.4049, device='cuda:0'))\n",
      "     | > current_lr: 7e-06 \n",
      "     | > step_time: 0.4624  (0.2983204143227273)\n",
      "     | > loader_time: 0.0029  (0.003999744946101925)\n",
      "\n",
      "\n",
      " > CHECKPOINT : glowtts_train_dir/run-October-21-2024_11+30AM-0000000/checkpoint_17000.pth\n"
     ]
    },
    {
     "name": "stdout",
     "output_type": "stream",
     "text": [
      "เขา ก็ บ่น เร็ว ๆ ก็ เล่า กัน โฟล ลี่ แนะ นําผม ให้ เวลา เต็มที่ ห้า นาที ก่อนที่ กรุงเทพฯ จะ เข้าไป ร่วมกับ เวลา ปกติ ของ โลก ฮอล ลี่ ก้าว ผ่าน ศูนย์ ที่ เคย เป็น ทางเดิน คม ระยะ เบา ๆ เพราะ แรง แตก ของ ระเบิด แต่ นอกจากนั้น ทุกอย่าง ยังคง สภาพเดิม ที่ เธอ จํา ได้ ทาง ข้างล่าง ห้องขัง ไม่ มี ใคร ตอบ ไม่ มี แม้แต่ คํา เดียว มี ใคร บางคน ออกเสียง ออกมา เสียงดัง ๆ มาย โฟล์ เต็มที่ ฮอล ลี่ หัน มอง ไป รอบด้าน\n",
      " [!] Character 'ฯ' not found in the vocabulary. Discarding it.\n"
     ]
    },
    {
     "name": "stderr",
     "output_type": "stream",
     "text": [
      "\n",
      "\u001b[1m > EVALUATION \u001b[0m\n",
      "\n"
     ]
    },
    {
     "name": "stdout",
     "output_type": "stream",
     "text": [
      " | > Synthesizing test sentences.\n"
     ]
    },
    {
     "name": "stderr",
     "output_type": "stream",
     "text": [
      "\n",
      "  \u001b[1m--> EVAL PERFORMANCE\u001b[0m\n",
      "     | > avg_loader_time:\u001b[91m 0.072314453125 \u001b[0m(+0.002090072631835929)\n",
      "     | > avg_loss:\u001b[91m 0.7767191529273987 \u001b[0m(+0.042567753791809104)\n",
      "     | > avg_log_mle:\u001b[91m -0.025740325450897217 \u001b[0m(+0.012941420078277588)\n",
      "     | > avg_loss_dur:\u001b[91m 0.8024594783782959 \u001b[0m(+0.029626333713531516)\n",
      "\n",
      "\n",
      "\u001b[4m\u001b[1m > EPOCH: 29/100\u001b[0m\n",
      " --> glowtts_train_dir/run-October-21-2024_11+30AM-0000000\n",
      "\n",
      "\u001b[1m > TRAINING (2024-10-21 13:06:20) \u001b[0m\n"
     ]
    },
    {
     "name": "stdout",
     "output_type": "stream",
     "text": [
      "เขา ก็ บ่น เร็ว ๆ ก็ เล่า กัน โฟล ลี่ แนะ นําผม ให้ เวลา เต็มที่ ห้า นาที ก่อนที่ กรุงเทพฯ จะ เข้าไป ร่วมกับ เวลา ปกติ ของ โลก ฮอล ลี่ ก้าว ผ่าน ศูนย์ ที่ เคย เป็น ทางเดิน คม ระยะ เบา ๆ เพราะ แรง แตก ของ ระเบิด แต่ นอกจากนั้น ทุกอย่าง ยังคง สภาพเดิม ที่ เธอ จํา ได้ ทาง ข้างล่าง ห้องขัง ไม่ มี ใคร ตอบ ไม่ มี แม้แต่ คํา เดียว มี ใคร บางคน ออกเสียง ออกมา เสียงดัง ๆ มาย โฟล์ เต็มที่ ฮอล ลี่ หัน มอง ไป รอบด้าน\n",
      " [!] Character 'ฯ' not found in the vocabulary. Discarding it.\n"
     ]
    },
    {
     "name": "stderr",
     "output_type": "stream",
     "text": [
      "\n",
      "\u001b[1m > EVALUATION \u001b[0m\n",
      "\n"
     ]
    },
    {
     "name": "stdout",
     "output_type": "stream",
     "text": [
      " | > Synthesizing test sentences.\n"
     ]
    },
    {
     "name": "stderr",
     "output_type": "stream",
     "text": [
      "\n",
      "  \u001b[1m--> EVAL PERFORMANCE\u001b[0m\n",
      "     | > avg_loader_time:\u001b[92m 0.05571537017822266 \u001b[0m(-0.016599082946777338)\n",
      "     | > avg_loss:\u001b[91m 0.9543792843818665 \u001b[0m(+0.1776601314544678)\n",
      "     | > avg_log_mle:\u001b[91m 0.08500840663909912 \u001b[0m(+0.11074873208999633)\n",
      "     | > avg_loss_dur:\u001b[91m 0.8693708658218384 \u001b[0m(+0.06691138744354252)\n",
      "\n",
      "\n",
      "\u001b[4m\u001b[1m > EPOCH: 30/100\u001b[0m\n",
      " --> glowtts_train_dir/run-October-21-2024_11+30AM-0000000\n",
      "\n",
      "\u001b[1m > TRAINING (2024-10-21 13:09:35) \u001b[0m\n",
      "\n",
      "\u001b[1m   --> TIME: 2024-10-21 13:10:50 -- STEP: 240/592 -- GLOBAL_STEP: 18000\u001b[0m\n",
      "     | > loss: 0.5639664530754089  (0.6213068450490636)\n",
      "     | > log_mle: -0.13159549236297607  (-0.15718056584397957)\n",
      "     | > loss_dur: 0.695561945438385  (0.7784874108930426)\n",
      "     | > amp_scaler: 2048.0  (2705.0666666666666)\n",
      "     | > grad_norm: tensor(41.4857, device='cuda:0')  (tensor(61.6113, device='cuda:0'))\n",
      "     | > current_lr: 7.499999999999999e-06 \n",
      "     | > step_time: 0.195  (0.30005907416343686)\n",
      "     | > loader_time: 0.0024  (0.004005450010299684)\n",
      "\n",
      "\n",
      " > CHECKPOINT : glowtts_train_dir/run-October-21-2024_11+30AM-0000000/checkpoint_18000.pth\n"
     ]
    },
    {
     "name": "stdout",
     "output_type": "stream",
     "text": [
      "เขา ก็ บ่น เร็ว ๆ ก็ เล่า กัน โฟล ลี่ แนะ นําผม ให้ เวลา เต็มที่ ห้า นาที ก่อนที่ กรุงเทพฯ จะ เข้าไป ร่วมกับ เวลา ปกติ ของ โลก ฮอล ลี่ ก้าว ผ่าน ศูนย์ ที่ เคย เป็น ทางเดิน คม ระยะ เบา ๆ เพราะ แรง แตก ของ ระเบิด แต่ นอกจากนั้น ทุกอย่าง ยังคง สภาพเดิม ที่ เธอ จํา ได้ ทาง ข้างล่าง ห้องขัง ไม่ มี ใคร ตอบ ไม่ มี แม้แต่ คํา เดียว มี ใคร บางคน ออกเสียง ออกมา เสียงดัง ๆ มาย โฟล์ เต็มที่ ฮอล ลี่ หัน มอง ไป รอบด้าน\n",
      " [!] Character 'ฯ' not found in the vocabulary. Discarding it.\n"
     ]
    },
    {
     "name": "stderr",
     "output_type": "stream",
     "text": [
      "\n",
      "\u001b[1m > EVALUATION \u001b[0m\n",
      "\n"
     ]
    },
    {
     "name": "stdout",
     "output_type": "stream",
     "text": [
      " | > Synthesizing test sentences.\n"
     ]
    },
    {
     "name": "stderr",
     "output_type": "stream",
     "text": [
      "\n",
      "  \u001b[1m--> EVAL PERFORMANCE\u001b[0m\n",
      "     | > avg_loader_time:\u001b[92m 0.048044776916503905 \u001b[0m(-0.007670593261718754)\n",
      "     | > avg_loss:\u001b[92m 0.8315065979957581 \u001b[0m(-0.12287268638610838)\n",
      "     | > avg_log_mle:\u001b[92m 0.008992016315460205 \u001b[0m(-0.07601639032363891)\n",
      "     | > avg_loss_dur:\u001b[92m 0.8225145816802979 \u001b[0m(-0.04685628414154053)\n",
      "\n",
      "\n",
      "\u001b[4m\u001b[1m > EPOCH: 31/100\u001b[0m\n",
      " --> glowtts_train_dir/run-October-21-2024_11+30AM-0000000\n",
      "\n",
      "\u001b[1m > TRAINING (2024-10-21 13:12:55) \u001b[0m\n"
     ]
    },
    {
     "name": "stdout",
     "output_type": "stream",
     "text": [
      "เขา ก็ บ่น เร็ว ๆ ก็ เล่า กัน โฟล ลี่ แนะ นําผม ให้ เวลา เต็มที่ ห้า นาที ก่อนที่ กรุงเทพฯ จะ เข้าไป ร่วมกับ เวลา ปกติ ของ โลก ฮอล ลี่ ก้าว ผ่าน ศูนย์ ที่ เคย เป็น ทางเดิน คม ระยะ เบา ๆ เพราะ แรง แตก ของ ระเบิด แต่ นอกจากนั้น ทุกอย่าง ยังคง สภาพเดิม ที่ เธอ จํา ได้ ทาง ข้างล่าง ห้องขัง ไม่ มี ใคร ตอบ ไม่ มี แม้แต่ คํา เดียว มี ใคร บางคน ออกเสียง ออกมา เสียงดัง ๆ มาย โฟล์ เต็มที่ ฮอล ลี่ หัน มอง ไป รอบด้าน\n",
      " [!] Character 'ฯ' not found in the vocabulary. Discarding it.\n"
     ]
    },
    {
     "name": "stderr",
     "output_type": "stream",
     "text": [
      "\n",
      "\u001b[1m > EVALUATION \u001b[0m\n",
      "\n"
     ]
    },
    {
     "name": "stdout",
     "output_type": "stream",
     "text": [
      " | > Synthesizing test sentences.\n"
     ]
    },
    {
     "name": "stderr",
     "output_type": "stream",
     "text": [
      "\n",
      "  \u001b[1m--> EVAL PERFORMANCE\u001b[0m\n",
      "     | > avg_loader_time:\u001b[92m 0.043665504455566405 \u001b[0m(-0.0043792724609375)\n",
      "     | > avg_loss:\u001b[91m 0.8700143575668335 \u001b[0m(+0.03850775957107544)\n",
      "     | > avg_log_mle:\u001b[91m 0.04976720809936523 \u001b[0m(+0.040775191783905027)\n",
      "     | > avg_loss_dur:\u001b[92m 0.8202471494674682 \u001b[0m(-0.0022674322128296565)\n",
      "\n",
      "\n",
      "\u001b[4m\u001b[1m > EPOCH: 32/100\u001b[0m\n",
      " --> glowtts_train_dir/run-October-21-2024_11+30AM-0000000\n",
      "\n",
      "\u001b[1m > TRAINING (2024-10-21 13:16:10) \u001b[0m\n",
      "\n",
      "\u001b[1m   --> TIME: 2024-10-21 13:16:29 -- STEP: 56/592 -- GLOBAL_STEP: 19000\u001b[0m\n",
      "     | > loss: 0.5392897725105286  (0.6169168693678719)\n",
      "     | > log_mle: -0.259080171585083  (-0.16959521919488907)\n",
      "     | > loss_dur: 0.7983699440956116  (0.7865120885627611)\n",
      "     | > amp_scaler: 1024.0  (1024.0)\n",
      "     | > grad_norm: tensor(61.7774, device='cuda:0')  (tensor(67.2199, device='cuda:0'))\n",
      "     | > current_lr: 8e-06 \n",
      "     | > step_time: 0.2734  (0.30799770780972086)\n",
      "     | > loader_time: 0.0116  (0.003603041172027588)\n",
      "\n",
      "\n",
      " > CHECKPOINT : glowtts_train_dir/run-October-21-2024_11+30AM-0000000/checkpoint_19000.pth\n"
     ]
    },
    {
     "name": "stdout",
     "output_type": "stream",
     "text": [
      "เขา ก็ บ่น เร็ว ๆ ก็ เล่า กัน โฟล ลี่ แนะ นําผม ให้ เวลา เต็มที่ ห้า นาที ก่อนที่ กรุงเทพฯ จะ เข้าไป ร่วมกับ เวลา ปกติ ของ โลก ฮอล ลี่ ก้าว ผ่าน ศูนย์ ที่ เคย เป็น ทางเดิน คม ระยะ เบา ๆ เพราะ แรง แตก ของ ระเบิด แต่ นอกจากนั้น ทุกอย่าง ยังคง สภาพเดิม ที่ เธอ จํา ได้ ทาง ข้างล่าง ห้องขัง ไม่ มี ใคร ตอบ ไม่ มี แม้แต่ คํา เดียว มี ใคร บางคน ออกเสียง ออกมา เสียงดัง ๆ มาย โฟล์ เต็มที่ ฮอล ลี่ หัน มอง ไป รอบด้าน\n",
      " [!] Character 'ฯ' not found in the vocabulary. Discarding it.\n"
     ]
    },
    {
     "name": "stderr",
     "output_type": "stream",
     "text": [
      "\n",
      "\u001b[1m > EVALUATION \u001b[0m\n",
      "\n"
     ]
    },
    {
     "name": "stdout",
     "output_type": "stream",
     "text": [
      " | > Synthesizing test sentences.\n"
     ]
    },
    {
     "name": "stderr",
     "output_type": "stream",
     "text": [
      "\n",
      "  \u001b[1m--> EVAL PERFORMANCE\u001b[0m\n",
      "     | > avg_loader_time:\u001b[91m 0.07769451141357422 \u001b[0m(+0.03402900695800782)\n",
      "     | > avg_loss:\u001b[91m 0.9341110229492188 \u001b[0m(+0.06409666538238523)\n",
      "     | > avg_log_mle:\u001b[91m 0.08605246543884278 \u001b[0m(+0.036285257339477545)\n",
      "     | > avg_loss_dur:\u001b[91m 0.848058557510376 \u001b[0m(+0.027811408042907715)\n",
      "\n",
      "\n",
      "\u001b[4m\u001b[1m > EPOCH: 33/100\u001b[0m\n",
      " --> glowtts_train_dir/run-October-21-2024_11+30AM-0000000\n",
      "\n",
      "\u001b[1m > TRAINING (2024-10-21 13:19:31) \u001b[0m\n",
      "\n",
      "\u001b[1m   --> TIME: 2024-10-21 13:21:55 -- STEP: 464/592 -- GLOBAL_STEP: 20000\u001b[0m\n",
      "     | > loss: 0.7183802723884583  (0.5886137041038478)\n",
      "     | > log_mle: -0.10596227645874023  (-0.18854501239698515)\n",
      "     | > loss_dur: 0.8243425488471985  (0.7771587165008333)\n",
      "     | > amp_scaler: 1024.0  (1024.0)\n",
      "     | > grad_norm: tensor(21.2750, device='cuda:0')  (tensor(69.1248, device='cuda:0'))\n",
      "     | > current_lr: 8.25e-06 \n",
      "     | > step_time: 0.34  (0.3038922697305679)\n",
      "     | > loader_time: 0.0029  (0.003645092248916626)\n",
      "\n",
      "\n",
      " > CHECKPOINT : glowtts_train_dir/run-October-21-2024_11+30AM-0000000/checkpoint_20000.pth\n"
     ]
    },
    {
     "name": "stdout",
     "output_type": "stream",
     "text": [
      "เขา ก็ บ่น เร็ว ๆ ก็ เล่า กัน โฟล ลี่ แนะ นําผม ให้ เวลา เต็มที่ ห้า นาที ก่อนที่ กรุงเทพฯ จะ เข้าไป ร่วมกับ เวลา ปกติ ของ โลก ฮอล ลี่ ก้าว ผ่าน ศูนย์ ที่ เคย เป็น ทางเดิน คม ระยะ เบา ๆ เพราะ แรง แตก ของ ระเบิด แต่ นอกจากนั้น ทุกอย่าง ยังคง สภาพเดิม ที่ เธอ จํา ได้ ทาง ข้างล่าง ห้องขัง ไม่ มี ใคร ตอบ ไม่ มี แม้แต่ คํา เดียว มี ใคร บางคน ออกเสียง ออกมา เสียงดัง ๆ มาย โฟล์ เต็มที่ ฮอล ลี่ หัน มอง ไป รอบด้าน\n",
      " [!] Character 'ฯ' not found in the vocabulary. Discarding it.\n"
     ]
    },
    {
     "name": "stderr",
     "output_type": "stream",
     "text": [
      "\n",
      "\u001b[1m > EVALUATION \u001b[0m\n",
      "\n"
     ]
    },
    {
     "name": "stdout",
     "output_type": "stream",
     "text": [
      " | > Synthesizing test sentences.\n"
     ]
    },
    {
     "name": "stderr",
     "output_type": "stream",
     "text": [
      "\n",
      "  \u001b[1m--> EVAL PERFORMANCE\u001b[0m\n",
      "     | > avg_loader_time:\u001b[92m 0.058636808395385744 \u001b[0m(-0.01905770301818848)\n",
      "     | > avg_loss:\u001b[92m 0.7891639709472656 \u001b[0m(-0.14494705200195312)\n",
      "     | > avg_log_mle:\u001b[92m 0.011969685554504395 \u001b[0m(-0.07408277988433838)\n",
      "     | > avg_loss_dur:\u001b[92m 0.7771942853927613 \u001b[0m(-0.0708642721176147)\n",
      "\n",
      "\n",
      "\u001b[4m\u001b[1m > EPOCH: 34/100\u001b[0m\n",
      " --> glowtts_train_dir/run-October-21-2024_11+30AM-0000000\n",
      "\n",
      "\u001b[1m > TRAINING (2024-10-21 13:22:52) \u001b[0m\n"
     ]
    },
    {
     "name": "stdout",
     "output_type": "stream",
     "text": [
      "เขา ก็ บ่น เร็ว ๆ ก็ เล่า กัน โฟล ลี่ แนะ นําผม ให้ เวลา เต็มที่ ห้า นาที ก่อนที่ กรุงเทพฯ จะ เข้าไป ร่วมกับ เวลา ปกติ ของ โลก ฮอล ลี่ ก้าว ผ่าน ศูนย์ ที่ เคย เป็น ทางเดิน คม ระยะ เบา ๆ เพราะ แรง แตก ของ ระเบิด แต่ นอกจากนั้น ทุกอย่าง ยังคง สภาพเดิม ที่ เธอ จํา ได้ ทาง ข้างล่าง ห้องขัง ไม่ มี ใคร ตอบ ไม่ มี แม้แต่ คํา เดียว มี ใคร บางคน ออกเสียง ออกมา เสียงดัง ๆ มาย โฟล์ เต็มที่ ฮอล ลี่ หัน มอง ไป รอบด้าน\n",
      " [!] Character 'ฯ' not found in the vocabulary. Discarding it.\n"
     ]
    },
    {
     "name": "stderr",
     "output_type": "stream",
     "text": [
      "\n",
      "\u001b[1m > EVALUATION \u001b[0m\n",
      "\n"
     ]
    },
    {
     "name": "stdout",
     "output_type": "stream",
     "text": [
      " | > Synthesizing test sentences.\n"
     ]
    },
    {
     "name": "stderr",
     "output_type": "stream",
     "text": [
      "\n",
      "  \u001b[1m--> EVAL PERFORMANCE\u001b[0m\n",
      "     | > avg_loader_time:\u001b[91m 0.07202215194702148 \u001b[0m(+0.013385343551635738)\n",
      "     | > avg_loss:\u001b[92m 0.7646118044853211 \u001b[0m(-0.02455216646194458)\n",
      "     | > avg_log_mle:\u001b[92m -0.012131619453430175 \u001b[0m(-0.02410130500793457)\n",
      "     | > avg_loss_dur:\u001b[92m 0.7767434239387512 \u001b[0m(-0.0004508614540100764)\n",
      "\n",
      "\n",
      "\u001b[4m\u001b[1m > EPOCH: 35/100\u001b[0m\n",
      " --> glowtts_train_dir/run-October-21-2024_11+30AM-0000000\n",
      "\n",
      "\u001b[1m > TRAINING (2024-10-21 13:26:05) \u001b[0m\n",
      "\n",
      "\u001b[1m   --> TIME: 2024-10-21 13:27:32 -- STEP: 280/592 -- GLOBAL_STEP: 21000\u001b[0m\n",
      "     | > loss: 0.4061993956565857  (0.5853958149041446)\n",
      "     | > log_mle: -0.25904643535614014  (-0.19499921138797488)\n",
      "     | > loss_dur: 0.6652458310127258  (0.7803950262921197)\n",
      "     | > amp_scaler: 1024.0  (1024.0)\n",
      "     | > grad_norm: tensor(158.4693, device='cuda:0')  (tensor(70.2262, device='cuda:0'))\n",
      "     | > current_lr: 8.750000000000001e-06 \n",
      "     | > step_time: 0.3281  (0.3005599677562712)\n",
      "     | > loader_time: 0.0023  (0.0038497763020651707)\n",
      "\n",
      "\n",
      " > CHECKPOINT : glowtts_train_dir/run-October-21-2024_11+30AM-0000000/checkpoint_21000.pth\n"
     ]
    },
    {
     "name": "stdout",
     "output_type": "stream",
     "text": [
      "เขา ก็ บ่น เร็ว ๆ ก็ เล่า กัน โฟล ลี่ แนะ นําผม ให้ เวลา เต็มที่ ห้า นาที ก่อนที่ กรุงเทพฯ จะ เข้าไป ร่วมกับ เวลา ปกติ ของ โลก ฮอล ลี่ ก้าว ผ่าน ศูนย์ ที่ เคย เป็น ทางเดิน คม ระยะ เบา ๆ เพราะ แรง แตก ของ ระเบิด แต่ นอกจากนั้น ทุกอย่าง ยังคง สภาพเดิม ที่ เธอ จํา ได้ ทาง ข้างล่าง ห้องขัง ไม่ มี ใคร ตอบ ไม่ มี แม้แต่ คํา เดียว มี ใคร บางคน ออกเสียง ออกมา เสียงดัง ๆ มาย โฟล์ เต็มที่ ฮอล ลี่ หัน มอง ไป รอบด้าน\n",
      " [!] Character 'ฯ' not found in the vocabulary. Discarding it.\n"
     ]
    },
    {
     "name": "stderr",
     "output_type": "stream",
     "text": [
      "\n",
      "\u001b[1m > EVALUATION \u001b[0m\n",
      "\n"
     ]
    },
    {
     "name": "stdout",
     "output_type": "stream",
     "text": [
      " | > Synthesizing test sentences.\n"
     ]
    },
    {
     "name": "stderr",
     "output_type": "stream",
     "text": [
      "\n",
      "  \u001b[1m--> EVAL PERFORMANCE\u001b[0m\n",
      "     | > avg_loader_time:\u001b[92m 0.04741683006286621 \u001b[0m(-0.02460532188415527)\n",
      "     | > avg_loss:\u001b[91m 0.8934943437576294 \u001b[0m(+0.1288825392723083)\n",
      "     | > avg_log_mle:\u001b[91m 0.07197647094726563 \u001b[0m(+0.0841080904006958)\n",
      "     | > avg_loss_dur:\u001b[91m 0.8215178608894348 \u001b[0m(+0.044774436950683616)\n",
      "\n",
      "\n",
      "\u001b[4m\u001b[1m > EPOCH: 36/100\u001b[0m\n",
      " --> glowtts_train_dir/run-October-21-2024_11+30AM-0000000\n",
      "\n",
      "\u001b[1m > TRAINING (2024-10-21 13:29:25) \u001b[0m\n"
     ]
    },
    {
     "name": "stdout",
     "output_type": "stream",
     "text": [
      "เขา ก็ บ่น เร็ว ๆ ก็ เล่า กัน โฟล ลี่ แนะ นําผม ให้ เวลา เต็มที่ ห้า นาที ก่อนที่ กรุงเทพฯ จะ เข้าไป ร่วมกับ เวลา ปกติ ของ โลก ฮอล ลี่ ก้าว ผ่าน ศูนย์ ที่ เคย เป็น ทางเดิน คม ระยะ เบา ๆ เพราะ แรง แตก ของ ระเบิด แต่ นอกจากนั้น ทุกอย่าง ยังคง สภาพเดิม ที่ เธอ จํา ได้ ทาง ข้างล่าง ห้องขัง ไม่ มี ใคร ตอบ ไม่ มี แม้แต่ คํา เดียว มี ใคร บางคน ออกเสียง ออกมา เสียงดัง ๆ มาย โฟล์ เต็มที่ ฮอล ลี่ หัน มอง ไป รอบด้าน\n",
      " [!] Character 'ฯ' not found in the vocabulary. Discarding it.\n"
     ]
    },
    {
     "name": "stderr",
     "output_type": "stream",
     "text": [
      "\n",
      "\u001b[1m > EVALUATION \u001b[0m\n",
      "\n"
     ]
    },
    {
     "name": "stdout",
     "output_type": "stream",
     "text": [
      " | > Synthesizing test sentences.\n"
     ]
    },
    {
     "name": "stderr",
     "output_type": "stream",
     "text": [
      "\n",
      "  \u001b[1m--> EVAL PERFORMANCE\u001b[0m\n",
      "     | > avg_loader_time:\u001b[92m 0.03940739631652832 \u001b[0m(-0.00800943374633789)\n",
      "     | > avg_loss:\u001b[91m 0.9270247936248779 \u001b[0m(+0.03353044986724851)\n",
      "     | > avg_log_mle:\u001b[91m 0.09830678701400757 \u001b[0m(+0.026330316066741938)\n",
      "     | > avg_loss_dur:\u001b[91m 0.8287180185317993 \u001b[0m(+0.00720015764236448)\n",
      "\n",
      "\n",
      "\u001b[4m\u001b[1m > EPOCH: 37/100\u001b[0m\n",
      " --> glowtts_train_dir/run-October-21-2024_11+30AM-0000000\n",
      "\n",
      "\u001b[1m > TRAINING (2024-10-21 13:32:42) \u001b[0m\n",
      "\n",
      "\u001b[1m   --> TIME: 2024-10-21 13:33:13 -- STEP: 96/592 -- GLOBAL_STEP: 22000\u001b[0m\n",
      "     | > loss: 0.5402513146400452  (0.57841814806064)\n",
      "     | > log_mle: -0.18053197860717773  (-0.21162160051365694)\n",
      "     | > loss_dur: 0.7207832932472229  (0.7900397485742966)\n",
      "     | > amp_scaler: 1024.0  (1024.0)\n",
      "     | > grad_norm: tensor(4.2141, device='cuda:0')  (tensor(85.6879, device='cuda:0'))\n",
      "     | > current_lr: 9.250000000000001e-06 \n",
      "     | > step_time: 0.3323  (0.30309232324361807)\n",
      "     | > loader_time: 0.0033  (0.004199872414271036)\n",
      "\n",
      "\n",
      " > CHECKPOINT : glowtts_train_dir/run-October-21-2024_11+30AM-0000000/checkpoint_22000.pth\n"
     ]
    },
    {
     "name": "stdout",
     "output_type": "stream",
     "text": [
      "เขา ก็ บ่น เร็ว ๆ ก็ เล่า กัน โฟล ลี่ แนะ นําผม ให้ เวลา เต็มที่ ห้า นาที ก่อนที่ กรุงเทพฯ จะ เข้าไป ร่วมกับ เวลา ปกติ ของ โลก ฮอล ลี่ ก้าว ผ่าน ศูนย์ ที่ เคย เป็น ทางเดิน คม ระยะ เบา ๆ เพราะ แรง แตก ของ ระเบิด แต่ นอกจากนั้น ทุกอย่าง ยังคง สภาพเดิม ที่ เธอ จํา ได้ ทาง ข้างล่าง ห้องขัง ไม่ มี ใคร ตอบ ไม่ มี แม้แต่ คํา เดียว มี ใคร บางคน ออกเสียง ออกมา เสียงดัง ๆ มาย โฟล์ เต็มที่ ฮอล ลี่ หัน มอง ไป รอบด้าน\n",
      " [!] Character 'ฯ' not found in the vocabulary. Discarding it.\n"
     ]
    },
    {
     "name": "stderr",
     "output_type": "stream",
     "text": [
      "\n",
      "\u001b[1m > EVALUATION \u001b[0m\n",
      "\n"
     ]
    },
    {
     "name": "stdout",
     "output_type": "stream",
     "text": [
      " | > Synthesizing test sentences.\n"
     ]
    },
    {
     "name": "stderr",
     "output_type": "stream",
     "text": [
      "\n",
      "  \u001b[1m--> EVAL PERFORMANCE\u001b[0m\n",
      "     | > avg_loader_time:\u001b[91m 0.060843276977539065 \u001b[0m(+0.021435880661010744)\n",
      "     | > avg_loss:\u001b[91m 1.0000522136688232 \u001b[0m(+0.07302742004394536)\n",
      "     | > avg_log_mle:\u001b[91m 0.16242331266403198 \u001b[0m(+0.06411652565002442)\n",
      "     | > avg_loss_dur:\u001b[91m 0.8376289248466492 \u001b[0m(+0.00891090631484992)\n",
      "\n",
      "\n",
      "\u001b[4m\u001b[1m > EPOCH: 38/100\u001b[0m\n",
      " --> glowtts_train_dir/run-October-21-2024_11+30AM-0000000\n",
      "\n",
      "\u001b[1m > TRAINING (2024-10-21 13:36:03) \u001b[0m\n",
      "\n",
      "\u001b[1m   --> TIME: 2024-10-21 13:38:39 -- STEP: 504/592 -- GLOBAL_STEP: 23000\u001b[0m\n",
      "     | > loss: 0.5145431160926819  (0.5569124574226042)\n",
      "     | > log_mle: -0.2978297472000122  (-0.22326713492946018)\n",
      "     | > loss_dur: 0.8123728632926941  (0.7801795923520648)\n",
      "     | > amp_scaler: 1024.0  (1060.5714285714287)\n",
      "     | > grad_norm: tensor(54.5885, device='cuda:0')  (tensor(87.4815, device='cuda:0'))\n",
      "     | > current_lr: 9.499999999999999e-06 \n",
      "     | > step_time: 0.3063  (0.30316147539350746)\n",
      "     | > loader_time: 0.0025  (0.003696860775114998)\n",
      "\n",
      "\n",
      " > CHECKPOINT : glowtts_train_dir/run-October-21-2024_11+30AM-0000000/checkpoint_23000.pth\n"
     ]
    },
    {
     "name": "stdout",
     "output_type": "stream",
     "text": [
      "เขา ก็ บ่น เร็ว ๆ ก็ เล่า กัน โฟล ลี่ แนะ นําผม ให้ เวลา เต็มที่ ห้า นาที ก่อนที่ กรุงเทพฯ จะ เข้าไป ร่วมกับ เวลา ปกติ ของ โลก ฮอล ลี่ ก้าว ผ่าน ศูนย์ ที่ เคย เป็น ทางเดิน คม ระยะ เบา ๆ เพราะ แรง แตก ของ ระเบิด แต่ นอกจากนั้น ทุกอย่าง ยังคง สภาพเดิม ที่ เธอ จํา ได้ ทาง ข้างล่าง ห้องขัง ไม่ มี ใคร ตอบ ไม่ มี แม้แต่ คํา เดียว มี ใคร บางคน ออกเสียง ออกมา เสียงดัง ๆ มาย โฟล์ เต็มที่ ฮอล ลี่ หัน มอง ไป รอบด้าน\n",
      " [!] Character 'ฯ' not found in the vocabulary. Discarding it.\n"
     ]
    },
    {
     "name": "stderr",
     "output_type": "stream",
     "text": [
      "\n",
      "\u001b[1m > EVALUATION \u001b[0m\n",
      "\n"
     ]
    },
    {
     "name": "stdout",
     "output_type": "stream",
     "text": [
      " | > Synthesizing test sentences.\n"
     ]
    },
    {
     "name": "stderr",
     "output_type": "stream",
     "text": [
      "\n",
      "  \u001b[1m--> EVAL PERFORMANCE\u001b[0m\n",
      "     | > avg_loader_time:\u001b[92m 0.043979215621948245 \u001b[0m(-0.01686406135559082)\n",
      "     | > avg_loss:\u001b[92m 0.730077600479126 \u001b[0m(-0.2699746131896973)\n",
      "     | > avg_log_mle:\u001b[92m -0.0462349534034729 \u001b[0m(-0.20865826606750487)\n",
      "     | > avg_loss_dur:\u001b[92m 0.7763125538825989 \u001b[0m(-0.06131637096405029)\n",
      "\n",
      "\n",
      "\u001b[4m\u001b[1m > EPOCH: 39/100\u001b[0m\n",
      " --> glowtts_train_dir/run-October-21-2024_11+30AM-0000000\n",
      "\n",
      "\u001b[1m > TRAINING (2024-10-21 13:39:23) \u001b[0m\n"
     ]
    },
    {
     "name": "stdout",
     "output_type": "stream",
     "text": [
      "เขา ก็ บ่น เร็ว ๆ ก็ เล่า กัน โฟล ลี่ แนะ นําผม ให้ เวลา เต็มที่ ห้า นาที ก่อนที่ กรุงเทพฯ จะ เข้าไป ร่วมกับ เวลา ปกติ ของ โลก ฮอล ลี่ ก้าว ผ่าน ศูนย์ ที่ เคย เป็น ทางเดิน คม ระยะ เบา ๆ เพราะ แรง แตก ของ ระเบิด แต่ นอกจากนั้น ทุกอย่าง ยังคง สภาพเดิม ที่ เธอ จํา ได้ ทาง ข้างล่าง ห้องขัง ไม่ มี ใคร ตอบ ไม่ มี แม้แต่ คํา เดียว มี ใคร บางคน ออกเสียง ออกมา เสียงดัง ๆ มาย โฟล์ เต็มที่ ฮอล ลี่ หัน มอง ไป รอบด้าน\n",
      " [!] Character 'ฯ' not found in the vocabulary. Discarding it.\n"
     ]
    },
    {
     "name": "stderr",
     "output_type": "stream",
     "text": [
      "\n",
      "\u001b[1m > EVALUATION \u001b[0m\n",
      "\n"
     ]
    },
    {
     "name": "stdout",
     "output_type": "stream",
     "text": [
      " | > Synthesizing test sentences.\n"
     ]
    },
    {
     "name": "stderr",
     "output_type": "stream",
     "text": [
      "\n",
      "  \u001b[1m--> EVAL PERFORMANCE\u001b[0m\n",
      "     | > avg_loader_time:\u001b[92m 0.03846721649169922 \u001b[0m(-0.0055119991302490234)\n",
      "     | > avg_loss:\u001b[92m 0.6112608313560486 \u001b[0m(-0.11881676912307737)\n",
      "     | > avg_log_mle:\u001b[92m -0.13536345958709717 \u001b[0m(-0.08912850618362426)\n",
      "     | > avg_loss_dur:\u001b[92m 0.7466242909431458 \u001b[0m(-0.029688262939453147)\n",
      "\n",
      " > BEST MODEL : glowtts_train_dir/run-October-21-2024_11+30AM-0000000/best_model_23680.pth\n",
      "\n",
      "\u001b[4m\u001b[1m > EPOCH: 40/100\u001b[0m\n",
      " --> glowtts_train_dir/run-October-21-2024_11+30AM-0000000\n",
      "\n",
      "\u001b[1m > TRAINING (2024-10-21 13:42:42) \u001b[0m\n",
      "\n",
      "\u001b[1m   --> TIME: 2024-10-21 13:44:22 -- STEP: 320/592 -- GLOBAL_STEP: 24000\u001b[0m\n",
      "     | > loss: 0.40685683488845825  (0.5485795922577379)\n",
      "     | > log_mle: -0.34689319133758545  (-0.23459136970341204)\n",
      "     | > loss_dur: 0.7537500262260437  (0.7831709619611499)\n",
      "     | > amp_scaler: 1024.0  (1024.0)\n",
      "     | > grad_norm: tensor(57.2223, device='cuda:0')  (tensor(79.2020, device='cuda:0'))\n",
      "     | > current_lr: 9.999999999999999e-06 \n",
      "     | > step_time: 0.2646  (0.3015069626271726)\n",
      "     | > loader_time: 0.006  (0.004046366363763805)\n",
      "\n",
      "\n",
      " > CHECKPOINT : glowtts_train_dir/run-October-21-2024_11+30AM-0000000/checkpoint_24000.pth\n"
     ]
    },
    {
     "name": "stdout",
     "output_type": "stream",
     "text": [
      "เขา ก็ บ่น เร็ว ๆ ก็ เล่า กัน โฟล ลี่ แนะ นําผม ให้ เวลา เต็มที่ ห้า นาที ก่อนที่ กรุงเทพฯ จะ เข้าไป ร่วมกับ เวลา ปกติ ของ โลก ฮอล ลี่ ก้าว ผ่าน ศูนย์ ที่ เคย เป็น ทางเดิน คม ระยะ เบา ๆ เพราะ แรง แตก ของ ระเบิด แต่ นอกจากนั้น ทุกอย่าง ยังคง สภาพเดิม ที่ เธอ จํา ได้ ทาง ข้างล่าง ห้องขัง ไม่ มี ใคร ตอบ ไม่ มี แม้แต่ คํา เดียว มี ใคร บางคน ออกเสียง ออกมา เสียงดัง ๆ มาย โฟล์ เต็มที่ ฮอล ลี่ หัน มอง ไป รอบด้าน\n",
      " [!] Character 'ฯ' not found in the vocabulary. Discarding it.\n"
     ]
    },
    {
     "name": "stderr",
     "output_type": "stream",
     "text": [
      "\n",
      "\u001b[1m > EVALUATION \u001b[0m\n",
      "\n"
     ]
    },
    {
     "name": "stdout",
     "output_type": "stream",
     "text": [
      " | > Synthesizing test sentences.\n"
     ]
    },
    {
     "name": "stderr",
     "output_type": "stream",
     "text": [
      "\n",
      "  \u001b[1m--> EVAL PERFORMANCE\u001b[0m\n",
      "     | > avg_loader_time:\u001b[91m 0.05551853179931641 \u001b[0m(+0.017051315307617186)\n",
      "     | > avg_loss:\u001b[91m 0.6791761636734008 \u001b[0m(+0.06791533231735225)\n",
      "     | > avg_log_mle:\u001b[91m -0.08904781341552734 \u001b[0m(+0.04631564617156983)\n",
      "     | > avg_loss_dur:\u001b[91m 0.7682239770889282 \u001b[0m(+0.02159968614578245)\n",
      "\n",
      "\n",
      "\u001b[4m\u001b[1m > EPOCH: 41/100\u001b[0m\n",
      " --> glowtts_train_dir/run-October-21-2024_11+30AM-0000000\n",
      "\n",
      "\u001b[1m > TRAINING (2024-10-21 13:46:02) \u001b[0m\n"
     ]
    },
    {
     "name": "stdout",
     "output_type": "stream",
     "text": [
      "เขา ก็ บ่น เร็ว ๆ ก็ เล่า กัน โฟล ลี่ แนะ นําผม ให้ เวลา เต็มที่ ห้า นาที ก่อนที่ กรุงเทพฯ จะ เข้าไป ร่วมกับ เวลา ปกติ ของ โลก ฮอล ลี่ ก้าว ผ่าน ศูนย์ ที่ เคย เป็น ทางเดิน คม ระยะ เบา ๆ เพราะ แรง แตก ของ ระเบิด แต่ นอกจากนั้น ทุกอย่าง ยังคง สภาพเดิม ที่ เธอ จํา ได้ ทาง ข้างล่าง ห้องขัง ไม่ มี ใคร ตอบ ไม่ มี แม้แต่ คํา เดียว มี ใคร บางคน ออกเสียง ออกมา เสียงดัง ๆ มาย โฟล์ เต็มที่ ฮอล ลี่ หัน มอง ไป รอบด้าน\n",
      " [!] Character 'ฯ' not found in the vocabulary. Discarding it.\n"
     ]
    },
    {
     "name": "stderr",
     "output_type": "stream",
     "text": [
      "\n",
      "\u001b[1m > EVALUATION \u001b[0m\n",
      "\n"
     ]
    },
    {
     "name": "stdout",
     "output_type": "stream",
     "text": [
      " | > Synthesizing test sentences.\n"
     ]
    },
    {
     "name": "stderr",
     "output_type": "stream",
     "text": [
      "\n",
      "  \u001b[1m--> EVAL PERFORMANCE\u001b[0m\n",
      "     | > avg_loader_time:\u001b[92m 0.054846763610839844 \u001b[0m(-0.0006717681884765639)\n",
      "     | > avg_loss:\u001b[91m 0.7829946875572205 \u001b[0m(+0.10381852388381962)\n",
      "     | > avg_log_mle:\u001b[91m -0.023881280422210695 \u001b[0m(+0.06516653299331665)\n",
      "     | > avg_loss_dur:\u001b[91m 0.8068759679794312 \u001b[0m(+0.038651990890502974)\n",
      "\n",
      "\n",
      "\u001b[4m\u001b[1m > EPOCH: 42/100\u001b[0m\n",
      " --> glowtts_train_dir/run-October-21-2024_11+30AM-0000000\n",
      "\n",
      "\u001b[1m > TRAINING (2024-10-21 13:49:14) \u001b[0m\n",
      "\n",
      "\u001b[1m   --> TIME: 2024-10-21 13:49:58 -- STEP: 136/592 -- GLOBAL_STEP: 25000\u001b[0m\n",
      "     | > loss: 0.5418336987495422  (0.5670170801527358)\n",
      "     | > log_mle: -0.24939262866973877  (-0.2359025662436205)\n",
      "     | > loss_dur: 0.791226327419281  (0.8029196463963566)\n",
      "     | > amp_scaler: 1024.0  (1024.0)\n",
      "     | > grad_norm: tensor(94.1563, device='cuda:0')  (tensor(88.0440, device='cuda:0'))\n",
      "     | > current_lr: 1.05e-05 \n",
      "     | > step_time: 0.4632  (0.3072268962860108)\n",
      "     | > loader_time: 0.003  (0.004106356817133287)\n",
      "\n",
      "\n",
      " > CHECKPOINT : glowtts_train_dir/run-October-21-2024_11+30AM-0000000/checkpoint_25000.pth\n"
     ]
    },
    {
     "name": "stdout",
     "output_type": "stream",
     "text": [
      "เขา ก็ บ่น เร็ว ๆ ก็ เล่า กัน โฟล ลี่ แนะ นําผม ให้ เวลา เต็มที่ ห้า นาที ก่อนที่ กรุงเทพฯ จะ เข้าไป ร่วมกับ เวลา ปกติ ของ โลก ฮอล ลี่ ก้าว ผ่าน ศูนย์ ที่ เคย เป็น ทางเดิน คม ระยะ เบา ๆ เพราะ แรง แตก ของ ระเบิด แต่ นอกจากนั้น ทุกอย่าง ยังคง สภาพเดิม ที่ เธอ จํา ได้ ทาง ข้างล่าง ห้องขัง ไม่ มี ใคร ตอบ ไม่ มี แม้แต่ คํา เดียว มี ใคร บางคน ออกเสียง ออกมา เสียงดัง ๆ มาย โฟล์ เต็มที่ ฮอล ลี่ หัน มอง ไป รอบด้าน\n",
      " [!] Character 'ฯ' not found in the vocabulary. Discarding it.\n"
     ]
    },
    {
     "name": "stderr",
     "output_type": "stream",
     "text": [
      "\n",
      "\u001b[1m > EVALUATION \u001b[0m\n",
      "\n"
     ]
    },
    {
     "name": "stdout",
     "output_type": "stream",
     "text": [
      " | > Synthesizing test sentences.\n"
     ]
    },
    {
     "name": "stderr",
     "output_type": "stream",
     "text": [
      "\n",
      "  \u001b[1m--> EVAL PERFORMANCE\u001b[0m\n",
      "     | > avg_loader_time:\u001b[91m 0.059085941314697264 \u001b[0m(+0.0042391777038574205)\n",
      "     | > avg_loss:\u001b[91m 0.803454053401947 \u001b[0m(+0.020459365844726518)\n",
      "     | > avg_log_mle:\u001b[91m 0.037922239303588866 \u001b[0m(+0.06180351972579956)\n",
      "     | > avg_loss_dur:\u001b[92m 0.7655318140983581 \u001b[0m(-0.04134415388107304)\n",
      "\n",
      "\n",
      "\u001b[4m\u001b[1m > EPOCH: 43/100\u001b[0m\n",
      " --> glowtts_train_dir/run-October-21-2024_11+30AM-0000000\n",
      "\n",
      "\u001b[1m > TRAINING (2024-10-21 13:52:33) \u001b[0m\n",
      "\n",
      "\u001b[1m   --> TIME: 2024-10-21 13:55:24 -- STEP: 544/592 -- GLOBAL_STEP: 26000\u001b[0m\n",
      "     | > loss: 0.6478090286254883  (0.5265436456264823)\n",
      "     | > log_mle: -0.1501082181930542  (-0.25376152192406787)\n",
      "     | > loss_dur: 0.7979172468185425  (0.7803051675505498)\n",
      "     | > amp_scaler: 512.0  (522.3529411764702)\n",
      "     | > grad_norm: tensor(15.7446, device='cuda:0')  (tensor(88.8699, device='cuda:0'))\n",
      "     | > current_lr: 1.075e-05 \n",
      "     | > step_time: 0.2769  (0.3041463546893176)\n",
      "     | > loader_time: 0.003  (0.004154630443629098)\n",
      "\n",
      "\n",
      " > CHECKPOINT : glowtts_train_dir/run-October-21-2024_11+30AM-0000000/checkpoint_26000.pth\n"
     ]
    },
    {
     "name": "stdout",
     "output_type": "stream",
     "text": [
      "เขา ก็ บ่น เร็ว ๆ ก็ เล่า กัน โฟล ลี่ แนะ นําผม ให้ เวลา เต็มที่ ห้า นาที ก่อนที่ กรุงเทพฯ จะ เข้าไป ร่วมกับ เวลา ปกติ ของ โลก ฮอล ลี่ ก้าว ผ่าน ศูนย์ ที่ เคย เป็น ทางเดิน คม ระยะ เบา ๆ เพราะ แรง แตก ของ ระเบิด แต่ นอกจากนั้น ทุกอย่าง ยังคง สภาพเดิม ที่ เธอ จํา ได้ ทาง ข้างล่าง ห้องขัง ไม่ มี ใคร ตอบ ไม่ มี แม้แต่ คํา เดียว มี ใคร บางคน ออกเสียง ออกมา เสียงดัง ๆ มาย โฟล์ เต็มที่ ฮอล ลี่ หัน มอง ไป รอบด้าน\n",
      " [!] Character 'ฯ' not found in the vocabulary. Discarding it.\n"
     ]
    },
    {
     "name": "stderr",
     "output_type": "stream",
     "text": [
      "\n",
      "\u001b[1m > EVALUATION \u001b[0m\n",
      "\n"
     ]
    },
    {
     "name": "stdout",
     "output_type": "stream",
     "text": [
      " | > Synthesizing test sentences.\n"
     ]
    },
    {
     "name": "stderr",
     "output_type": "stream",
     "text": [
      "\n",
      "  \u001b[1m--> EVAL PERFORMANCE\u001b[0m\n",
      "     | > avg_loader_time:\u001b[91m 0.061225175857543945 \u001b[0m(+0.002139234542846681)\n",
      "     | > avg_loss:\u001b[92m 0.6380720257759094 \u001b[0m(-0.1653820276260376)\n",
      "     | > avg_log_mle:\u001b[92m -0.10431413650512696 \u001b[0m(-0.14223637580871581)\n",
      "     | > avg_loss_dur:\u001b[92m 0.7423861622810364 \u001b[0m(-0.023145651817321755)\n",
      "\n",
      "\n",
      "\u001b[4m\u001b[1m > EPOCH: 44/100\u001b[0m\n",
      " --> glowtts_train_dir/run-October-21-2024_11+30AM-0000000\n",
      "\n",
      "\u001b[1m > TRAINING (2024-10-21 13:55:56) \u001b[0m\n"
     ]
    },
    {
     "name": "stdout",
     "output_type": "stream",
     "text": [
      "เขา ก็ บ่น เร็ว ๆ ก็ เล่า กัน โฟล ลี่ แนะ นําผม ให้ เวลา เต็มที่ ห้า นาที ก่อนที่ กรุงเทพฯ จะ เข้าไป ร่วมกับ เวลา ปกติ ของ โลก ฮอล ลี่ ก้าว ผ่าน ศูนย์ ที่ เคย เป็น ทางเดิน คม ระยะ เบา ๆ เพราะ แรง แตก ของ ระเบิด แต่ นอกจากนั้น ทุกอย่าง ยังคง สภาพเดิม ที่ เธอ จํา ได้ ทาง ข้างล่าง ห้องขัง ไม่ มี ใคร ตอบ ไม่ มี แม้แต่ คํา เดียว มี ใคร บางคน ออกเสียง ออกมา เสียงดัง ๆ มาย โฟล์ เต็มที่ ฮอล ลี่ หัน มอง ไป รอบด้าน\n",
      " [!] Character 'ฯ' not found in the vocabulary. Discarding it.\n"
     ]
    },
    {
     "name": "stderr",
     "output_type": "stream",
     "text": [
      "\n",
      "\u001b[1m > EVALUATION \u001b[0m\n",
      "\n"
     ]
    },
    {
     "name": "stdout",
     "output_type": "stream",
     "text": [
      " | > Synthesizing test sentences.\n"
     ]
    },
    {
     "name": "stderr",
     "output_type": "stream",
     "text": [
      "\n",
      "  \u001b[1m--> EVAL PERFORMANCE\u001b[0m\n",
      "     | > avg_loader_time:\u001b[92m 0.039116287231445314 \u001b[0m(-0.02210888862609863)\n",
      "     | > avg_loss:\u001b[91m 0.8342066168785095 \u001b[0m(+0.19613459110260012)\n",
      "     | > avg_log_mle:\u001b[91m 0.018577611446380614 \u001b[0m(+0.12289174795150756)\n",
      "     | > avg_loss_dur:\u001b[91m 0.8156290054321289 \u001b[0m(+0.07324284315109253)\n",
      "\n",
      "\n",
      "\u001b[4m\u001b[1m > EPOCH: 45/100\u001b[0m\n",
      " --> glowtts_train_dir/run-October-21-2024_11+30AM-0000000\n",
      "\n",
      "\u001b[1m > TRAINING (2024-10-21 13:59:11) \u001b[0m\n",
      "\n",
      "\u001b[1m   --> TIME: 2024-10-21 14:01:03 -- STEP: 360/592 -- GLOBAL_STEP: 27000\u001b[0m\n",
      "     | > loss: 0.6325973272323608  (0.5338386621740131)\n",
      "     | > log_mle: -0.16355419158935547  (-0.25768221169710126)\n",
      "     | > loss_dur: 0.7961515188217163  (0.791520873871114)\n",
      "     | > amp_scaler: 512.0  (512.0)\n",
      "     | > grad_norm: tensor(1.9056, device='cuda:0')  (tensor(102.3567, device='cuda:0'))\n",
      "     | > current_lr: 1.125e-05 \n",
      "     | > step_time: 0.241  (0.30244953764809485)\n",
      "     | > loader_time: 0.0031  (0.003842648532655504)\n",
      "\n",
      "\n",
      " > CHECKPOINT : glowtts_train_dir/run-October-21-2024_11+30AM-0000000/checkpoint_27000.pth\n"
     ]
    },
    {
     "name": "stdout",
     "output_type": "stream",
     "text": [
      "เขา ก็ บ่น เร็ว ๆ ก็ เล่า กัน โฟล ลี่ แนะ นําผม ให้ เวลา เต็มที่ ห้า นาที ก่อนที่ กรุงเทพฯ จะ เข้าไป ร่วมกับ เวลา ปกติ ของ โลก ฮอล ลี่ ก้าว ผ่าน ศูนย์ ที่ เคย เป็น ทางเดิน คม ระยะ เบา ๆ เพราะ แรง แตก ของ ระเบิด แต่ นอกจากนั้น ทุกอย่าง ยังคง สภาพเดิม ที่ เธอ จํา ได้ ทาง ข้างล่าง ห้องขัง ไม่ มี ใคร ตอบ ไม่ มี แม้แต่ คํา เดียว มี ใคร บางคน ออกเสียง ออกมา เสียงดัง ๆ มาย โฟล์ เต็มที่ ฮอล ลี่ หัน มอง ไป รอบด้าน\n",
      " [!] Character 'ฯ' not found in the vocabulary. Discarding it.\n"
     ]
    },
    {
     "name": "stderr",
     "output_type": "stream",
     "text": [
      "\n",
      "\u001b[1m > EVALUATION \u001b[0m\n",
      "\n"
     ]
    },
    {
     "name": "stdout",
     "output_type": "stream",
     "text": [
      " | > Synthesizing test sentences.\n"
     ]
    },
    {
     "name": "stderr",
     "output_type": "stream",
     "text": [
      "\n",
      "  \u001b[1m--> EVAL PERFORMANCE\u001b[0m\n",
      "     | > avg_loader_time:\u001b[91m 0.0602358341217041 \u001b[0m(+0.021119546890258786)\n",
      "     | > avg_loss:\u001b[92m 0.7753822922706604 \u001b[0m(-0.05882432460784914)\n",
      "     | > avg_log_mle:\u001b[92m -0.05524542331695557 \u001b[0m(-0.07382303476333618)\n",
      "     | > avg_loss_dur:\u001b[91m 0.830627715587616 \u001b[0m(+0.014998710155487038)\n",
      "\n",
      "\n",
      "\u001b[4m\u001b[1m > EPOCH: 46/100\u001b[0m\n",
      " --> glowtts_train_dir/run-October-21-2024_11+30AM-0000000\n",
      "\n",
      "\u001b[1m > TRAINING (2024-10-21 14:02:33) \u001b[0m\n"
     ]
    },
    {
     "name": "stdout",
     "output_type": "stream",
     "text": [
      "เขา ก็ บ่น เร็ว ๆ ก็ เล่า กัน โฟล ลี่ แนะ นําผม ให้ เวลา เต็มที่ ห้า นาที ก่อนที่ กรุงเทพฯ จะ เข้าไป ร่วมกับ เวลา ปกติ ของ โลก ฮอล ลี่ ก้าว ผ่าน ศูนย์ ที่ เคย เป็น ทางเดิน คม ระยะ เบา ๆ เพราะ แรง แตก ของ ระเบิด แต่ นอกจากนั้น ทุกอย่าง ยังคง สภาพเดิม ที่ เธอ จํา ได้ ทาง ข้างล่าง ห้องขัง ไม่ มี ใคร ตอบ ไม่ มี แม้แต่ คํา เดียว มี ใคร บางคน ออกเสียง ออกมา เสียงดัง ๆ มาย โฟล์ เต็มที่ ฮอล ลี่ หัน มอง ไป รอบด้าน\n",
      " [!] Character 'ฯ' not found in the vocabulary. Discarding it.\n"
     ]
    },
    {
     "name": "stderr",
     "output_type": "stream",
     "text": [
      "\n",
      "\u001b[1m > EVALUATION \u001b[0m\n",
      "\n"
     ]
    },
    {
     "name": "stdout",
     "output_type": "stream",
     "text": [
      " | > Synthesizing test sentences.\n"
     ]
    },
    {
     "name": "stderr",
     "output_type": "stream",
     "text": [
      "\n",
      "  \u001b[1m--> EVAL PERFORMANCE\u001b[0m\n",
      "     | > avg_loader_time:\u001b[92m 0.05720090866088867 \u001b[0m(-0.0030349254608154283)\n",
      "     | > avg_loss:\u001b[91m 0.8157783150672913 \u001b[0m(+0.040396022796630904)\n",
      "     | > avg_log_mle:\u001b[91m 0.010646462440490723 \u001b[0m(+0.06589188575744628)\n",
      "     | > avg_loss_dur:\u001b[92m 0.8051318526268005 \u001b[0m(-0.025495862960815407)\n",
      "\n",
      "\n",
      "\u001b[4m\u001b[1m > EPOCH: 47/100\u001b[0m\n",
      " --> glowtts_train_dir/run-October-21-2024_11+30AM-0000000\n",
      "\n",
      "\u001b[1m > TRAINING (2024-10-21 14:05:49) \u001b[0m\n",
      "\n",
      "\u001b[1m   --> TIME: 2024-10-21 14:06:45 -- STEP: 176/592 -- GLOBAL_STEP: 28000\u001b[0m\n",
      "     | > loss: 0.5379101634025574  (0.5274644825946201)\n",
      "     | > log_mle: -0.2366718053817749  (-0.2636199061843481)\n",
      "     | > loss_dur: 0.7745819687843323  (0.7910843887789683)\n",
      "     | > amp_scaler: 512.0  (564.3636363636359)\n",
      "     | > grad_norm: tensor(36.1597, device='cuda:0')  (tensor(95.2846, device='cuda:0'))\n",
      "     | > current_lr: 1.1750000000000001e-05 \n",
      "     | > step_time: 0.1907  (0.30240766704082495)\n",
      "     | > loader_time: 0.003  (0.003967044028368865)\n",
      "\n",
      "\n",
      " > CHECKPOINT : glowtts_train_dir/run-October-21-2024_11+30AM-0000000/checkpoint_28000.pth\n"
     ]
    },
    {
     "name": "stdout",
     "output_type": "stream",
     "text": [
      "เขา ก็ บ่น เร็ว ๆ ก็ เล่า กัน โฟล ลี่ แนะ นําผม ให้ เวลา เต็มที่ ห้า นาที ก่อนที่ กรุงเทพฯ จะ เข้าไป ร่วมกับ เวลา ปกติ ของ โลก ฮอล ลี่ ก้าว ผ่าน ศูนย์ ที่ เคย เป็น ทางเดิน คม ระยะ เบา ๆ เพราะ แรง แตก ของ ระเบิด แต่ นอกจากนั้น ทุกอย่าง ยังคง สภาพเดิม ที่ เธอ จํา ได้ ทาง ข้างล่าง ห้องขัง ไม่ มี ใคร ตอบ ไม่ มี แม้แต่ คํา เดียว มี ใคร บางคน ออกเสียง ออกมา เสียงดัง ๆ มาย โฟล์ เต็มที่ ฮอล ลี่ หัน มอง ไป รอบด้าน\n",
      " [!] Character 'ฯ' not found in the vocabulary. Discarding it.\n"
     ]
    },
    {
     "name": "stderr",
     "output_type": "stream",
     "text": [
      "\n",
      "\u001b[1m > EVALUATION \u001b[0m\n",
      "\n"
     ]
    },
    {
     "name": "stdout",
     "output_type": "stream",
     "text": [
      " | > Synthesizing test sentences.\n"
     ]
    },
    {
     "name": "stderr",
     "output_type": "stream",
     "text": [
      "\n",
      "  \u001b[1m--> EVAL PERFORMANCE\u001b[0m\n",
      "     | > avg_loader_time:\u001b[92m 0.04020757675170898 \u001b[0m(-0.01699333190917969)\n",
      "     | > avg_loss:\u001b[91m 0.8859020471572876 \u001b[0m(+0.07012373208999634)\n",
      "     | > avg_log_mle:\u001b[91m 0.048785078525543216 \u001b[0m(+0.03813861608505249)\n",
      "     | > avg_loss_dur:\u001b[91m 0.8371169567108154 \u001b[0m(+0.03198510408401489)\n",
      "\n",
      "\n",
      "\u001b[4m\u001b[1m > EPOCH: 48/100\u001b[0m\n",
      " --> glowtts_train_dir/run-October-21-2024_11+30AM-0000000\n",
      "\n",
      "\u001b[1m > TRAINING (2024-10-21 14:09:11) \u001b[0m\n"
     ]
    },
    {
     "name": "stdout",
     "output_type": "stream",
     "text": [
      "เขา ก็ บ่น เร็ว ๆ ก็ เล่า กัน โฟล ลี่ แนะ นําผม ให้ เวลา เต็มที่ ห้า นาที ก่อนที่ กรุงเทพฯ จะ เข้าไป ร่วมกับ เวลา ปกติ ของ โลก ฮอล ลี่ ก้าว ผ่าน ศูนย์ ที่ เคย เป็น ทางเดิน คม ระยะ เบา ๆ เพราะ แรง แตก ของ ระเบิด แต่ นอกจากนั้น ทุกอย่าง ยังคง สภาพเดิม ที่ เธอ จํา ได้ ทาง ข้างล่าง ห้องขัง ไม่ มี ใคร ตอบ ไม่ มี แม้แต่ คํา เดียว มี ใคร บางคน ออกเสียง ออกมา เสียงดัง ๆ มาย โฟล์ เต็มที่ ฮอล ลี่ หัน มอง ไป รอบด้าน\n",
      " [!] Character 'ฯ' not found in the vocabulary. Discarding it.\n"
     ]
    },
    {
     "name": "stderr",
     "output_type": "stream",
     "text": [
      "\n",
      "\u001b[1m   --> TIME: 2024-10-21 14:12:12 -- STEP: 584/592 -- GLOBAL_STEP: 29000\u001b[0m\n",
      "     | > loss: 0.5109733939170837  (0.502310932397026)\n",
      "     | > log_mle: -0.15820646286010742  (-0.2732953471067832)\n",
      "     | > loss_dur: 0.6691798567771912  (0.7756062795038094)\n",
      "     | > amp_scaler: 512.0  (512.0)\n",
      "     | > grad_norm: tensor(1.3774, device='cuda:0')  (tensor(81.7648, device='cuda:0'))\n",
      "     | > current_lr: 1.2e-05 \n",
      "     | > step_time: 0.3356  (0.3021144001451258)\n",
      "     | > loader_time: 0.0027  (0.0041423778827876295)\n",
      "\n",
      "\n",
      " > CHECKPOINT : glowtts_train_dir/run-October-21-2024_11+30AM-0000000/checkpoint_29000.pth\n",
      "\n",
      "\u001b[1m > EVALUATION \u001b[0m\n",
      "\n"
     ]
    },
    {
     "name": "stdout",
     "output_type": "stream",
     "text": [
      " | > Synthesizing test sentences.\n"
     ]
    },
    {
     "name": "stderr",
     "output_type": "stream",
     "text": [
      "\n",
      "  \u001b[1m--> EVAL PERFORMANCE\u001b[0m\n",
      "     | > avg_loader_time:\u001b[91m 0.05244336128234863 \u001b[0m(+0.01223578453063965)\n",
      "     | > avg_loss:\u001b[92m 0.7111040949821472 \u001b[0m(-0.17479795217514038)\n",
      "     | > avg_log_mle:\u001b[92m -0.10793131589889526 \u001b[0m(-0.15671639442443847)\n",
      "     | > avg_loss_dur:\u001b[92m 0.8190354108810425 \u001b[0m(-0.01808154582977295)\n",
      "\n",
      "\n",
      "\u001b[4m\u001b[1m > EPOCH: 49/100\u001b[0m\n",
      " --> glowtts_train_dir/run-October-21-2024_11+30AM-0000000\n",
      "\n",
      "\u001b[1m > TRAINING (2024-10-21 14:12:33) \u001b[0m\n"
     ]
    },
    {
     "name": "stdout",
     "output_type": "stream",
     "text": [
      "เขา ก็ บ่น เร็ว ๆ ก็ เล่า กัน โฟล ลี่ แนะ นําผม ให้ เวลา เต็มที่ ห้า นาที ก่อนที่ กรุงเทพฯ จะ เข้าไป ร่วมกับ เวลา ปกติ ของ โลก ฮอล ลี่ ก้าว ผ่าน ศูนย์ ที่ เคย เป็น ทางเดิน คม ระยะ เบา ๆ เพราะ แรง แตก ของ ระเบิด แต่ นอกจากนั้น ทุกอย่าง ยังคง สภาพเดิม ที่ เธอ จํา ได้ ทาง ข้างล่าง ห้องขัง ไม่ มี ใคร ตอบ ไม่ มี แม้แต่ คํา เดียว มี ใคร บางคน ออกเสียง ออกมา เสียงดัง ๆ มาย โฟล์ เต็มที่ ฮอล ลี่ หัน มอง ไป รอบด้าน\n",
      " [!] Character 'ฯ' not found in the vocabulary. Discarding it.\n"
     ]
    },
    {
     "name": "stderr",
     "output_type": "stream",
     "text": [
      "\n",
      "\u001b[1m > EVALUATION \u001b[0m\n",
      "\n"
     ]
    },
    {
     "name": "stdout",
     "output_type": "stream",
     "text": [
      " | > Synthesizing test sentences.\n"
     ]
    },
    {
     "name": "stderr",
     "output_type": "stream",
     "text": [
      "\n",
      "  \u001b[1m--> EVAL PERFORMANCE\u001b[0m\n",
      "     | > avg_loader_time:\u001b[92m 0.03952813148498535 \u001b[0m(-0.01291522979736328)\n",
      "     | > avg_loss:\u001b[92m 0.611048698425293 \u001b[0m(-0.10005539655685425)\n",
      "     | > avg_log_mle:\u001b[92m -0.14421896934509276 \u001b[0m(-0.0362876534461975)\n",
      "     | > avg_loss_dur:\u001b[92m 0.7552676677703858 \u001b[0m(-0.0637677431106567)\n",
      "\n",
      " > BEST MODEL : glowtts_train_dir/run-October-21-2024_11+30AM-0000000/best_model_29600.pth\n",
      "\n",
      "\u001b[4m\u001b[1m > EPOCH: 50/100\u001b[0m\n",
      " --> glowtts_train_dir/run-October-21-2024_11+30AM-0000000\n",
      "\n",
      "\u001b[1m > TRAINING (2024-10-21 14:15:51) \u001b[0m\n",
      "\n",
      "\u001b[1m   --> TIME: 2024-10-21 14:17:58 -- STEP: 400/592 -- GLOBAL_STEP: 30000\u001b[0m\n",
      "     | > loss: 0.7961032390594482  (0.5040799266099928)\n",
      "     | > log_mle: -0.14416873455047607  (-0.2832255288958549)\n",
      "     | > loss_dur: 0.9402719736099243  (0.7873054555058481)\n",
      "     | > amp_scaler: 1024.0  (714.2400000000005)\n",
      "     | > grad_norm: tensor(1.5560, device='cuda:0')  (tensor(89.3130, device='cuda:0'))\n",
      "     | > current_lr: 1.2499999999999999e-05 \n",
      "     | > step_time: 0.1855  (0.3019670259952546)\n",
      "     | > loader_time: 0.0032  (0.008260722756385796)\n",
      "\n",
      "\n",
      " > CHECKPOINT : glowtts_train_dir/run-October-21-2024_11+30AM-0000000/checkpoint_30000.pth\n"
     ]
    },
    {
     "name": "stdout",
     "output_type": "stream",
     "text": [
      "เขา ก็ บ่น เร็ว ๆ ก็ เล่า กัน โฟล ลี่ แนะ นําผม ให้ เวลา เต็มที่ ห้า นาที ก่อนที่ กรุงเทพฯ จะ เข้าไป ร่วมกับ เวลา ปกติ ของ โลก ฮอล ลี่ ก้าว ผ่าน ศูนย์ ที่ เคย เป็น ทางเดิน คม ระยะ เบา ๆ เพราะ แรง แตก ของ ระเบิด แต่ นอกจากนั้น ทุกอย่าง ยังคง สภาพเดิม ที่ เธอ จํา ได้ ทาง ข้างล่าง ห้องขัง ไม่ มี ใคร ตอบ ไม่ มี แม้แต่ คํา เดียว มี ใคร บางคน ออกเสียง ออกมา เสียงดัง ๆ มาย โฟล์ เต็มที่ ฮอล ลี่ หัน มอง ไป รอบด้าน\n",
      " [!] Character 'ฯ' not found in the vocabulary. Discarding it.\n"
     ]
    },
    {
     "name": "stderr",
     "output_type": "stream",
     "text": [
      "\n",
      "\u001b[1m > EVALUATION \u001b[0m\n",
      "\n"
     ]
    },
    {
     "name": "stdout",
     "output_type": "stream",
     "text": [
      " | > Synthesizing test sentences.\n"
     ]
    },
    {
     "name": "stderr",
     "output_type": "stream",
     "text": [
      "\n",
      "  \u001b[1m--> EVAL PERFORMANCE\u001b[0m\n",
      "     | > avg_loader_time:\u001b[91m 0.04083018302917481 \u001b[0m(+0.001302051544189456)\n",
      "     | > avg_loss:\u001b[91m 0.6999916195869446 \u001b[0m(+0.08894292116165159)\n",
      "     | > avg_log_mle:\u001b[92m -0.19927587509155273 \u001b[0m(-0.055056905746459966)\n",
      "     | > avg_loss_dur:\u001b[91m 0.8992674946784973 \u001b[0m(+0.14399982690811153)\n",
      "\n",
      "\n",
      "\u001b[4m\u001b[1m > EPOCH: 51/100\u001b[0m\n",
      " --> glowtts_train_dir/run-October-21-2024_11+30AM-0000000\n",
      "\n",
      "\u001b[1m > TRAINING (2024-10-21 14:19:15) \u001b[0m\n"
     ]
    },
    {
     "name": "stdout",
     "output_type": "stream",
     "text": [
      "เขา ก็ บ่น เร็ว ๆ ก็ เล่า กัน โฟล ลี่ แนะ นําผม ให้ เวลา เต็มที่ ห้า นาที ก่อนที่ กรุงเทพฯ จะ เข้าไป ร่วมกับ เวลา ปกติ ของ โลก ฮอล ลี่ ก้าว ผ่าน ศูนย์ ที่ เคย เป็น ทางเดิน คม ระยะ เบา ๆ เพราะ แรง แตก ของ ระเบิด แต่ นอกจากนั้น ทุกอย่าง ยังคง สภาพเดิม ที่ เธอ จํา ได้ ทาง ข้างล่าง ห้องขัง ไม่ มี ใคร ตอบ ไม่ มี แม้แต่ คํา เดียว มี ใคร บางคน ออกเสียง ออกมา เสียงดัง ๆ มาย โฟล์ เต็มที่ ฮอล ลี่ หัน มอง ไป รอบด้าน\n",
      " [!] Character 'ฯ' not found in the vocabulary. Discarding it.\n"
     ]
    },
    {
     "name": "stderr",
     "output_type": "stream",
     "text": [
      "\n",
      "\u001b[1m > EVALUATION \u001b[0m\n",
      "\n"
     ]
    },
    {
     "name": "stdout",
     "output_type": "stream",
     "text": [
      " | > Synthesizing test sentences.\n"
     ]
    },
    {
     "name": "stderr",
     "output_type": "stream",
     "text": [
      "\n",
      "  \u001b[1m--> EVAL PERFORMANCE\u001b[0m\n",
      "     | > avg_loader_time:\u001b[91m 0.05008649826049805 \u001b[0m(+0.00925631523132324)\n",
      "     | > avg_loss:\u001b[92m 0.5162376880645752 \u001b[0m(-0.1837539315223694)\n",
      "     | > avg_log_mle:\u001b[92m -0.2533504724502563 \u001b[0m(-0.0540745973587036)\n",
      "     | > avg_loss_dur:\u001b[92m 0.7695881605148316 \u001b[0m(-0.12967933416366573)\n",
      "\n",
      " > BEST MODEL : glowtts_train_dir/run-October-21-2024_11+30AM-0000000/best_model_30784.pth\n",
      "\n",
      "\u001b[4m\u001b[1m > EPOCH: 52/100\u001b[0m\n",
      " --> glowtts_train_dir/run-October-21-2024_11+30AM-0000000\n",
      "\n",
      "\u001b[1m > TRAINING (2024-10-21 14:22:37) \u001b[0m\n",
      "\n",
      "\u001b[1m   --> TIME: 2024-10-21 14:23:44 -- STEP: 216/592 -- GLOBAL_STEP: 31000\u001b[0m\n",
      "     | > loss: 0.5283539891242981  (0.5143660058577857)\n",
      "     | > log_mle: -0.3472851514816284  (-0.28114046846274987)\n",
      "     | > loss_dur: 0.8756391406059265  (0.7955064743205353)\n",
      "     | > amp_scaler: 1024.0  (1024.0)\n",
      "     | > grad_norm: tensor(235.1176, device='cuda:0')  (tensor(106.9464, device='cuda:0'))\n",
      "     | > current_lr: 1.3e-05 \n",
      "     | > step_time: 0.2711  (0.3020337831090996)\n",
      "     | > loader_time: 0.0028  (0.0041781983993671576)\n",
      "\n",
      "\n",
      " > CHECKPOINT : glowtts_train_dir/run-October-21-2024_11+30AM-0000000/checkpoint_31000.pth\n"
     ]
    },
    {
     "name": "stdout",
     "output_type": "stream",
     "text": [
      "เขา ก็ บ่น เร็ว ๆ ก็ เล่า กัน โฟล ลี่ แนะ นําผม ให้ เวลา เต็มที่ ห้า นาที ก่อนที่ กรุงเทพฯ จะ เข้าไป ร่วมกับ เวลา ปกติ ของ โลก ฮอล ลี่ ก้าว ผ่าน ศูนย์ ที่ เคย เป็น ทางเดิน คม ระยะ เบา ๆ เพราะ แรง แตก ของ ระเบิด แต่ นอกจากนั้น ทุกอย่าง ยังคง สภาพเดิม ที่ เธอ จํา ได้ ทาง ข้างล่าง ห้องขัง ไม่ มี ใคร ตอบ ไม่ มี แม้แต่ คํา เดียว มี ใคร บางคน ออกเสียง ออกมา เสียงดัง ๆ มาย โฟล์ เต็มที่ ฮอล ลี่ หัน มอง ไป รอบด้าน\n",
      " [!] Character 'ฯ' not found in the vocabulary. Discarding it.\n"
     ]
    },
    {
     "name": "stderr",
     "output_type": "stream",
     "text": [
      "\n",
      "\u001b[1m > EVALUATION \u001b[0m\n",
      "\n"
     ]
    },
    {
     "name": "stdout",
     "output_type": "stream",
     "text": [
      " | > Synthesizing test sentences.\n"
     ]
    },
    {
     "name": "stderr",
     "output_type": "stream",
     "text": [
      "\n",
      "  \u001b[1m--> EVAL PERFORMANCE\u001b[0m\n",
      "     | > avg_loader_time:\u001b[91m 0.05298724174499512 \u001b[0m(+0.0029007434844970717)\n",
      "     | > avg_loss:\u001b[91m 0.802408492565155 \u001b[0m(+0.28617080450057986)\n",
      "     | > avg_log_mle:\u001b[91m -0.0821250319480896 \u001b[0m(+0.17122544050216673)\n",
      "     | > avg_loss_dur:\u001b[91m 0.8845335245132446 \u001b[0m(+0.11494536399841304)\n",
      "\n",
      "\n",
      "\u001b[4m\u001b[1m > EPOCH: 53/100\u001b[0m\n",
      " --> glowtts_train_dir/run-October-21-2024_11+30AM-0000000\n",
      "\n",
      "\u001b[1m > TRAINING (2024-10-21 14:25:57) \u001b[0m\n"
     ]
    },
    {
     "name": "stdout",
     "output_type": "stream",
     "text": [
      "เขา ก็ บ่น เร็ว ๆ ก็ เล่า กัน โฟล ลี่ แนะ นําผม ให้ เวลา เต็มที่ ห้า นาที ก่อนที่ กรุงเทพฯ จะ เข้าไป ร่วมกับ เวลา ปกติ ของ โลก ฮอล ลี่ ก้าว ผ่าน ศูนย์ ที่ เคย เป็น ทางเดิน คม ระยะ เบา ๆ เพราะ แรง แตก ของ ระเบิด แต่ นอกจากนั้น ทุกอย่าง ยังคง สภาพเดิม ที่ เธอ จํา ได้ ทาง ข้างล่าง ห้องขัง ไม่ มี ใคร ตอบ ไม่ มี แม้แต่ คํา เดียว มี ใคร บางคน ออกเสียง ออกมา เสียงดัง ๆ มาย โฟล์ เต็มที่ ฮอล ลี่ หัน มอง ไป รอบด้าน\n",
      " [!] Character 'ฯ' not found in the vocabulary. Discarding it.\n"
     ]
    },
    {
     "name": "stderr",
     "output_type": "stream",
     "text": [
      "\n",
      "\u001b[1m > EVALUATION \u001b[0m\n",
      "\n"
     ]
    },
    {
     "name": "stdout",
     "output_type": "stream",
     "text": [
      " | > Synthesizing test sentences.\n"
     ]
    },
    {
     "name": "stderr",
     "output_type": "stream",
     "text": [
      "\n",
      "  \u001b[1m--> EVAL PERFORMANCE\u001b[0m\n",
      "     | > avg_loader_time:\u001b[91m 0.058339691162109374 \u001b[0m(+0.005352449417114255)\n",
      "     | > avg_loss:\u001b[92m 0.6724894285202027 \u001b[0m(-0.12991906404495235)\n",
      "     | > avg_log_mle:\u001b[92m -0.14713616371154786 \u001b[0m(-0.06501113176345827)\n",
      "     | > avg_loss_dur:\u001b[92m 0.8196255922317505 \u001b[0m(-0.06490793228149416)\n",
      "\n",
      "\n",
      "\u001b[4m\u001b[1m > EPOCH: 54/100\u001b[0m\n",
      " --> glowtts_train_dir/run-October-21-2024_11+30AM-0000000\n",
      "\n",
      "\u001b[1m > TRAINING (2024-10-21 14:29:14) \u001b[0m\n",
      "\n",
      "\u001b[1m   --> TIME: 2024-10-21 14:29:26 -- STEP: 32/592 -- GLOBAL_STEP: 32000\u001b[0m\n",
      "     | > loss: 0.5070701241493225  (0.5118890516459944)\n",
      "     | > log_mle: -0.24083387851715088  (-0.29611583799123764)\n",
      "     | > loss_dur: 0.7479040026664734  (0.8080048896372318)\n",
      "     | > amp_scaler: 512.0  (512.0)\n",
      "     | > grad_norm: tensor(44.4635, device='cuda:0')  (tensor(95.9635, device='cuda:0'))\n",
      "     | > current_lr: 1.35e-05 \n",
      "     | > step_time: 0.3596  (0.3310450464487076)\n",
      "     | > loader_time: 0.0025  (0.0035226047039031982)\n",
      "\n",
      "\n",
      " > CHECKPOINT : glowtts_train_dir/run-October-21-2024_11+30AM-0000000/checkpoint_32000.pth\n"
     ]
    },
    {
     "name": "stdout",
     "output_type": "stream",
     "text": [
      "เขา ก็ บ่น เร็ว ๆ ก็ เล่า กัน โฟล ลี่ แนะ นําผม ให้ เวลา เต็มที่ ห้า นาที ก่อนที่ กรุงเทพฯ จะ เข้าไป ร่วมกับ เวลา ปกติ ของ โลก ฮอล ลี่ ก้าว ผ่าน ศูนย์ ที่ เคย เป็น ทางเดิน คม ระยะ เบา ๆ เพราะ แรง แตก ของ ระเบิด แต่ นอกจากนั้น ทุกอย่าง ยังคง สภาพเดิม ที่ เธอ จํา ได้ ทาง ข้างล่าง ห้องขัง ไม่ มี ใคร ตอบ ไม่ มี แม้แต่ คํา เดียว มี ใคร บางคน ออกเสียง ออกมา เสียงดัง ๆ มาย โฟล์ เต็มที่ ฮอล ลี่ หัน มอง ไป รอบด้าน\n",
      " [!] Character 'ฯ' not found in the vocabulary. Discarding it.\n"
     ]
    },
    {
     "name": "stderr",
     "output_type": "stream",
     "text": [
      "\n",
      "\u001b[1m > EVALUATION \u001b[0m\n",
      "\n"
     ]
    },
    {
     "name": "stdout",
     "output_type": "stream",
     "text": [
      " | > Synthesizing test sentences.\n"
     ]
    },
    {
     "name": "stderr",
     "output_type": "stream",
     "text": [
      "\n",
      "  \u001b[1m--> EVAL PERFORMANCE\u001b[0m\n",
      "     | > avg_loader_time:\u001b[92m 0.038686704635620114 \u001b[0m(-0.01965298652648926)\n",
      "     | > avg_loss:\u001b[92m 0.5904811739921569 \u001b[0m(-0.08200825452804572)\n",
      "     | > avg_log_mle:\u001b[92m -0.18853602409362794 \u001b[0m(-0.04139986038208007)\n",
      "     | > avg_loss_dur:\u001b[92m 0.779017198085785 \u001b[0m(-0.04060839414596551)\n",
      "\n",
      "\n",
      "\u001b[4m\u001b[1m > EPOCH: 55/100\u001b[0m\n",
      " --> glowtts_train_dir/run-October-21-2024_11+30AM-0000000\n",
      "\n",
      "\u001b[1m > TRAINING (2024-10-21 14:32:35) \u001b[0m\n",
      "\n",
      "\u001b[1m   --> TIME: 2024-10-21 14:34:54 -- STEP: 440/592 -- GLOBAL_STEP: 33000\u001b[0m\n",
      "     | > loss: 0.4486333131790161  (0.48346323506398636)\n",
      "     | > log_mle: -0.2983595132827759  (-0.30418300439010987)\n",
      "     | > loss_dur: 0.746992826461792  (0.7876462394540957)\n",
      "     | > amp_scaler: 512.0  (512.0)\n",
      "     | > grad_norm: tensor(74.2810, device='cuda:0')  (tensor(93.7002, device='cuda:0'))\n",
      "     | > current_lr: 1.375e-05 \n",
      "     | > step_time: 0.3216  (0.30621360269459824)\n",
      "     | > loader_time: 0.0026  (0.00413231849670411)\n",
      "\n",
      "\n",
      " > CHECKPOINT : glowtts_train_dir/run-October-21-2024_11+30AM-0000000/checkpoint_33000.pth\n"
     ]
    },
    {
     "name": "stdout",
     "output_type": "stream",
     "text": [
      "เขา ก็ บ่น เร็ว ๆ ก็ เล่า กัน โฟล ลี่ แนะ นําผม ให้ เวลา เต็มที่ ห้า นาที ก่อนที่ กรุงเทพฯ จะ เข้าไป ร่วมกับ เวลา ปกติ ของ โลก ฮอล ลี่ ก้าว ผ่าน ศูนย์ ที่ เคย เป็น ทางเดิน คม ระยะ เบา ๆ เพราะ แรง แตก ของ ระเบิด แต่ นอกจากนั้น ทุกอย่าง ยังคง สภาพเดิม ที่ เธอ จํา ได้ ทาง ข้างล่าง ห้องขัง ไม่ มี ใคร ตอบ ไม่ มี แม้แต่ คํา เดียว มี ใคร บางคน ออกเสียง ออกมา เสียงดัง ๆ มาย โฟล์ เต็มที่ ฮอล ลี่ หัน มอง ไป รอบด้าน\n",
      " [!] Character 'ฯ' not found in the vocabulary. Discarding it.\n"
     ]
    },
    {
     "name": "stderr",
     "output_type": "stream",
     "text": [
      "\n",
      "\u001b[1m > EVALUATION \u001b[0m\n",
      "\n"
     ]
    },
    {
     "name": "stdout",
     "output_type": "stream",
     "text": [
      " | > Synthesizing test sentences.\n"
     ]
    },
    {
     "name": "stderr",
     "output_type": "stream",
     "text": [
      "\n",
      "  \u001b[1m--> EVAL PERFORMANCE\u001b[0m\n",
      "     | > avg_loader_time:\u001b[91m 0.040700674057006836 \u001b[0m(+0.0020139694213867215)\n",
      "     | > avg_loss:\u001b[91m 0.6311344623565673 \u001b[0m(+0.0406532883644104)\n",
      "     | > avg_log_mle:\u001b[92m -0.20578596591949463 \u001b[0m(-0.0172499418258667)\n",
      "     | > avg_loss_dur:\u001b[91m 0.8369204282760621 \u001b[0m(+0.0579032301902771)\n",
      "\n",
      "\n",
      "\u001b[4m\u001b[1m > EPOCH: 56/100\u001b[0m\n",
      " --> glowtts_train_dir/run-October-21-2024_11+30AM-0000000\n",
      "\n",
      "\u001b[1m > TRAINING (2024-10-21 14:35:57) \u001b[0m\n"
     ]
    },
    {
     "name": "stdout",
     "output_type": "stream",
     "text": [
      "เขา ก็ บ่น เร็ว ๆ ก็ เล่า กัน โฟล ลี่ แนะ นําผม ให้ เวลา เต็มที่ ห้า นาที ก่อนที่ กรุงเทพฯ จะ เข้าไป ร่วมกับ เวลา ปกติ ของ โลก ฮอล ลี่ ก้าว ผ่าน ศูนย์ ที่ เคย เป็น ทางเดิน คม ระยะ เบา ๆ เพราะ แรง แตก ของ ระเบิด แต่ นอกจากนั้น ทุกอย่าง ยังคง สภาพเดิม ที่ เธอ จํา ได้ ทาง ข้างล่าง ห้องขัง ไม่ มี ใคร ตอบ ไม่ มี แม้แต่ คํา เดียว มี ใคร บางคน ออกเสียง ออกมา เสียงดัง ๆ มาย โฟล์ เต็มที่ ฮอล ลี่ หัน มอง ไป รอบด้าน\n",
      " [!] Character 'ฯ' not found in the vocabulary. Discarding it.\n"
     ]
    },
    {
     "name": "stderr",
     "output_type": "stream",
     "text": [
      "\n",
      "\u001b[1m > EVALUATION \u001b[0m\n",
      "\n"
     ]
    },
    {
     "name": "stdout",
     "output_type": "stream",
     "text": [
      " | > Synthesizing test sentences.\n"
     ]
    },
    {
     "name": "stderr",
     "output_type": "stream",
     "text": [
      "\n",
      "  \u001b[1m--> EVAL PERFORMANCE\u001b[0m\n",
      "     | > avg_loader_time:\u001b[91m 0.06372957229614258 \u001b[0m(+0.023028898239135745)\n",
      "     | > avg_loss:\u001b[91m 0.7045513749122619 \u001b[0m(+0.0734169125556946)\n",
      "     | > avg_log_mle:\u001b[91m -0.1229435682296753 \u001b[0m(+0.08284239768981934)\n",
      "     | > avg_loss_dur:\u001b[92m 0.8274949431419373 \u001b[0m(-0.009425485134124778)\n",
      "\n",
      "\n",
      "\u001b[4m\u001b[1m > EPOCH: 57/100\u001b[0m\n",
      " --> glowtts_train_dir/run-October-21-2024_11+30AM-0000000\n",
      "\n",
      "\u001b[1m > TRAINING (2024-10-21 14:39:09) \u001b[0m\n",
      "\n",
      "\u001b[1m   --> TIME: 2024-10-21 14:40:29 -- STEP: 256/592 -- GLOBAL_STEP: 34000\u001b[0m\n",
      "     | > loss: 0.48569077253341675  (0.48743586614727974)\n",
      "     | > log_mle: -0.20644402503967285  (-0.30014232941903174)\n",
      "     | > loss_dur: 0.6921347975730896  (0.7875781955663113)\n",
      "     | > amp_scaler: 512.0  (547.9999999999997)\n",
      "     | > grad_norm: tensor(26.6404, device='cuda:0')  (tensor(88.4193, device='cuda:0'))\n",
      "     | > current_lr: 1.425e-05 \n",
      "     | > step_time: 0.3174  (0.2995052393525838)\n",
      "     | > loader_time: 0.0026  (0.0034490320831537247)\n",
      "\n",
      "\n",
      " > CHECKPOINT : glowtts_train_dir/run-October-21-2024_11+30AM-0000000/checkpoint_34000.pth\n"
     ]
    },
    {
     "name": "stdout",
     "output_type": "stream",
     "text": [
      "เขา ก็ บ่น เร็ว ๆ ก็ เล่า กัน โฟล ลี่ แนะ นําผม ให้ เวลา เต็มที่ ห้า นาที ก่อนที่ กรุงเทพฯ จะ เข้าไป ร่วมกับ เวลา ปกติ ของ โลก ฮอล ลี่ ก้าว ผ่าน ศูนย์ ที่ เคย เป็น ทางเดิน คม ระยะ เบา ๆ เพราะ แรง แตก ของ ระเบิด แต่ นอกจากนั้น ทุกอย่าง ยังคง สภาพเดิม ที่ เธอ จํา ได้ ทาง ข้างล่าง ห้องขัง ไม่ มี ใคร ตอบ ไม่ มี แม้แต่ คํา เดียว มี ใคร บางคน ออกเสียง ออกมา เสียงดัง ๆ มาย โฟล์ เต็มที่ ฮอล ลี่ หัน มอง ไป รอบด้าน\n",
      " [!] Character 'ฯ' not found in the vocabulary. Discarding it.\n"
     ]
    },
    {
     "name": "stderr",
     "output_type": "stream",
     "text": [
      "\n",
      "\u001b[1m > EVALUATION \u001b[0m\n",
      "\n"
     ]
    },
    {
     "name": "stdout",
     "output_type": "stream",
     "text": [
      " | > Synthesizing test sentences.\n"
     ]
    },
    {
     "name": "stderr",
     "output_type": "stream",
     "text": [
      "\n",
      "  \u001b[1m--> EVAL PERFORMANCE\u001b[0m\n",
      "     | > avg_loader_time:\u001b[92m 0.05540060997009277 \u001b[0m(-0.008328962326049807)\n",
      "     | > avg_loss:\u001b[92m 0.6293787717819214 \u001b[0m(-0.07517260313034058)\n",
      "     | > avg_log_mle:\u001b[92m -0.18255746364593506 \u001b[0m(-0.05961389541625976)\n",
      "     | > avg_loss_dur:\u001b[92m 0.8119362354278564 \u001b[0m(-0.015558707714080855)\n",
      "\n",
      "\n",
      "\u001b[4m\u001b[1m > EPOCH: 58/100\u001b[0m\n",
      " --> glowtts_train_dir/run-October-21-2024_11+30AM-0000000\n",
      "\n",
      "\u001b[1m > TRAINING (2024-10-21 14:42:31) \u001b[0m\n"
     ]
    },
    {
     "name": "stdout",
     "output_type": "stream",
     "text": [
      "เขา ก็ บ่น เร็ว ๆ ก็ เล่า กัน โฟล ลี่ แนะ นําผม ให้ เวลา เต็มที่ ห้า นาที ก่อนที่ กรุงเทพฯ จะ เข้าไป ร่วมกับ เวลา ปกติ ของ โลก ฮอล ลี่ ก้าว ผ่าน ศูนย์ ที่ เคย เป็น ทางเดิน คม ระยะ เบา ๆ เพราะ แรง แตก ของ ระเบิด แต่ นอกจากนั้น ทุกอย่าง ยังคง สภาพเดิม ที่ เธอ จํา ได้ ทาง ข้างล่าง ห้องขัง ไม่ มี ใคร ตอบ ไม่ มี แม้แต่ คํา เดียว มี ใคร บางคน ออกเสียง ออกมา เสียงดัง ๆ มาย โฟล์ เต็มที่ ฮอล ลี่ หัน มอง ไป รอบด้าน\n",
      " [!] Character 'ฯ' not found in the vocabulary. Discarding it.\n"
     ]
    },
    {
     "name": "stderr",
     "output_type": "stream",
     "text": [
      "\n",
      "\u001b[1m > EVALUATION \u001b[0m\n",
      "\n"
     ]
    },
    {
     "name": "stdout",
     "output_type": "stream",
     "text": [
      " | > Synthesizing test sentences.\n"
     ]
    },
    {
     "name": "stderr",
     "output_type": "stream",
     "text": [
      "\n",
      "  \u001b[1m--> EVAL PERFORMANCE\u001b[0m\n",
      "     | > avg_loader_time:\u001b[92m 0.0418187141418457 \u001b[0m(-0.013581895828247072)\n",
      "     | > avg_loss:\u001b[92m 0.6120505452156066 \u001b[0m(-0.01732822656631472)\n",
      "     | > avg_log_mle:\u001b[91m -0.17886073589324952 \u001b[0m(+0.0036967277526855358)\n",
      "     | > avg_loss_dur:\u001b[92m 0.7909112811088562 \u001b[0m(-0.0210249543190002)\n",
      "\n",
      "\n",
      "\u001b[4m\u001b[1m > EPOCH: 59/100\u001b[0m\n",
      " --> glowtts_train_dir/run-October-21-2024_11+30AM-0000000\n",
      "\n",
      "\u001b[1m > TRAINING (2024-10-21 14:45:55) \u001b[0m\n",
      "\n",
      "\u001b[1m   --> TIME: 2024-10-21 14:46:20 -- STEP: 72/592 -- GLOBAL_STEP: 35000\u001b[0m\n",
      "     | > loss: 0.7744062542915344  (0.4919833027654225)\n",
      "     | > log_mle: -0.07927900552749634  (-0.30075757288270527)\n",
      "     | > loss_dur: 0.8536852598190308  (0.7927408756481277)\n",
      "     | > amp_scaler: 512.0  (512.0)\n",
      "     | > grad_norm: tensor(2.2924, device='cuda:0')  (tensor(140.0731, device='cuda:0'))\n",
      "     | > current_lr: 1.475e-05 \n",
      "     | > step_time: 0.247  (0.307901230123308)\n",
      "     | > loader_time: 0.0031  (0.00446268916130066)\n",
      "\n",
      "\n",
      " > CHECKPOINT : glowtts_train_dir/run-October-21-2024_11+30AM-0000000/checkpoint_35000.pth\n"
     ]
    },
    {
     "name": "stdout",
     "output_type": "stream",
     "text": [
      "เขา ก็ บ่น เร็ว ๆ ก็ เล่า กัน โฟล ลี่ แนะ นําผม ให้ เวลา เต็มที่ ห้า นาที ก่อนที่ กรุงเทพฯ จะ เข้าไป ร่วมกับ เวลา ปกติ ของ โลก ฮอล ลี่ ก้าว ผ่าน ศูนย์ ที่ เคย เป็น ทางเดิน คม ระยะ เบา ๆ เพราะ แรง แตก ของ ระเบิด แต่ นอกจากนั้น ทุกอย่าง ยังคง สภาพเดิม ที่ เธอ จํา ได้ ทาง ข้างล่าง ห้องขัง ไม่ มี ใคร ตอบ ไม่ มี แม้แต่ คํา เดียว มี ใคร บางคน ออกเสียง ออกมา เสียงดัง ๆ มาย โฟล์ เต็มที่ ฮอล ลี่ หัน มอง ไป รอบด้าน\n",
      " [!] Character 'ฯ' not found in the vocabulary. Discarding it.\n"
     ]
    },
    {
     "name": "stderr",
     "output_type": "stream",
     "text": [
      "\n",
      "\u001b[1m > EVALUATION \u001b[0m\n",
      "\n"
     ]
    },
    {
     "name": "stdout",
     "output_type": "stream",
     "text": [
      " | > Synthesizing test sentences.\n"
     ]
    },
    {
     "name": "stderr",
     "output_type": "stream",
     "text": [
      "\n",
      "  \u001b[1m--> EVAL PERFORMANCE\u001b[0m\n",
      "     | > avg_loader_time:\u001b[91m 0.05760211944580078 \u001b[0m(+0.015783405303955077)\n",
      "     | > avg_loss:\u001b[92m 0.601879894733429 \u001b[0m(-0.01017065048217769)\n",
      "     | > avg_log_mle:\u001b[91m -0.1689235210418701 \u001b[0m(+0.009937214851379411)\n",
      "     | > avg_loss_dur:\u001b[92m 0.7708034157752991 \u001b[0m(-0.02010786533355713)\n",
      "\n",
      "\n",
      "\u001b[4m\u001b[1m > EPOCH: 60/100\u001b[0m\n",
      " --> glowtts_train_dir/run-October-21-2024_11+30AM-0000000\n",
      "\n",
      "\u001b[1m > TRAINING (2024-10-21 14:49:20) \u001b[0m\n",
      "\n",
      "\u001b[1m   --> TIME: 2024-10-21 14:51:49 -- STEP: 480/592 -- GLOBAL_STEP: 36000\u001b[0m\n",
      "     | > loss: 0.3807031512260437  (0.4753655501951774)\n",
      "     | > log_mle: -0.385905385017395  (-0.31905508538087207)\n",
      "     | > loss_dur: 0.7666085362434387  (0.7944206355760497)\n",
      "     | > amp_scaler: 1024.0  (765.866666666667)\n",
      "     | > grad_norm: tensor(163.4431, device='cuda:0')  (tensor(101.8629, device='cuda:0'))\n",
      "     | > current_lr: 1.4999999999999999e-05 \n",
      "     | > step_time: 0.339  (0.3028354614973065)\n",
      "     | > loader_time: 0.0036  (0.00374820480744044)\n",
      "\n",
      "\n",
      " > CHECKPOINT : glowtts_train_dir/run-October-21-2024_11+30AM-0000000/checkpoint_36000.pth\n"
     ]
    },
    {
     "name": "stdout",
     "output_type": "stream",
     "text": [
      "เขา ก็ บ่น เร็ว ๆ ก็ เล่า กัน โฟล ลี่ แนะ นําผม ให้ เวลา เต็มที่ ห้า นาที ก่อนที่ กรุงเทพฯ จะ เข้าไป ร่วมกับ เวลา ปกติ ของ โลก ฮอล ลี่ ก้าว ผ่าน ศูนย์ ที่ เคย เป็น ทางเดิน คม ระยะ เบา ๆ เพราะ แรง แตก ของ ระเบิด แต่ นอกจากนั้น ทุกอย่าง ยังคง สภาพเดิม ที่ เธอ จํา ได้ ทาง ข้างล่าง ห้องขัง ไม่ มี ใคร ตอบ ไม่ มี แม้แต่ คํา เดียว มี ใคร บางคน ออกเสียง ออกมา เสียงดัง ๆ มาย โฟล์ เต็มที่ ฮอล ลี่ หัน มอง ไป รอบด้าน\n",
      " [!] Character 'ฯ' not found in the vocabulary. Discarding it.\n"
     ]
    },
    {
     "name": "stderr",
     "output_type": "stream",
     "text": [
      "\n",
      "\u001b[1m > EVALUATION \u001b[0m\n",
      "\n"
     ]
    },
    {
     "name": "stdout",
     "output_type": "stream",
     "text": [
      " | > Synthesizing test sentences.\n"
     ]
    },
    {
     "name": "stderr",
     "output_type": "stream",
     "text": [
      "\n",
      "  \u001b[1m--> EVAL PERFORMANCE\u001b[0m\n",
      "     | > avg_loader_time:\u001b[91m 0.06863374710083008 \u001b[0m(+0.011031627655029297)\n",
      "     | > avg_loss:\u001b[92m 0.5399015784263611 \u001b[0m(-0.06197831630706785)\n",
      "     | > avg_log_mle:\u001b[92m -0.29022793769836425 \u001b[0m(-0.12130441665649414)\n",
      "     | > avg_loss_dur:\u001b[91m 0.8301295161247253 \u001b[0m(+0.0593261003494262)\n",
      "\n",
      "\n",
      "\u001b[4m\u001b[1m > EPOCH: 61/100\u001b[0m\n",
      " --> glowtts_train_dir/run-October-21-2024_11+30AM-0000000\n",
      "\n",
      "\u001b[1m > TRAINING (2024-10-21 14:52:41) \u001b[0m\n"
     ]
    },
    {
     "name": "stdout",
     "output_type": "stream",
     "text": [
      "เขา ก็ บ่น เร็ว ๆ ก็ เล่า กัน โฟล ลี่ แนะ นําผม ให้ เวลา เต็มที่ ห้า นาที ก่อนที่ กรุงเทพฯ จะ เข้าไป ร่วมกับ เวลา ปกติ ของ โลก ฮอล ลี่ ก้าว ผ่าน ศูนย์ ที่ เคย เป็น ทางเดิน คม ระยะ เบา ๆ เพราะ แรง แตก ของ ระเบิด แต่ นอกจากนั้น ทุกอย่าง ยังคง สภาพเดิม ที่ เธอ จํา ได้ ทาง ข้างล่าง ห้องขัง ไม่ มี ใคร ตอบ ไม่ มี แม้แต่ คํา เดียว มี ใคร บางคน ออกเสียง ออกมา เสียงดัง ๆ มาย โฟล์ เต็มที่ ฮอล ลี่ หัน มอง ไป รอบด้าน\n",
      " [!] Character 'ฯ' not found in the vocabulary. Discarding it.\n"
     ]
    },
    {
     "name": "stderr",
     "output_type": "stream",
     "text": [
      "\n",
      "\u001b[1m > EVALUATION \u001b[0m\n",
      "\n"
     ]
    },
    {
     "name": "stdout",
     "output_type": "stream",
     "text": [
      " | > Synthesizing test sentences.\n"
     ]
    },
    {
     "name": "stderr",
     "output_type": "stream",
     "text": [
      "\n",
      "  \u001b[1m--> EVAL PERFORMANCE\u001b[0m\n",
      "     | > avg_loader_time:\u001b[92m 0.040959644317626956 \u001b[0m(-0.02767410278320312)\n",
      "     | > avg_loss:\u001b[91m 0.6045023441314697 \u001b[0m(+0.06460076570510864)\n",
      "     | > avg_log_mle:\u001b[91m -0.25653350353240967 \u001b[0m(+0.03369443416595458)\n",
      "     | > avg_loss_dur:\u001b[91m 0.8610358476638794 \u001b[0m(+0.03090633153915412)\n",
      "\n",
      "\n",
      "\u001b[4m\u001b[1m > EPOCH: 62/100\u001b[0m\n",
      " --> glowtts_train_dir/run-October-21-2024_11+30AM-0000000\n",
      "\n",
      "\u001b[1m > TRAINING (2024-10-21 14:55:57) \u001b[0m\n",
      "\n",
      "\u001b[1m   --> TIME: 2024-10-21 14:57:30 -- STEP: 296/592 -- GLOBAL_STEP: 37000\u001b[0m\n",
      "     | > loss: 0.38587528467178345  (0.46772171979820404)\n",
      "     | > log_mle: -0.3809967041015625  (-0.3192713192185842)\n",
      "     | > loss_dur: 0.766871988773346  (0.7869930390167881)\n",
      "     | > amp_scaler: 1024.0  (1024.0)\n",
      "     | > grad_norm: tensor(120.0598, device='cuda:0')  (tensor(94.6671, device='cuda:0'))\n",
      "     | > current_lr: 1.55e-05 \n",
      "     | > step_time: 0.4057  (0.30590713587967133)\n",
      "     | > loader_time: 0.0048  (0.0041716058511991755)\n",
      "\n",
      "\n",
      " > CHECKPOINT : glowtts_train_dir/run-October-21-2024_11+30AM-0000000/checkpoint_37000.pth\n"
     ]
    },
    {
     "name": "stdout",
     "output_type": "stream",
     "text": [
      "เขา ก็ บ่น เร็ว ๆ ก็ เล่า กัน โฟล ลี่ แนะ นําผม ให้ เวลา เต็มที่ ห้า นาที ก่อนที่ กรุงเทพฯ จะ เข้าไป ร่วมกับ เวลา ปกติ ของ โลก ฮอล ลี่ ก้าว ผ่าน ศูนย์ ที่ เคย เป็น ทางเดิน คม ระยะ เบา ๆ เพราะ แรง แตก ของ ระเบิด แต่ นอกจากนั้น ทุกอย่าง ยังคง สภาพเดิม ที่ เธอ จํา ได้ ทาง ข้างล่าง ห้องขัง ไม่ มี ใคร ตอบ ไม่ มี แม้แต่ คํา เดียว มี ใคร บางคน ออกเสียง ออกมา เสียงดัง ๆ มาย โฟล์ เต็มที่ ฮอล ลี่ หัน มอง ไป รอบด้าน\n",
      " [!] Character 'ฯ' not found in the vocabulary. Discarding it.\n"
     ]
    },
    {
     "name": "stderr",
     "output_type": "stream",
     "text": [
      "\n",
      "\u001b[1m > EVALUATION \u001b[0m\n",
      "\n"
     ]
    },
    {
     "name": "stdout",
     "output_type": "stream",
     "text": [
      " | > Synthesizing test sentences.\n"
     ]
    },
    {
     "name": "stderr",
     "output_type": "stream",
     "text": [
      "\n",
      "  \u001b[1m--> EVAL PERFORMANCE\u001b[0m\n",
      "     | > avg_loader_time:\u001b[91m 0.053939437866210936 \u001b[0m(+0.01297979354858398)\n",
      "     | > avg_loss:\u001b[91m 0.729148781299591 \u001b[0m(+0.1246464371681213)\n",
      "     | > avg_log_mle:\u001b[91m -0.14449198246002198 \u001b[0m(+0.11204152107238768)\n",
      "     | > avg_loss_dur:\u001b[91m 0.8736407637596131 \u001b[0m(+0.012604916095733665)\n",
      "\n",
      "\n",
      "\u001b[4m\u001b[1m > EPOCH: 63/100\u001b[0m\n",
      " --> glowtts_train_dir/run-October-21-2024_11+30AM-0000000\n",
      "\n",
      "\u001b[1m > TRAINING (2024-10-21 14:59:19) \u001b[0m\n"
     ]
    },
    {
     "name": "stdout",
     "output_type": "stream",
     "text": [
      "เขา ก็ บ่น เร็ว ๆ ก็ เล่า กัน โฟล ลี่ แนะ นําผม ให้ เวลา เต็มที่ ห้า นาที ก่อนที่ กรุงเทพฯ จะ เข้าไป ร่วมกับ เวลา ปกติ ของ โลก ฮอล ลี่ ก้าว ผ่าน ศูนย์ ที่ เคย เป็น ทางเดิน คม ระยะ เบา ๆ เพราะ แรง แตก ของ ระเบิด แต่ นอกจากนั้น ทุกอย่าง ยังคง สภาพเดิม ที่ เธอ จํา ได้ ทาง ข้างล่าง ห้องขัง ไม่ มี ใคร ตอบ ไม่ มี แม้แต่ คํา เดียว มี ใคร บางคน ออกเสียง ออกมา เสียงดัง ๆ มาย โฟล์ เต็มที่ ฮอล ลี่ หัน มอง ไป รอบด้าน\n",
      " [!] Character 'ฯ' not found in the vocabulary. Discarding it.\n"
     ]
    },
    {
     "name": "stderr",
     "output_type": "stream",
     "text": [
      "\n",
      "\u001b[1m > EVALUATION \u001b[0m\n",
      "\n"
     ]
    },
    {
     "name": "stdout",
     "output_type": "stream",
     "text": [
      " | > Synthesizing test sentences.\n"
     ]
    },
    {
     "name": "stderr",
     "output_type": "stream",
     "text": [
      "\n",
      "  \u001b[1m--> EVAL PERFORMANCE\u001b[0m\n",
      "     | > avg_loader_time:\u001b[92m 0.03877377510070801 \u001b[0m(-0.015165662765502928)\n",
      "     | > avg_loss:\u001b[91m 0.7831353783607483 \u001b[0m(+0.05398659706115727)\n",
      "     | > avg_log_mle:\u001b[92m -0.14555165767669678 \u001b[0m(-0.0010596752166747991)\n",
      "     | > avg_loss_dur:\u001b[91m 0.9286870360374451 \u001b[0m(+0.05504627227783199)\n",
      "\n",
      "\n",
      "\u001b[4m\u001b[1m > EPOCH: 64/100\u001b[0m\n",
      " --> glowtts_train_dir/run-October-21-2024_11+30AM-0000000\n",
      "\n",
      "\u001b[1m > TRAINING (2024-10-21 15:02:36) \u001b[0m\n",
      "\n",
      "\u001b[1m   --> TIME: 2024-10-21 15:03:12 -- STEP: 112/592 -- GLOBAL_STEP: 38000\u001b[0m\n",
      "     | > loss: 0.4209734797477722  (0.4808538172926221)\n",
      "     | > log_mle: -0.317746639251709  (-0.319834509066173)\n",
      "     | > loss_dur: 0.7387201189994812  (0.8006883263587952)\n",
      "     | > amp_scaler: 1024.0  (1024.0)\n",
      "     | > grad_norm: tensor(91.1048, device='cuda:0')  (tensor(103.6193, device='cuda:0'))\n",
      "     | > current_lr: 1.6e-05 \n",
      "     | > step_time: 0.4381  (0.3098893697772706)\n",
      "     | > loader_time: 0.0025  (0.00393278896808624)\n",
      "\n",
      "\n",
      " > CHECKPOINT : glowtts_train_dir/run-October-21-2024_11+30AM-0000000/checkpoint_38000.pth\n"
     ]
    },
    {
     "name": "stdout",
     "output_type": "stream",
     "text": [
      "เขา ก็ บ่น เร็ว ๆ ก็ เล่า กัน โฟล ลี่ แนะ นําผม ให้ เวลา เต็มที่ ห้า นาที ก่อนที่ กรุงเทพฯ จะ เข้าไป ร่วมกับ เวลา ปกติ ของ โลก ฮอล ลี่ ก้าว ผ่าน ศูนย์ ที่ เคย เป็น ทางเดิน คม ระยะ เบา ๆ เพราะ แรง แตก ของ ระเบิด แต่ นอกจากนั้น ทุกอย่าง ยังคง สภาพเดิม ที่ เธอ จํา ได้ ทาง ข้างล่าง ห้องขัง ไม่ มี ใคร ตอบ ไม่ มี แม้แต่ คํา เดียว มี ใคร บางคน ออกเสียง ออกมา เสียงดัง ๆ มาย โฟล์ เต็มที่ ฮอล ลี่ หัน มอง ไป รอบด้าน\n",
      " [!] Character 'ฯ' not found in the vocabulary. Discarding it.\n"
     ]
    },
    {
     "name": "stderr",
     "output_type": "stream",
     "text": [
      "\n",
      "\u001b[1m > EVALUATION \u001b[0m\n",
      "\n"
     ]
    },
    {
     "name": "stdout",
     "output_type": "stream",
     "text": [
      " | > Synthesizing test sentences.\n"
     ]
    },
    {
     "name": "stderr",
     "output_type": "stream",
     "text": [
      "\n",
      "  \u001b[1m--> EVAL PERFORMANCE\u001b[0m\n",
      "     | > avg_loader_time:\u001b[91m 0.04961352348327637 \u001b[0m(+0.010839748382568362)\n",
      "     | > avg_loss:\u001b[91m 1.117200779914856 \u001b[0m(+0.3340654015541077)\n",
      "     | > avg_log_mle:\u001b[91m 0.1203539490699768 \u001b[0m(+0.2659056067466736)\n",
      "     | > avg_loss_dur:\u001b[91m 0.9968468308448791 \u001b[0m(+0.06815979480743406)\n",
      "\n",
      "\n",
      "\u001b[4m\u001b[1m > EPOCH: 65/100\u001b[0m\n",
      " --> glowtts_train_dir/run-October-21-2024_11+30AM-0000000\n",
      "\n",
      "\u001b[1m > TRAINING (2024-10-21 15:05:59) \u001b[0m\n",
      "\n",
      "\u001b[1m   --> TIME: 2024-10-21 15:08:43 -- STEP: 520/592 -- GLOBAL_STEP: 39000\u001b[0m\n",
      "     | > loss: 0.33149194717407227  (0.44375247577062027)\n",
      "     | > log_mle: -0.34647393226623535  (-0.33838190390513484)\n",
      "     | > loss_dur: 0.6779658794403076  (0.7821343796757549)\n",
      "     | > amp_scaler: 1024.0  (1024.0)\n",
      "     | > grad_norm: tensor(174.6925, device='cuda:0')  (tensor(96.6563, device='cuda:0'))\n",
      "     | > current_lr: 1.625e-05 \n",
      "     | > step_time: 0.4417  (0.30676054450181817)\n",
      "     | > loader_time: 0.0027  (0.00463723815404452)\n",
      "\n",
      "\n",
      " > CHECKPOINT : glowtts_train_dir/run-October-21-2024_11+30AM-0000000/checkpoint_39000.pth\n"
     ]
    },
    {
     "name": "stdout",
     "output_type": "stream",
     "text": [
      "เขา ก็ บ่น เร็ว ๆ ก็ เล่า กัน โฟล ลี่ แนะ นําผม ให้ เวลา เต็มที่ ห้า นาที ก่อนที่ กรุงเทพฯ จะ เข้าไป ร่วมกับ เวลา ปกติ ของ โลก ฮอล ลี่ ก้าว ผ่าน ศูนย์ ที่ เคย เป็น ทางเดิน คม ระยะ เบา ๆ เพราะ แรง แตก ของ ระเบิด แต่ นอกจากนั้น ทุกอย่าง ยังคง สภาพเดิม ที่ เธอ จํา ได้ ทาง ข้างล่าง ห้องขัง ไม่ มี ใคร ตอบ ไม่ มี แม้แต่ คํา เดียว มี ใคร บางคน ออกเสียง ออกมา เสียงดัง ๆ มาย โฟล์ เต็มที่ ฮอล ลี่ หัน มอง ไป รอบด้าน\n",
      " [!] Character 'ฯ' not found in the vocabulary. Discarding it.\n"
     ]
    },
    {
     "name": "stderr",
     "output_type": "stream",
     "text": [
      "\n",
      "\u001b[1m > EVALUATION \u001b[0m\n",
      "\n"
     ]
    },
    {
     "name": "stdout",
     "output_type": "stream",
     "text": [
      " | > Synthesizing test sentences.\n"
     ]
    },
    {
     "name": "stderr",
     "output_type": "stream",
     "text": [
      "\n",
      "  \u001b[1m--> EVAL PERFORMANCE\u001b[0m\n",
      "     | > avg_loader_time:\u001b[92m 0.03881440162658691 \u001b[0m(-0.010799121856689457)\n",
      "     | > avg_loss:\u001b[92m 0.6704240918159485 \u001b[0m(-0.44677668809890747)\n",
      "     | > avg_log_mle:\u001b[92m -0.1922783374786377 \u001b[0m(-0.3126322865486145)\n",
      "     | > avg_loss_dur:\u001b[92m 0.8627024292945862 \u001b[0m(-0.13414440155029295)\n",
      "\n",
      "\n",
      "\u001b[4m\u001b[1m > EPOCH: 66/100\u001b[0m\n",
      " --> glowtts_train_dir/run-October-21-2024_11+30AM-0000000\n",
      "\n",
      "\u001b[1m > TRAINING (2024-10-21 15:09:22) \u001b[0m\n"
     ]
    },
    {
     "name": "stdout",
     "output_type": "stream",
     "text": [
      "เขา ก็ บ่น เร็ว ๆ ก็ เล่า กัน โฟล ลี่ แนะ นําผม ให้ เวลา เต็มที่ ห้า นาที ก่อนที่ กรุงเทพฯ จะ เข้าไป ร่วมกับ เวลา ปกติ ของ โลก ฮอล ลี่ ก้าว ผ่าน ศูนย์ ที่ เคย เป็น ทางเดิน คม ระยะ เบา ๆ เพราะ แรง แตก ของ ระเบิด แต่ นอกจากนั้น ทุกอย่าง ยังคง สภาพเดิม ที่ เธอ จํา ได้ ทาง ข้างล่าง ห้องขัง ไม่ มี ใคร ตอบ ไม่ มี แม้แต่ คํา เดียว มี ใคร บางคน ออกเสียง ออกมา เสียงดัง ๆ มาย โฟล์ เต็มที่ ฮอล ลี่ หัน มอง ไป รอบด้าน\n",
      " [!] Character 'ฯ' not found in the vocabulary. Discarding it.\n"
     ]
    },
    {
     "name": "stderr",
     "output_type": "stream",
     "text": [
      "\n",
      "\u001b[1m > EVALUATION \u001b[0m\n",
      "\n"
     ]
    },
    {
     "name": "stdout",
     "output_type": "stream",
     "text": [
      " | > Synthesizing test sentences.\n"
     ]
    },
    {
     "name": "stderr",
     "output_type": "stream",
     "text": [
      "\n",
      "  \u001b[1m--> EVAL PERFORMANCE\u001b[0m\n",
      "     | > avg_loader_time:\u001b[92m 0.03421182632446289 \u001b[0m(-0.004602575302124025)\n",
      "     | > avg_loss:\u001b[91m 0.7247725367546082 \u001b[0m(+0.054348444938659646)\n",
      "     | > avg_log_mle:\u001b[91m -0.1355375289916992 \u001b[0m(+0.05674080848693849)\n",
      "     | > avg_loss_dur:\u001b[92m 0.8603100657463074 \u001b[0m(-0.002392363548278764)\n",
      "\n",
      "\n",
      "\u001b[4m\u001b[1m > EPOCH: 67/100\u001b[0m\n",
      " --> glowtts_train_dir/run-October-21-2024_11+30AM-0000000\n",
      "\n",
      "\u001b[1m > TRAINING (2024-10-21 15:12:40) \u001b[0m\n",
      "\n",
      "\u001b[1m   --> TIME: 2024-10-21 15:14:25 -- STEP: 336/592 -- GLOBAL_STEP: 40000\u001b[0m\n",
      "     | > loss: 0.4092944264411926  (0.4502821947847094)\n",
      "     | > log_mle: -0.33032548427581787  (-0.33817657189709827)\n",
      "     | > loss_dur: 0.7396199107170105  (0.7884587666818074)\n",
      "     | > amp_scaler: 512.0  (512.0)\n",
      "     | > grad_norm: tensor(136.5000, device='cuda:0')  (tensor(99.3646, device='cuda:0'))\n",
      "     | > current_lr: 1.675e-05 \n",
      "     | > step_time: 0.2847  (0.30318692184629875)\n",
      "     | > loader_time: 0.0029  (0.004093794595627557)\n",
      "\n",
      "\n",
      " > CHECKPOINT : glowtts_train_dir/run-October-21-2024_11+30AM-0000000/checkpoint_40000.pth\n"
     ]
    },
    {
     "name": "stdout",
     "output_type": "stream",
     "text": [
      "เขา ก็ บ่น เร็ว ๆ ก็ เล่า กัน โฟล ลี่ แนะ นําผม ให้ เวลา เต็มที่ ห้า นาที ก่อนที่ กรุงเทพฯ จะ เข้าไป ร่วมกับ เวลา ปกติ ของ โลก ฮอล ลี่ ก้าว ผ่าน ศูนย์ ที่ เคย เป็น ทางเดิน คม ระยะ เบา ๆ เพราะ แรง แตก ของ ระเบิด แต่ นอกจากนั้น ทุกอย่าง ยังคง สภาพเดิม ที่ เธอ จํา ได้ ทาง ข้างล่าง ห้องขัง ไม่ มี ใคร ตอบ ไม่ มี แม้แต่ คํา เดียว มี ใคร บางคน ออกเสียง ออกมา เสียงดัง ๆ มาย โฟล์ เต็มที่ ฮอล ลี่ หัน มอง ไป รอบด้าน\n",
      " [!] Character 'ฯ' not found in the vocabulary. Discarding it.\n"
     ]
    },
    {
     "name": "stderr",
     "output_type": "stream",
     "text": [
      "\n",
      "\u001b[1m > EVALUATION \u001b[0m\n",
      "\n"
     ]
    },
    {
     "name": "stdout",
     "output_type": "stream",
     "text": [
      " | > Synthesizing test sentences.\n"
     ]
    },
    {
     "name": "stderr",
     "output_type": "stream",
     "text": [
      "\n",
      "  \u001b[1m--> EVAL PERFORMANCE\u001b[0m\n",
      "     | > avg_loader_time:\u001b[91m 0.04136757850646973 \u001b[0m(+0.0071557521820068415)\n",
      "     | > avg_loss:\u001b[92m 0.6610123038291931 \u001b[0m(-0.0637602329254151)\n",
      "     | > avg_log_mle:\u001b[92m -0.21918578147888185 \u001b[0m(-0.08364825248718263)\n",
      "     | > avg_loss_dur:\u001b[91m 0.880198085308075 \u001b[0m(+0.019888019561767556)\n",
      "\n",
      "\n",
      "\u001b[4m\u001b[1m > EPOCH: 68/100\u001b[0m\n",
      " --> glowtts_train_dir/run-October-21-2024_11+30AM-0000000\n",
      "\n",
      "\u001b[1m > TRAINING (2024-10-21 15:16:02) \u001b[0m\n"
     ]
    },
    {
     "name": "stdout",
     "output_type": "stream",
     "text": [
      "เขา ก็ บ่น เร็ว ๆ ก็ เล่า กัน โฟล ลี่ แนะ นําผม ให้ เวลา เต็มที่ ห้า นาที ก่อนที่ กรุงเทพฯ จะ เข้าไป ร่วมกับ เวลา ปกติ ของ โลก ฮอล ลี่ ก้าว ผ่าน ศูนย์ ที่ เคย เป็น ทางเดิน คม ระยะ เบา ๆ เพราะ แรง แตก ของ ระเบิด แต่ นอกจากนั้น ทุกอย่าง ยังคง สภาพเดิม ที่ เธอ จํา ได้ ทาง ข้างล่าง ห้องขัง ไม่ มี ใคร ตอบ ไม่ มี แม้แต่ คํา เดียว มี ใคร บางคน ออกเสียง ออกมา เสียงดัง ๆ มาย โฟล์ เต็มที่ ฮอล ลี่ หัน มอง ไป รอบด้าน\n",
      " [!] Character 'ฯ' not found in the vocabulary. Discarding it.\n"
     ]
    },
    {
     "name": "stderr",
     "output_type": "stream",
     "text": [
      "\n",
      "\u001b[1m > EVALUATION \u001b[0m\n",
      "\n"
     ]
    },
    {
     "name": "stdout",
     "output_type": "stream",
     "text": [
      " | > Synthesizing test sentences.\n"
     ]
    },
    {
     "name": "stderr",
     "output_type": "stream",
     "text": [
      "\n",
      "  \u001b[1m--> EVAL PERFORMANCE\u001b[0m\n",
      "     | > avg_loader_time:\u001b[91m 0.047422266006469725 \u001b[0m(+0.006054687499999996)\n",
      "     | > avg_loss:\u001b[91m 0.8226381778717041 \u001b[0m(+0.16162587404251105)\n",
      "     | > avg_log_mle:\u001b[91m -0.136787486076355 \u001b[0m(+0.08239829540252686)\n",
      "     | > avg_loss_dur:\u001b[91m 0.9594256639480591 \u001b[0m(+0.07922757863998409)\n",
      "\n",
      "\n",
      "\u001b[4m\u001b[1m > EPOCH: 69/100\u001b[0m\n",
      " --> glowtts_train_dir/run-October-21-2024_11+30AM-0000000\n",
      "\n",
      "\u001b[1m > TRAINING (2024-10-21 15:19:24) \u001b[0m\n",
      "\n",
      "\u001b[1m   --> TIME: 2024-10-21 15:20:13 -- STEP: 152/592 -- GLOBAL_STEP: 41000\u001b[0m\n",
      "     | > loss: 0.3253878951072693  (0.45597792652092484)\n",
      "     | > log_mle: -0.3933136463165283  (-0.34048700097360096)\n",
      "     | > loss_dur: 0.7187015414237976  (0.7964649274945258)\n",
      "     | > amp_scaler: 512.0  (512.0)\n",
      "     | > grad_norm: tensor(74.9813, device='cuda:0')  (tensor(92.0622, device='cuda:0'))\n",
      "     | > current_lr: 1.725e-05 \n",
      "     | > step_time: 0.3192  (0.30896154830330286)\n",
      "     | > loader_time: 0.0033  (0.004668162057274265)\n",
      "\n",
      "\n",
      " > CHECKPOINT : glowtts_train_dir/run-October-21-2024_11+30AM-0000000/checkpoint_41000.pth\n"
     ]
    },
    {
     "name": "stdout",
     "output_type": "stream",
     "text": [
      "เขา ก็ บ่น เร็ว ๆ ก็ เล่า กัน โฟล ลี่ แนะ นําผม ให้ เวลา เต็มที่ ห้า นาที ก่อนที่ กรุงเทพฯ จะ เข้าไป ร่วมกับ เวลา ปกติ ของ โลก ฮอล ลี่ ก้าว ผ่าน ศูนย์ ที่ เคย เป็น ทางเดิน คม ระยะ เบา ๆ เพราะ แรง แตก ของ ระเบิด แต่ นอกจากนั้น ทุกอย่าง ยังคง สภาพเดิม ที่ เธอ จํา ได้ ทาง ข้างล่าง ห้องขัง ไม่ มี ใคร ตอบ ไม่ มี แม้แต่ คํา เดียว มี ใคร บางคน ออกเสียง ออกมา เสียงดัง ๆ มาย โฟล์ เต็มที่ ฮอล ลี่ หัน มอง ไป รอบด้าน\n",
      " [!] Character 'ฯ' not found in the vocabulary. Discarding it.\n"
     ]
    },
    {
     "name": "stderr",
     "output_type": "stream",
     "text": [
      "\n",
      "\u001b[1m > EVALUATION \u001b[0m\n",
      "\n"
     ]
    },
    {
     "name": "stdout",
     "output_type": "stream",
     "text": [
      " | > Synthesizing test sentences.\n"
     ]
    },
    {
     "name": "stderr",
     "output_type": "stream",
     "text": [
      "\n",
      "  \u001b[1m--> EVAL PERFORMANCE\u001b[0m\n",
      "     | > avg_loader_time:\u001b[92m 0.04674596786499023 \u001b[0m(-0.0006762981414794936)\n",
      "     | > avg_loss:\u001b[92m 0.8146191239356995 \u001b[0m(-0.008019053936004661)\n",
      "     | > avg_log_mle:\u001b[92m -0.1526151180267334 \u001b[0m(-0.015827631950378396)\n",
      "     | > avg_loss_dur:\u001b[91m 0.9672342419624329 \u001b[0m(+0.007808578014373846)\n",
      "\n",
      "\n",
      "\u001b[4m\u001b[1m > EPOCH: 70/100\u001b[0m\n",
      " --> glowtts_train_dir/run-October-21-2024_11+30AM-0000000\n",
      "\n",
      "\u001b[1m > TRAINING (2024-10-21 15:22:47) \u001b[0m\n"
     ]
    },
    {
     "name": "stdout",
     "output_type": "stream",
     "text": [
      "เขา ก็ บ่น เร็ว ๆ ก็ เล่า กัน โฟล ลี่ แนะ นําผม ให้ เวลา เต็มที่ ห้า นาที ก่อนที่ กรุงเทพฯ จะ เข้าไป ร่วมกับ เวลา ปกติ ของ โลก ฮอล ลี่ ก้าว ผ่าน ศูนย์ ที่ เคย เป็น ทางเดิน คม ระยะ เบา ๆ เพราะ แรง แตก ของ ระเบิด แต่ นอกจากนั้น ทุกอย่าง ยังคง สภาพเดิม ที่ เธอ จํา ได้ ทาง ข้างล่าง ห้องขัง ไม่ มี ใคร ตอบ ไม่ มี แม้แต่ คํา เดียว มี ใคร บางคน ออกเสียง ออกมา เสียงดัง ๆ มาย โฟล์ เต็มที่ ฮอล ลี่ หัน มอง ไป รอบด้าน\n",
      " [!] Character 'ฯ' not found in the vocabulary. Discarding it.\n"
     ]
    },
    {
     "name": "stderr",
     "output_type": "stream",
     "text": [
      "\n",
      "\u001b[1m   --> TIME: 2024-10-21 15:25:41 -- STEP: 560/592 -- GLOBAL_STEP: 42000\u001b[0m\n",
      "     | > loss: 0.3682117462158203  (0.4290541038981506)\n",
      "     | > log_mle: -0.22650492191314697  (-0.34976680661950793)\n",
      "     | > loss_dur: 0.5947166681289673  (0.7788209105176591)\n",
      "     | > amp_scaler: 1024.0  (1024.0)\n",
      "     | > grad_norm: tensor(0.7084, device='cuda:0')  (tensor(95.5696, device='cuda:0'))\n",
      "     | > current_lr: 1.7500000000000002e-05 \n",
      "     | > step_time: 0.2528  (0.3013431234019143)\n",
      "     | > loader_time: 0.0026  (0.004110430819647652)\n",
      "\n",
      "\n",
      " > CHECKPOINT : glowtts_train_dir/run-October-21-2024_11+30AM-0000000/checkpoint_42000.pth\n",
      "\n",
      "\u001b[1m > EVALUATION \u001b[0m\n",
      "\n"
     ]
    },
    {
     "name": "stdout",
     "output_type": "stream",
     "text": [
      " | > Synthesizing test sentences.\n"
     ]
    },
    {
     "name": "stderr",
     "output_type": "stream",
     "text": [
      "\n",
      "  \u001b[1m--> EVAL PERFORMANCE\u001b[0m\n",
      "     | > avg_loader_time:\u001b[91m 0.04746861457824707 \u001b[0m(+0.0007226467132568359)\n",
      "     | > avg_loss:\u001b[92m 0.7596786737442016 \u001b[0m(-0.05494045019149785)\n",
      "     | > avg_log_mle:\u001b[91m -0.14278056621551513 \u001b[0m(+0.009834551811218256)\n",
      "     | > avg_loss_dur:\u001b[92m 0.9024592399597168 \u001b[0m(-0.06477500200271613)\n",
      "\n",
      "\n",
      "\u001b[4m\u001b[1m > EPOCH: 71/100\u001b[0m\n",
      " --> glowtts_train_dir/run-October-21-2024_11+30AM-0000000\n",
      "\n",
      "\u001b[1m > TRAINING (2024-10-21 15:26:09) \u001b[0m\n"
     ]
    },
    {
     "name": "stdout",
     "output_type": "stream",
     "text": [
      "เขา ก็ บ่น เร็ว ๆ ก็ เล่า กัน โฟล ลี่ แนะ นําผม ให้ เวลา เต็มที่ ห้า นาที ก่อนที่ กรุงเทพฯ จะ เข้าไป ร่วมกับ เวลา ปกติ ของ โลก ฮอล ลี่ ก้าว ผ่าน ศูนย์ ที่ เคย เป็น ทางเดิน คม ระยะ เบา ๆ เพราะ แรง แตก ของ ระเบิด แต่ นอกจากนั้น ทุกอย่าง ยังคง สภาพเดิม ที่ เธอ จํา ได้ ทาง ข้างล่าง ห้องขัง ไม่ มี ใคร ตอบ ไม่ มี แม้แต่ คํา เดียว มี ใคร บางคน ออกเสียง ออกมา เสียงดัง ๆ มาย โฟล์ เต็มที่ ฮอล ลี่ หัน มอง ไป รอบด้าน\n",
      " [!] Character 'ฯ' not found in the vocabulary. Discarding it.\n"
     ]
    },
    {
     "name": "stderr",
     "output_type": "stream",
     "text": [
      "\n",
      "\u001b[1m > EVALUATION \u001b[0m\n",
      "\n"
     ]
    },
    {
     "name": "stdout",
     "output_type": "stream",
     "text": [
      " | > Synthesizing test sentences.\n"
     ]
    },
    {
     "name": "stderr",
     "output_type": "stream",
     "text": [
      "\n",
      "  \u001b[1m--> EVAL PERFORMANCE\u001b[0m\n",
      "     | > avg_loader_time:\u001b[91m 0.07973589897155761 \u001b[0m(+0.032267284393310544)\n",
      "     | > avg_loss:\u001b[92m 0.5592152714729309 \u001b[0m(-0.20046340227127069)\n",
      "     | > avg_log_mle:\u001b[92m -0.2778135299682617 \u001b[0m(-0.13503296375274657)\n",
      "     | > avg_loss_dur:\u001b[92m 0.8370288014411926 \u001b[0m(-0.06543043851852415)\n",
      "\n",
      "\n",
      "\u001b[4m\u001b[1m > EPOCH: 72/100\u001b[0m\n",
      " --> glowtts_train_dir/run-October-21-2024_11+30AM-0000000\n",
      "\n",
      "\u001b[1m > TRAINING (2024-10-21 15:29:22) \u001b[0m\n",
      "\n",
      "\u001b[1m   --> TIME: 2024-10-21 15:31:20 -- STEP: 376/592 -- GLOBAL_STEP: 43000\u001b[0m\n",
      "     | > loss: 0.35787028074264526  (0.44190458652186904)\n",
      "     | > log_mle: -0.4385340213775635  (-0.35147495092229625)\n",
      "     | > loss_dur: 0.7964043021202087  (0.7933795374441651)\n",
      "     | > amp_scaler: 1024.0  (1024.0)\n",
      "     | > grad_norm: tensor(148.5900, device='cuda:0')  (tensor(100.1393, device='cuda:0'))\n",
      "     | > current_lr: 1.8e-05 \n",
      "     | > step_time: 0.3245  (0.30437533208664436)\n",
      "     | > loader_time: 0.0034  (0.004228642012210603)\n",
      "\n",
      "\n",
      " > CHECKPOINT : glowtts_train_dir/run-October-21-2024_11+30AM-0000000/checkpoint_43000.pth\n"
     ]
    },
    {
     "name": "stdout",
     "output_type": "stream",
     "text": [
      "เขา ก็ บ่น เร็ว ๆ ก็ เล่า กัน โฟล ลี่ แนะ นําผม ให้ เวลา เต็มที่ ห้า นาที ก่อนที่ กรุงเทพฯ จะ เข้าไป ร่วมกับ เวลา ปกติ ของ โลก ฮอล ลี่ ก้าว ผ่าน ศูนย์ ที่ เคย เป็น ทางเดิน คม ระยะ เบา ๆ เพราะ แรง แตก ของ ระเบิด แต่ นอกจากนั้น ทุกอย่าง ยังคง สภาพเดิม ที่ เธอ จํา ได้ ทาง ข้างล่าง ห้องขัง ไม่ มี ใคร ตอบ ไม่ มี แม้แต่ คํา เดียว มี ใคร บางคน ออกเสียง ออกมา เสียงดัง ๆ มาย โฟล์ เต็มที่ ฮอล ลี่ หัน มอง ไป รอบด้าน\n",
      " [!] Character 'ฯ' not found in the vocabulary. Discarding it.\n"
     ]
    },
    {
     "name": "stderr",
     "output_type": "stream",
     "text": [
      "\n",
      "\u001b[1m > EVALUATION \u001b[0m\n",
      "\n"
     ]
    },
    {
     "name": "stdout",
     "output_type": "stream",
     "text": [
      " | > Synthesizing test sentences.\n"
     ]
    },
    {
     "name": "stderr",
     "output_type": "stream",
     "text": [
      "\n",
      "  \u001b[1m--> EVAL PERFORMANCE\u001b[0m\n",
      "     | > avg_loader_time:\u001b[92m 0.04191899299621582 \u001b[0m(-0.03781690597534179)\n",
      "     | > avg_loss:\u001b[91m 0.7562019348144531 \u001b[0m(+0.19698666334152215)\n",
      "     | > avg_log_mle:\u001b[91m -0.18374168872833252 \u001b[0m(+0.09407184123992918)\n",
      "     | > avg_loss_dur:\u001b[91m 0.9399436235427856 \u001b[0m(+0.10291482210159297)\n",
      "\n",
      "\n",
      "\u001b[4m\u001b[1m > EPOCH: 73/100\u001b[0m\n",
      " --> glowtts_train_dir/run-October-21-2024_11+30AM-0000000\n",
      "\n",
      "\u001b[1m > TRAINING (2024-10-21 15:32:45) \u001b[0m\n"
     ]
    },
    {
     "name": "stdout",
     "output_type": "stream",
     "text": [
      "เขา ก็ บ่น เร็ว ๆ ก็ เล่า กัน โฟล ลี่ แนะ นําผม ให้ เวลา เต็มที่ ห้า นาที ก่อนที่ กรุงเทพฯ จะ เข้าไป ร่วมกับ เวลา ปกติ ของ โลก ฮอล ลี่ ก้าว ผ่าน ศูนย์ ที่ เคย เป็น ทางเดิน คม ระยะ เบา ๆ เพราะ แรง แตก ของ ระเบิด แต่ นอกจากนั้น ทุกอย่าง ยังคง สภาพเดิม ที่ เธอ จํา ได้ ทาง ข้างล่าง ห้องขัง ไม่ มี ใคร ตอบ ไม่ มี แม้แต่ คํา เดียว มี ใคร บางคน ออกเสียง ออกมา เสียงดัง ๆ มาย โฟล์ เต็มที่ ฮอล ลี่ หัน มอง ไป รอบด้าน\n",
      " [!] Character 'ฯ' not found in the vocabulary. Discarding it.\n"
     ]
    },
    {
     "name": "stderr",
     "output_type": "stream",
     "text": [
      "\n",
      "\u001b[1m > EVALUATION \u001b[0m\n",
      "\n"
     ]
    },
    {
     "name": "stdout",
     "output_type": "stream",
     "text": [
      " | > Synthesizing test sentences.\n"
     ]
    },
    {
     "name": "stderr",
     "output_type": "stream",
     "text": [
      "\n",
      "  \u001b[1m--> EVAL PERFORMANCE\u001b[0m\n",
      "     | > avg_loader_time:\u001b[92m 0.04153847694396973 \u001b[0m(-0.00038051605224609375)\n",
      "     | > avg_loss:\u001b[92m 0.6734425067901612 \u001b[0m(-0.08275942802429193)\n",
      "     | > avg_log_mle:\u001b[91m -0.1801062822341919 \u001b[0m(+0.003635406494140625)\n",
      "     | > avg_loss_dur:\u001b[92m 0.853548789024353 \u001b[0m(-0.08639483451843255)\n",
      "\n",
      "\n",
      "\u001b[4m\u001b[1m > EPOCH: 74/100\u001b[0m\n",
      " --> glowtts_train_dir/run-October-21-2024_11+30AM-0000000\n",
      "\n",
      "\u001b[1m > TRAINING (2024-10-21 15:36:03) \u001b[0m\n",
      "\n",
      "\u001b[1m   --> TIME: 2024-10-21 15:37:04 -- STEP: 192/592 -- GLOBAL_STEP: 44000\u001b[0m\n",
      "     | > loss: 0.5504175424575806  (0.43465190349767613)\n",
      "     | > log_mle: -0.286739706993103  (-0.3553926379730304)\n",
      "     | > loss_dur: 0.8371572494506836  (0.7900445414707065)\n",
      "     | > amp_scaler: 1024.0  (1024.0)\n",
      "     | > grad_norm: tensor(31.3408, device='cuda:0')  (tensor(99.4027, device='cuda:0'))\n",
      "     | > current_lr: 1.8500000000000002e-05 \n",
      "     | > step_time: 0.2371  (0.304393373429775)\n",
      "     | > loader_time: 0.0033  (0.0040895864367485055)\n",
      "\n",
      "\n",
      " > CHECKPOINT : glowtts_train_dir/run-October-21-2024_11+30AM-0000000/checkpoint_44000.pth\n"
     ]
    },
    {
     "name": "stdout",
     "output_type": "stream",
     "text": [
      "เขา ก็ บ่น เร็ว ๆ ก็ เล่า กัน โฟล ลี่ แนะ นําผม ให้ เวลา เต็มที่ ห้า นาที ก่อนที่ กรุงเทพฯ จะ เข้าไป ร่วมกับ เวลา ปกติ ของ โลก ฮอล ลี่ ก้าว ผ่าน ศูนย์ ที่ เคย เป็น ทางเดิน คม ระยะ เบา ๆ เพราะ แรง แตก ของ ระเบิด แต่ นอกจากนั้น ทุกอย่าง ยังคง สภาพเดิม ที่ เธอ จํา ได้ ทาง ข้างล่าง ห้องขัง ไม่ มี ใคร ตอบ ไม่ มี แม้แต่ คํา เดียว มี ใคร บางคน ออกเสียง ออกมา เสียงดัง ๆ มาย โฟล์ เต็มที่ ฮอล ลี่ หัน มอง ไป รอบด้าน\n",
      " [!] Character 'ฯ' not found in the vocabulary. Discarding it.\n"
     ]
    },
    {
     "name": "stderr",
     "output_type": "stream",
     "text": [
      "\n",
      "\u001b[1m > EVALUATION \u001b[0m\n",
      "\n"
     ]
    },
    {
     "name": "stdout",
     "output_type": "stream",
     "text": [
      " | > Synthesizing test sentences.\n"
     ]
    },
    {
     "name": "stderr",
     "output_type": "stream",
     "text": [
      "\n",
      "  \u001b[1m--> EVAL PERFORMANCE\u001b[0m\n",
      "     | > avg_loader_time:\u001b[91m 0.04975857734680176 \u001b[0m(+0.008220100402832033)\n",
      "     | > avg_loss:\u001b[91m 0.8916154861450195 \u001b[0m(+0.21817297935485835)\n",
      "     | > avg_log_mle:\u001b[91m -0.030491673946380617 \u001b[0m(+0.14961460828781128)\n",
      "     | > avg_loss_dur:\u001b[91m 0.9221071481704712 \u001b[0m(+0.06855835914611819)\n",
      "\n",
      "\n",
      "\u001b[4m\u001b[1m > EPOCH: 75/100\u001b[0m\n",
      " --> glowtts_train_dir/run-October-21-2024_11+30AM-0000000\n",
      "\n",
      "\u001b[1m > TRAINING (2024-10-21 15:39:22) \u001b[0m\n"
     ]
    },
    {
     "name": "stdout",
     "output_type": "stream",
     "text": [
      "เขา ก็ บ่น เร็ว ๆ ก็ เล่า กัน โฟล ลี่ แนะ นําผม ให้ เวลา เต็มที่ ห้า นาที ก่อนที่ กรุงเทพฯ จะ เข้าไป ร่วมกับ เวลา ปกติ ของ โลก ฮอล ลี่ ก้าว ผ่าน ศูนย์ ที่ เคย เป็น ทางเดิน คม ระยะ เบา ๆ เพราะ แรง แตก ของ ระเบิด แต่ นอกจากนั้น ทุกอย่าง ยังคง สภาพเดิม ที่ เธอ จํา ได้ ทาง ข้างล่าง ห้องขัง ไม่ มี ใคร ตอบ ไม่ มี แม้แต่ คํา เดียว มี ใคร บางคน ออกเสียง ออกมา เสียงดัง ๆ มาย โฟล์ เต็มที่ ฮอล ลี่ หัน มอง ไป รอบด้าน\n",
      " [!] Character 'ฯ' not found in the vocabulary. Discarding it.\n"
     ]
    },
    {
     "name": "stderr",
     "output_type": "stream",
     "text": [
      "\n",
      "\u001b[1m > EVALUATION \u001b[0m\n",
      "\n"
     ]
    },
    {
     "name": "stdout",
     "output_type": "stream",
     "text": [
      " | > Synthesizing test sentences.\n"
     ]
    },
    {
     "name": "stderr",
     "output_type": "stream",
     "text": [
      "\n",
      "  \u001b[1m--> EVAL PERFORMANCE\u001b[0m\n",
      "     | > avg_loader_time:\u001b[92m 0.04781231880187988 \u001b[0m(-0.0019462585449218778)\n",
      "     | > avg_loss:\u001b[92m 0.8286561250686646 \u001b[0m(-0.06295936107635491)\n",
      "     | > avg_log_mle:\u001b[92m -0.07742944955825806 \u001b[0m(-0.046937775611877446)\n",
      "     | > avg_loss_dur:\u001b[92m 0.9060855746269226 \u001b[0m(-0.016021573543548606)\n",
      "\n",
      "\n",
      "\u001b[4m\u001b[1m > EPOCH: 76/100\u001b[0m\n",
      " --> glowtts_train_dir/run-October-21-2024_11+30AM-0000000\n",
      "\n",
      "\u001b[1m > TRAINING (2024-10-21 15:42:37) \u001b[0m\n",
      "\n",
      "\u001b[1m   --> TIME: 2024-10-21 15:42:42 -- STEP: 8/592 -- GLOBAL_STEP: 45000\u001b[0m\n",
      "     | > loss: 0.3205142021179199  (0.4979787245392799)\n",
      "     | > log_mle: -0.41738343238830566  (-0.36560095846652985)\n",
      "     | > loss_dur: 0.7378976345062256  (0.8635796830058098)\n",
      "     | > amp_scaler: 1024.0  (1024.0)\n",
      "     | > grad_norm: tensor(201.1200, device='cuda:0')  (tensor(247.2456, device='cuda:0'))\n",
      "     | > current_lr: 1.8999999999999998e-05 \n",
      "     | > step_time: 0.2322  (0.329054594039917)\n",
      "     | > loader_time: 0.0034  (0.007863998413085938)\n",
      "\n",
      "\n",
      " > CHECKPOINT : glowtts_train_dir/run-October-21-2024_11+30AM-0000000/checkpoint_45000.pth\n"
     ]
    },
    {
     "name": "stdout",
     "output_type": "stream",
     "text": [
      "เขา ก็ บ่น เร็ว ๆ ก็ เล่า กัน โฟล ลี่ แนะ นําผม ให้ เวลา เต็มที่ ห้า นาที ก่อนที่ กรุงเทพฯ จะ เข้าไป ร่วมกับ เวลา ปกติ ของ โลก ฮอล ลี่ ก้าว ผ่าน ศูนย์ ที่ เคย เป็น ทางเดิน คม ระยะ เบา ๆ เพราะ แรง แตก ของ ระเบิด แต่ นอกจากนั้น ทุกอย่าง ยังคง สภาพเดิม ที่ เธอ จํา ได้ ทาง ข้างล่าง ห้องขัง ไม่ มี ใคร ตอบ ไม่ มี แม้แต่ คํา เดียว มี ใคร บางคน ออกเสียง ออกมา เสียงดัง ๆ มาย โฟล์ เต็มที่ ฮอล ลี่ หัน มอง ไป รอบด้าน\n",
      " [!] Character 'ฯ' not found in the vocabulary. Discarding it.\n"
     ]
    },
    {
     "name": "stderr",
     "output_type": "stream",
     "text": [
      "\n",
      "\u001b[1m > EVALUATION \u001b[0m\n",
      "\n"
     ]
    },
    {
     "name": "stdout",
     "output_type": "stream",
     "text": [
      " | > Synthesizing test sentences.\n"
     ]
    },
    {
     "name": "stderr",
     "output_type": "stream",
     "text": [
      "\n",
      "  \u001b[1m--> EVAL PERFORMANCE\u001b[0m\n",
      "     | > avg_loader_time:\u001b[92m 0.040218544006347653 \u001b[0m(-0.007593774795532228)\n",
      "     | > avg_loss:\u001b[92m 0.6825182914733887 \u001b[0m(-0.14613783359527588)\n",
      "     | > avg_log_mle:\u001b[92m -0.25093421936035154 \u001b[0m(-0.17350476980209348)\n",
      "     | > avg_loss_dur:\u001b[91m 0.9334525108337403 \u001b[0m(+0.027366936206817627)\n",
      "\n",
      "\n",
      "\u001b[4m\u001b[1m > EPOCH: 77/100\u001b[0m\n",
      " --> glowtts_train_dir/run-October-21-2024_11+30AM-0000000\n",
      "\n",
      "\u001b[1m > TRAINING (2024-10-21 15:45:59) \u001b[0m\n",
      "\n",
      "\u001b[1m   --> TIME: 2024-10-21 15:48:10 -- STEP: 416/592 -- GLOBAL_STEP: 46000\u001b[0m\n",
      "     | > loss: 0.2823256254196167  (0.41618176349080527)\n",
      "     | > log_mle: -0.47954773902893066  (-0.3705527859811601)\n",
      "     | > loss_dur: 0.7618733644485474  (0.7867345494719652)\n",
      "     | > amp_scaler: 1024.0  (1024.0)\n",
      "     | > grad_norm: tensor(190.2400, device='cuda:0')  (tensor(95.0090, device='cuda:0'))\n",
      "     | > current_lr: 1.925e-05 \n",
      "     | > step_time: 0.2579  (0.30345012706059693)\n",
      "     | > loader_time: 0.0028  (0.0051004393742634675)\n",
      "\n",
      "\n",
      " > CHECKPOINT : glowtts_train_dir/run-October-21-2024_11+30AM-0000000/checkpoint_46000.pth\n"
     ]
    },
    {
     "name": "stdout",
     "output_type": "stream",
     "text": [
      "เขา ก็ บ่น เร็ว ๆ ก็ เล่า กัน โฟล ลี่ แนะ นําผม ให้ เวลา เต็มที่ ห้า นาที ก่อนที่ กรุงเทพฯ จะ เข้าไป ร่วมกับ เวลา ปกติ ของ โลก ฮอล ลี่ ก้าว ผ่าน ศูนย์ ที่ เคย เป็น ทางเดิน คม ระยะ เบา ๆ เพราะ แรง แตก ของ ระเบิด แต่ นอกจากนั้น ทุกอย่าง ยังคง สภาพเดิม ที่ เธอ จํา ได้ ทาง ข้างล่าง ห้องขัง ไม่ มี ใคร ตอบ ไม่ มี แม้แต่ คํา เดียว มี ใคร บางคน ออกเสียง ออกมา เสียงดัง ๆ มาย โฟล์ เต็มที่ ฮอล ลี่ หัน มอง ไป รอบด้าน\n",
      " [!] Character 'ฯ' not found in the vocabulary. Discarding it.\n"
     ]
    },
    {
     "name": "stderr",
     "output_type": "stream",
     "text": [
      "\n",
      "\u001b[1m > EVALUATION \u001b[0m\n",
      "\n"
     ]
    },
    {
     "name": "stdout",
     "output_type": "stream",
     "text": [
      " | > Synthesizing test sentences.\n"
     ]
    },
    {
     "name": "stderr",
     "output_type": "stream",
     "text": [
      "\n",
      "  \u001b[1m--> EVAL PERFORMANCE\u001b[0m\n",
      "     | > avg_loader_time:\u001b[92m 0.03807668685913086 \u001b[0m(-0.0021418571472167913)\n",
      "     | > avg_loss:\u001b[91m 0.7792387485504151 \u001b[0m(+0.09672045707702637)\n",
      "     | > avg_log_mle:\u001b[91m -0.12447096109390259 \u001b[0m(+0.12646325826644894)\n",
      "     | > avg_loss_dur:\u001b[92m 0.9037097096443176 \u001b[0m(-0.02974280118942263)\n",
      "\n",
      "\n",
      "\u001b[4m\u001b[1m > EPOCH: 78/100\u001b[0m\n",
      " --> glowtts_train_dir/run-October-21-2024_11+30AM-0000000\n",
      "\n",
      "\u001b[1m > TRAINING (2024-10-21 15:49:22) \u001b[0m\n"
     ]
    },
    {
     "name": "stdout",
     "output_type": "stream",
     "text": [
      "เขา ก็ บ่น เร็ว ๆ ก็ เล่า กัน โฟล ลี่ แนะ นําผม ให้ เวลา เต็มที่ ห้า นาที ก่อนที่ กรุงเทพฯ จะ เข้าไป ร่วมกับ เวลา ปกติ ของ โลก ฮอล ลี่ ก้าว ผ่าน ศูนย์ ที่ เคย เป็น ทางเดิน คม ระยะ เบา ๆ เพราะ แรง แตก ของ ระเบิด แต่ นอกจากนั้น ทุกอย่าง ยังคง สภาพเดิม ที่ เธอ จํา ได้ ทาง ข้างล่าง ห้องขัง ไม่ มี ใคร ตอบ ไม่ มี แม้แต่ คํา เดียว มี ใคร บางคน ออกเสียง ออกมา เสียงดัง ๆ มาย โฟล์ เต็มที่ ฮอล ลี่ หัน มอง ไป รอบด้าน\n",
      " [!] Character 'ฯ' not found in the vocabulary. Discarding it.\n"
     ]
    },
    {
     "name": "stderr",
     "output_type": "stream",
     "text": [
      "\n",
      "\u001b[1m > EVALUATION \u001b[0m\n",
      "\n"
     ]
    },
    {
     "name": "stdout",
     "output_type": "stream",
     "text": [
      " | > Synthesizing test sentences.\n"
     ]
    },
    {
     "name": "stderr",
     "output_type": "stream",
     "text": [
      "\n",
      "  \u001b[1m--> EVAL PERFORMANCE\u001b[0m\n",
      "     | > avg_loader_time:\u001b[91m 0.06924023628234863 \u001b[0m(+0.031163549423217765)\n",
      "     | > avg_loss:\u001b[92m 0.6227962374687195 \u001b[0m(-0.1564425110816956)\n",
      "     | > avg_log_mle:\u001b[92m -0.20189409255981444 \u001b[0m(-0.07742313146591186)\n",
      "     | > avg_loss_dur:\u001b[92m 0.824690330028534 \u001b[0m(-0.07901937961578365)\n",
      "\n",
      "\n",
      "\u001b[4m\u001b[1m > EPOCH: 79/100\u001b[0m\n",
      " --> glowtts_train_dir/run-October-21-2024_11+30AM-0000000\n",
      "\n",
      "\u001b[1m > TRAINING (2024-10-21 15:52:37) \u001b[0m\n",
      "\n",
      "\u001b[1m   --> TIME: 2024-10-21 15:53:53 -- STEP: 232/592 -- GLOBAL_STEP: 47000\u001b[0m\n",
      "     | > loss: 0.28315287828445435  (0.4140962572961018)\n",
      "     | > log_mle: -0.5356312990188599  (-0.3716212598414258)\n",
      "     | > loss_dur: 0.8187841773033142  (0.7857175171375275)\n",
      "     | > amp_scaler: 1024.0  (1024.0)\n",
      "     | > grad_norm: tensor(131.9581, device='cuda:0')  (tensor(91.9492, device='cuda:0'))\n",
      "     | > current_lr: 1.975e-05 \n",
      "     | > step_time: 0.499  (0.31358562769560966)\n",
      "     | > loader_time: 0.0034  (0.004537619393447347)\n",
      "\n",
      "\n",
      " > CHECKPOINT : glowtts_train_dir/run-October-21-2024_11+30AM-0000000/checkpoint_47000.pth\n"
     ]
    },
    {
     "name": "stdout",
     "output_type": "stream",
     "text": [
      "เขา ก็ บ่น เร็ว ๆ ก็ เล่า กัน โฟล ลี่ แนะ นําผม ให้ เวลา เต็มที่ ห้า นาที ก่อนที่ กรุงเทพฯ จะ เข้าไป ร่วมกับ เวลา ปกติ ของ โลก ฮอล ลี่ ก้าว ผ่าน ศูนย์ ที่ เคย เป็น ทางเดิน คม ระยะ เบา ๆ เพราะ แรง แตก ของ ระเบิด แต่ นอกจากนั้น ทุกอย่าง ยังคง สภาพเดิม ที่ เธอ จํา ได้ ทาง ข้างล่าง ห้องขัง ไม่ มี ใคร ตอบ ไม่ มี แม้แต่ คํา เดียว มี ใคร บางคน ออกเสียง ออกมา เสียงดัง ๆ มาย โฟล์ เต็มที่ ฮอล ลี่ หัน มอง ไป รอบด้าน\n",
      " [!] Character 'ฯ' not found in the vocabulary. Discarding it.\n"
     ]
    },
    {
     "name": "stderr",
     "output_type": "stream",
     "text": [
      "\n",
      "\u001b[1m > EVALUATION \u001b[0m\n",
      "\n"
     ]
    },
    {
     "name": "stdout",
     "output_type": "stream",
     "text": [
      " | > Synthesizing test sentences.\n"
     ]
    },
    {
     "name": "stderr",
     "output_type": "stream",
     "text": [
      "\n",
      "  \u001b[1m--> EVAL PERFORMANCE\u001b[0m\n",
      "     | > avg_loader_time:\u001b[92m 0.05895719528198242 \u001b[0m(-0.010283041000366207)\n",
      "     | > avg_loss:\u001b[92m 0.5996036648750305 \u001b[0m(-0.02319257259368901)\n",
      "     | > avg_log_mle:\u001b[92m -0.24371209144592285 \u001b[0m(-0.041817998886108404)\n",
      "     | > avg_loss_dur:\u001b[91m 0.8433157563209533 \u001b[0m(+0.018625426292419367)\n",
      "\n",
      "\n",
      "\u001b[4m\u001b[1m > EPOCH: 80/100\u001b[0m\n",
      " --> glowtts_train_dir/run-October-21-2024_11+30AM-0000000\n",
      "\n",
      "\u001b[1m > TRAINING (2024-10-21 15:56:04) \u001b[0m\n"
     ]
    },
    {
     "name": "stdout",
     "output_type": "stream",
     "text": [
      "เขา ก็ บ่น เร็ว ๆ ก็ เล่า กัน โฟล ลี่ แนะ นําผม ให้ เวลา เต็มที่ ห้า นาที ก่อนที่ กรุงเทพฯ จะ เข้าไป ร่วมกับ เวลา ปกติ ของ โลก ฮอล ลี่ ก้าว ผ่าน ศูนย์ ที่ เคย เป็น ทางเดิน คม ระยะ เบา ๆ เพราะ แรง แตก ของ ระเบิด แต่ นอกจากนั้น ทุกอย่าง ยังคง สภาพเดิม ที่ เธอ จํา ได้ ทาง ข้างล่าง ห้องขัง ไม่ มี ใคร ตอบ ไม่ มี แม้แต่ คํา เดียว มี ใคร บางคน ออกเสียง ออกมา เสียงดัง ๆ มาย โฟล์ เต็มที่ ฮอล ลี่ หัน มอง ไป รอบด้าน\n",
      " [!] Character 'ฯ' not found in the vocabulary. Discarding it.\n"
     ]
    },
    {
     "name": "stderr",
     "output_type": "stream",
     "text": [
      "\n",
      "\u001b[1m > EVALUATION \u001b[0m\n",
      "\n"
     ]
    },
    {
     "name": "stdout",
     "output_type": "stream",
     "text": [
      " | > Synthesizing test sentences.\n"
     ]
    },
    {
     "name": "stderr",
     "output_type": "stream",
     "text": [
      "\n",
      "  \u001b[1m--> EVAL PERFORMANCE\u001b[0m\n",
      "     | > avg_loader_time:\u001b[92m 0.05184712409973145 \u001b[0m(-0.007110071182250974)\n",
      "     | > avg_loss:\u001b[91m 0.7135050654411316 \u001b[0m(+0.1139014005661011)\n",
      "     | > avg_log_mle:\u001b[91m -0.15076403617858886 \u001b[0m(+0.09294805526733399)\n",
      "     | > avg_loss_dur:\u001b[91m 0.8642691016197205 \u001b[0m(+0.020953345298767134)\n",
      "\n",
      "\n",
      "\u001b[4m\u001b[1m > EPOCH: 81/100\u001b[0m\n",
      " --> glowtts_train_dir/run-October-21-2024_11+30AM-0000000\n",
      "\n",
      "\u001b[1m > TRAINING (2024-10-21 15:59:23) \u001b[0m\n",
      "\n",
      "\u001b[1m   --> TIME: 2024-10-21 15:59:40 -- STEP: 48/592 -- GLOBAL_STEP: 48000\u001b[0m\n",
      "     | > loss: 0.5079976320266724  (0.4436911183098952)\n",
      "     | > log_mle: -0.3803316354751587  (-0.3605150679747264)\n",
      "     | > loss_dur: 0.888329267501831  (0.8042061862846216)\n",
      "     | > amp_scaler: 1024.0  (1024.0)\n",
      "     | > grad_norm: tensor(27.9871, device='cuda:0')  (tensor(103.1515, device='cuda:0'))\n",
      "     | > current_lr: 2.025e-05 \n",
      "     | > step_time: 0.315  (0.3239600906769435)\n",
      "     | > loader_time: 0.0025  (0.004820212721824647)\n",
      "\n",
      "\n",
      " > CHECKPOINT : glowtts_train_dir/run-October-21-2024_11+30AM-0000000/checkpoint_48000.pth\n"
     ]
    },
    {
     "name": "stdout",
     "output_type": "stream",
     "text": [
      "เขา ก็ บ่น เร็ว ๆ ก็ เล่า กัน โฟล ลี่ แนะ นําผม ให้ เวลา เต็มที่ ห้า นาที ก่อนที่ กรุงเทพฯ จะ เข้าไป ร่วมกับ เวลา ปกติ ของ โลก ฮอล ลี่ ก้าว ผ่าน ศูนย์ ที่ เคย เป็น ทางเดิน คม ระยะ เบา ๆ เพราะ แรง แตก ของ ระเบิด แต่ นอกจากนั้น ทุกอย่าง ยังคง สภาพเดิม ที่ เธอ จํา ได้ ทาง ข้างล่าง ห้องขัง ไม่ มี ใคร ตอบ ไม่ มี แม้แต่ คํา เดียว มี ใคร บางคน ออกเสียง ออกมา เสียงดัง ๆ มาย โฟล์ เต็มที่ ฮอล ลี่ หัน มอง ไป รอบด้าน\n",
      " [!] Character 'ฯ' not found in the vocabulary. Discarding it.\n"
     ]
    },
    {
     "name": "stderr",
     "output_type": "stream",
     "text": [
      "\n",
      "\u001b[1m > EVALUATION \u001b[0m\n",
      "\n"
     ]
    },
    {
     "name": "stdout",
     "output_type": "stream",
     "text": [
      " | > Synthesizing test sentences.\n"
     ]
    },
    {
     "name": "stderr",
     "output_type": "stream",
     "text": [
      "\n",
      "  \u001b[1m--> EVAL PERFORMANCE\u001b[0m\n",
      "     | > avg_loader_time:\u001b[91m 0.06762638092041015 \u001b[0m(+0.015779256820678704)\n",
      "     | > avg_loss:\u001b[92m 0.586136257648468 \u001b[0m(-0.12736880779266357)\n",
      "     | > avg_log_mle:\u001b[92m -0.271097993850708 \u001b[0m(-0.12033395767211913)\n",
      "     | > avg_loss_dur:\u001b[92m 0.857234251499176 \u001b[0m(-0.0070348501205445)\n",
      "\n",
      "\n",
      "\u001b[4m\u001b[1m > EPOCH: 82/100\u001b[0m\n",
      " --> glowtts_train_dir/run-October-21-2024_11+30AM-0000000\n",
      "\n",
      "\u001b[1m > TRAINING (2024-10-21 16:02:49) \u001b[0m\n",
      "\n",
      "\u001b[1m   --> TIME: 2024-10-21 16:05:13 -- STEP: 456/592 -- GLOBAL_STEP: 49000\u001b[0m\n",
      "     | > loss: 0.31976789236068726  (0.4092077057351147)\n",
      "     | > log_mle: -0.3846116065979004  (-0.38231595932391654)\n",
      "     | > loss_dur: 0.7043794989585876  (0.7915236650590312)\n",
      "     | > amp_scaler: 1024.0  (1024.0)\n",
      "     | > grad_norm: tensor(60.1310, device='cuda:0')  (tensor(95.8076, device='cuda:0'))\n",
      "     | > current_lr: 2.05e-05 \n",
      "     | > step_time: 0.3303  (0.30693504893988854)\n",
      "     | > loader_time: 0.0029  (0.0038137022863354605)\n",
      "\n",
      "\n",
      " > CHECKPOINT : glowtts_train_dir/run-October-21-2024_11+30AM-0000000/checkpoint_49000.pth\n"
     ]
    },
    {
     "name": "stdout",
     "output_type": "stream",
     "text": [
      "เขา ก็ บ่น เร็ว ๆ ก็ เล่า กัน โฟล ลี่ แนะ นําผม ให้ เวลา เต็มที่ ห้า นาที ก่อนที่ กรุงเทพฯ จะ เข้าไป ร่วมกับ เวลา ปกติ ของ โลก ฮอล ลี่ ก้าว ผ่าน ศูนย์ ที่ เคย เป็น ทางเดิน คม ระยะ เบา ๆ เพราะ แรง แตก ของ ระเบิด แต่ นอกจากนั้น ทุกอย่าง ยังคง สภาพเดิม ที่ เธอ จํา ได้ ทาง ข้างล่าง ห้องขัง ไม่ มี ใคร ตอบ ไม่ มี แม้แต่ คํา เดียว มี ใคร บางคน ออกเสียง ออกมา เสียงดัง ๆ มาย โฟล์ เต็มที่ ฮอล ลี่ หัน มอง ไป รอบด้าน\n",
      " [!] Character 'ฯ' not found in the vocabulary. Discarding it.\n"
     ]
    },
    {
     "name": "stderr",
     "output_type": "stream",
     "text": [
      "\n",
      "\u001b[1m > EVALUATION \u001b[0m\n",
      "\n"
     ]
    },
    {
     "name": "stdout",
     "output_type": "stream",
     "text": [
      " | > Synthesizing test sentences.\n"
     ]
    },
    {
     "name": "stderr",
     "output_type": "stream",
     "text": [
      "\n",
      "  \u001b[1m--> EVAL PERFORMANCE\u001b[0m\n",
      "     | > avg_loader_time:\u001b[92m 0.0518587589263916 \u001b[0m(-0.01576762199401855)\n",
      "     | > avg_loss:\u001b[91m 0.9927282333374023 \u001b[0m(+0.40659197568893435)\n",
      "     | > avg_log_mle:\u001b[91m 0.0945841908454895 \u001b[0m(+0.3656821846961975)\n",
      "     | > avg_loss_dur:\u001b[91m 0.8981440424919128 \u001b[0m(+0.04090979099273684)\n",
      "\n",
      "\n",
      "\u001b[4m\u001b[1m > EPOCH: 83/100\u001b[0m\n",
      " --> glowtts_train_dir/run-October-21-2024_11+30AM-0000000\n",
      "\n",
      "\u001b[1m > TRAINING (2024-10-21 16:06:12) \u001b[0m\n"
     ]
    },
    {
     "name": "stdout",
     "output_type": "stream",
     "text": [
      "เขา ก็ บ่น เร็ว ๆ ก็ เล่า กัน โฟล ลี่ แนะ นําผม ให้ เวลา เต็มที่ ห้า นาที ก่อนที่ กรุงเทพฯ จะ เข้าไป ร่วมกับ เวลา ปกติ ของ โลก ฮอล ลี่ ก้าว ผ่าน ศูนย์ ที่ เคย เป็น ทางเดิน คม ระยะ เบา ๆ เพราะ แรง แตก ของ ระเบิด แต่ นอกจากนั้น ทุกอย่าง ยังคง สภาพเดิม ที่ เธอ จํา ได้ ทาง ข้างล่าง ห้องขัง ไม่ มี ใคร ตอบ ไม่ มี แม้แต่ คํา เดียว มี ใคร บางคน ออกเสียง ออกมา เสียงดัง ๆ มาย โฟล์ เต็มที่ ฮอล ลี่ หัน มอง ไป รอบด้าน\n",
      " [!] Character 'ฯ' not found in the vocabulary. Discarding it.\n"
     ]
    },
    {
     "name": "stderr",
     "output_type": "stream",
     "text": [
      "\n",
      "\u001b[1m > EVALUATION \u001b[0m\n",
      "\n"
     ]
    },
    {
     "name": "stdout",
     "output_type": "stream",
     "text": [
      " | > Synthesizing test sentences.\n"
     ]
    },
    {
     "name": "stderr",
     "output_type": "stream",
     "text": [
      "\n",
      "  \u001b[1m--> EVAL PERFORMANCE\u001b[0m\n",
      "     | > avg_loader_time:\u001b[91m 0.06258659362792969 \u001b[0m(+0.01072783470153809)\n",
      "     | > avg_loss:\u001b[92m 0.9413514733314514 \u001b[0m(-0.05137676000595093)\n",
      "     | > avg_log_mle:\u001b[92m 0.06606595516204834 \u001b[0m(-0.028518235683441154)\n",
      "     | > avg_loss_dur:\u001b[92m 0.8752855062484741 \u001b[0m(-0.0228585362434387)\n",
      "\n",
      "\n",
      "\u001b[4m\u001b[1m > EPOCH: 84/100\u001b[0m\n",
      " --> glowtts_train_dir/run-October-21-2024_11+30AM-0000000\n",
      "\n",
      "\u001b[1m > TRAINING (2024-10-21 16:09:33) \u001b[0m\n",
      "\n",
      "\u001b[1m   --> TIME: 2024-10-21 16:11:01 -- STEP: 272/592 -- GLOBAL_STEP: 50000\u001b[0m\n",
      "     | > loss: 0.27869176864624023  (0.40923781473847)\n",
      "     | > log_mle: -0.5071160793304443  (-0.3802307353300208)\n",
      "     | > loss_dur: 0.7858078479766846  (0.7894685500684907)\n",
      "     | > amp_scaler: 2048.0  (1908.705882352941)\n",
      "     | > grad_norm: tensor(155.2740, device='cuda:0')  (tensor(88.7895, device='cuda:0'))\n",
      "     | > current_lr: 2.1e-05 \n",
      "     | > step_time: 0.2705  (0.3150393375579048)\n",
      "     | > loader_time: 0.0027  (0.00459763583014993)\n",
      "\n",
      "\n",
      " > CHECKPOINT : glowtts_train_dir/run-October-21-2024_11+30AM-0000000/checkpoint_50000.pth\n"
     ]
    },
    {
     "name": "stdout",
     "output_type": "stream",
     "text": [
      "เขา ก็ บ่น เร็ว ๆ ก็ เล่า กัน โฟล ลี่ แนะ นําผม ให้ เวลา เต็มที่ ห้า นาที ก่อนที่ กรุงเทพฯ จะ เข้าไป ร่วมกับ เวลา ปกติ ของ โลก ฮอล ลี่ ก้าว ผ่าน ศูนย์ ที่ เคย เป็น ทางเดิน คม ระยะ เบา ๆ เพราะ แรง แตก ของ ระเบิด แต่ นอกจากนั้น ทุกอย่าง ยังคง สภาพเดิม ที่ เธอ จํา ได้ ทาง ข้างล่าง ห้องขัง ไม่ มี ใคร ตอบ ไม่ มี แม้แต่ คํา เดียว มี ใคร บางคน ออกเสียง ออกมา เสียงดัง ๆ มาย โฟล์ เต็มที่ ฮอล ลี่ หัน มอง ไป รอบด้าน\n",
      " [!] Character 'ฯ' not found in the vocabulary. Discarding it.\n"
     ]
    },
    {
     "name": "stderr",
     "output_type": "stream",
     "text": [
      "\n",
      "\u001b[1m > EVALUATION \u001b[0m\n",
      "\n"
     ]
    },
    {
     "name": "stdout",
     "output_type": "stream",
     "text": [
      " | > Synthesizing test sentences.\n"
     ]
    },
    {
     "name": "stderr",
     "output_type": "stream",
     "text": [
      "\n",
      "  \u001b[1m--> EVAL PERFORMANCE\u001b[0m\n",
      "     | > avg_loader_time:\u001b[91m 0.06503410339355468 \u001b[0m(+0.0024475097656249944)\n",
      "     | > avg_loss:\u001b[92m 0.8855461120605469 \u001b[0m(-0.05580536127090452)\n",
      "     | > avg_log_mle:\u001b[92m 0.06011089086532593 \u001b[0m(-0.0059550642967224135)\n",
      "     | > avg_loss_dur:\u001b[92m 0.825435221195221 \u001b[0m(-0.049850285053253174)\n",
      "\n",
      "\n",
      "\u001b[4m\u001b[1m > EPOCH: 85/100\u001b[0m\n",
      " --> glowtts_train_dir/run-October-21-2024_11+30AM-0000000\n",
      "\n",
      "\u001b[1m > TRAINING (2024-10-21 16:12:59) \u001b[0m\n"
     ]
    },
    {
     "name": "stdout",
     "output_type": "stream",
     "text": [
      "เขา ก็ บ่น เร็ว ๆ ก็ เล่า กัน โฟล ลี่ แนะ นําผม ให้ เวลา เต็มที่ ห้า นาที ก่อนที่ กรุงเทพฯ จะ เข้าไป ร่วมกับ เวลา ปกติ ของ โลก ฮอล ลี่ ก้าว ผ่าน ศูนย์ ที่ เคย เป็น ทางเดิน คม ระยะ เบา ๆ เพราะ แรง แตก ของ ระเบิด แต่ นอกจากนั้น ทุกอย่าง ยังคง สภาพเดิม ที่ เธอ จํา ได้ ทาง ข้างล่าง ห้องขัง ไม่ มี ใคร ตอบ ไม่ มี แม้แต่ คํา เดียว มี ใคร บางคน ออกเสียง ออกมา เสียงดัง ๆ มาย โฟล์ เต็มที่ ฮอล ลี่ หัน มอง ไป รอบด้าน\n",
      " [!] Character 'ฯ' not found in the vocabulary. Discarding it.\n"
     ]
    },
    {
     "name": "stderr",
     "output_type": "stream",
     "text": [
      "\n",
      "\u001b[1m > EVALUATION \u001b[0m\n",
      "\n"
     ]
    },
    {
     "name": "stdout",
     "output_type": "stream",
     "text": [
      " | > Synthesizing test sentences.\n"
     ]
    },
    {
     "name": "stderr",
     "output_type": "stream",
     "text": [
      "\n",
      "  \u001b[1m--> EVAL PERFORMANCE\u001b[0m\n",
      "     | > avg_loader_time:\u001b[92m 0.059073591232299806 \u001b[0m(-0.005960512161254879)\n",
      "     | > avg_loss:\u001b[92m 0.6721354722976685 \u001b[0m(-0.21341063976287844)\n",
      "     | > avg_log_mle:\u001b[92m -0.15177903175354004 \u001b[0m(-0.21188992261886597)\n",
      "     | > avg_loss_dur:\u001b[92m 0.8239145040512085 \u001b[0m(-0.0015207171440124734)\n",
      "\n",
      "\n",
      "\u001b[4m\u001b[1m > EPOCH: 86/100\u001b[0m\n",
      " --> glowtts_train_dir/run-October-21-2024_11+30AM-0000000\n",
      "\n",
      "\u001b[1m > TRAINING (2024-10-21 16:16:18) \u001b[0m\n",
      "\n",
      "\u001b[1m   --> TIME: 2024-10-21 16:16:48 -- STEP: 88/592 -- GLOBAL_STEP: 51000\u001b[0m\n",
      "     | > loss: 0.40114814043045044  (0.3987249874255874)\n",
      "     | > log_mle: -0.4332282543182373  (-0.3885610442269932)\n",
      "     | > loss_dur: 0.8343763947486877  (0.7872860316525808)\n",
      "     | > amp_scaler: 512.0  (512.0)\n",
      "     | > grad_norm: tensor(121.1307, device='cuda:0')  (tensor(90.6650, device='cuda:0'))\n",
      "     | > current_lr: 2.15e-05 \n",
      "     | > step_time: 0.4755  (0.31977127086032514)\n",
      "     | > loader_time: 0.0043  (0.004472840916026719)\n",
      "\n",
      "\n",
      " > CHECKPOINT : glowtts_train_dir/run-October-21-2024_11+30AM-0000000/checkpoint_51000.pth\n"
     ]
    },
    {
     "name": "stdout",
     "output_type": "stream",
     "text": [
      "เขา ก็ บ่น เร็ว ๆ ก็ เล่า กัน โฟล ลี่ แนะ นําผม ให้ เวลา เต็มที่ ห้า นาที ก่อนที่ กรุงเทพฯ จะ เข้าไป ร่วมกับ เวลา ปกติ ของ โลก ฮอล ลี่ ก้าว ผ่าน ศูนย์ ที่ เคย เป็น ทางเดิน คม ระยะ เบา ๆ เพราะ แรง แตก ของ ระเบิด แต่ นอกจากนั้น ทุกอย่าง ยังคง สภาพเดิม ที่ เธอ จํา ได้ ทาง ข้างล่าง ห้องขัง ไม่ มี ใคร ตอบ ไม่ มี แม้แต่ คํา เดียว มี ใคร บางคน ออกเสียง ออกมา เสียงดัง ๆ มาย โฟล์ เต็มที่ ฮอล ลี่ หัน มอง ไป รอบด้าน\n",
      " [!] Character 'ฯ' not found in the vocabulary. Discarding it.\n"
     ]
    },
    {
     "name": "stderr",
     "output_type": "stream",
     "text": [
      "\n",
      "\u001b[1m > EVALUATION \u001b[0m\n",
      "\n"
     ]
    },
    {
     "name": "stdout",
     "output_type": "stream",
     "text": [
      " | > Synthesizing test sentences.\n"
     ]
    },
    {
     "name": "stderr",
     "output_type": "stream",
     "text": [
      "\n",
      "  \u001b[1m--> EVAL PERFORMANCE\u001b[0m\n",
      "     | > avg_loader_time:\u001b[91m 0.06450657844543457 \u001b[0m(+0.005432987213134767)\n",
      "     | > avg_loss:\u001b[91m 0.6784675002098084 \u001b[0m(+0.006332027912139937)\n",
      "     | > avg_log_mle:\u001b[92m -0.21864187717437744 \u001b[0m(-0.0668628454208374)\n",
      "     | > avg_loss_dur:\u001b[91m 0.8971093773841858 \u001b[0m(+0.07319487333297736)\n",
      "\n",
      "\n",
      "\u001b[4m\u001b[1m > EPOCH: 87/100\u001b[0m\n",
      " --> glowtts_train_dir/run-October-21-2024_11+30AM-0000000\n",
      "\n",
      "\u001b[1m > TRAINING (2024-10-21 16:19:49) \u001b[0m\n",
      "\n",
      "\u001b[1m   --> TIME: 2024-10-21 16:22:28 -- STEP: 496/592 -- GLOBAL_STEP: 52000\u001b[0m\n",
      "     | > loss: 0.34809088706970215  (0.39931077738442733)\n",
      "     | > log_mle: -0.4409217834472656  (-0.3962365768609509)\n",
      "     | > loss_dur: 0.7890126705169678  (0.7955473542453781)\n",
      "     | > amp_scaler: 512.0  (512.0)\n",
      "     | > grad_norm: tensor(50.3555, device='cuda:0')  (tensor(91.3072, device='cuda:0'))\n",
      "     | > current_lr: 2.175e-05 \n",
      "     | > step_time: 0.3947  (0.3128491005589885)\n",
      "     | > loader_time: 0.0113  (0.004088443133138845)\n",
      "\n",
      "\n",
      " > CHECKPOINT : glowtts_train_dir/run-October-21-2024_11+30AM-0000000/checkpoint_52000.pth\n"
     ]
    },
    {
     "name": "stdout",
     "output_type": "stream",
     "text": [
      "เขา ก็ บ่น เร็ว ๆ ก็ เล่า กัน โฟล ลี่ แนะ นําผม ให้ เวลา เต็มที่ ห้า นาที ก่อนที่ กรุงเทพฯ จะ เข้าไป ร่วมกับ เวลา ปกติ ของ โลก ฮอล ลี่ ก้าว ผ่าน ศูนย์ ที่ เคย เป็น ทางเดิน คม ระยะ เบา ๆ เพราะ แรง แตก ของ ระเบิด แต่ นอกจากนั้น ทุกอย่าง ยังคง สภาพเดิม ที่ เธอ จํา ได้ ทาง ข้างล่าง ห้องขัง ไม่ มี ใคร ตอบ ไม่ มี แม้แต่ คํา เดียว มี ใคร บางคน ออกเสียง ออกมา เสียงดัง ๆ มาย โฟล์ เต็มที่ ฮอล ลี่ หัน มอง ไป รอบด้าน\n",
      " [!] Character 'ฯ' not found in the vocabulary. Discarding it.\n"
     ]
    },
    {
     "name": "stderr",
     "output_type": "stream",
     "text": [
      "\n",
      "\u001b[1m > EVALUATION \u001b[0m\n",
      "\n"
     ]
    },
    {
     "name": "stdout",
     "output_type": "stream",
     "text": [
      " | > Synthesizing test sentences.\n"
     ]
    },
    {
     "name": "stderr",
     "output_type": "stream",
     "text": [
      "\n",
      "  \u001b[1m--> EVAL PERFORMANCE\u001b[0m\n",
      "     | > avg_loader_time:\u001b[92m 0.017375898361206055 \u001b[0m(-0.04713068008422852)\n",
      "     | > avg_loss:\u001b[91m 0.7303953766822815 \u001b[0m(+0.0519278764724731)\n",
      "     | > avg_log_mle:\u001b[91m -0.15386979579925536 \u001b[0m(+0.06477208137512208)\n",
      "     | > avg_loss_dur:\u001b[92m 0.8842651724815369 \u001b[0m(-0.012844204902648926)\n",
      "\n",
      "\n",
      "\u001b[4m\u001b[1m > EPOCH: 88/100\u001b[0m\n",
      " --> glowtts_train_dir/run-October-21-2024_11+30AM-0000000\n",
      "\n",
      "\u001b[1m > TRAINING (2024-10-21 16:23:15) \u001b[0m\n"
     ]
    },
    {
     "name": "stdout",
     "output_type": "stream",
     "text": [
      "เขา ก็ บ่น เร็ว ๆ ก็ เล่า กัน โฟล ลี่ แนะ นําผม ให้ เวลา เต็มที่ ห้า นาที ก่อนที่ กรุงเทพฯ จะ เข้าไป ร่วมกับ เวลา ปกติ ของ โลก ฮอล ลี่ ก้าว ผ่าน ศูนย์ ที่ เคย เป็น ทางเดิน คม ระยะ เบา ๆ เพราะ แรง แตก ของ ระเบิด แต่ นอกจากนั้น ทุกอย่าง ยังคง สภาพเดิม ที่ เธอ จํา ได้ ทาง ข้างล่าง ห้องขัง ไม่ มี ใคร ตอบ ไม่ มี แม้แต่ คํา เดียว มี ใคร บางคน ออกเสียง ออกมา เสียงดัง ๆ มาย โฟล์ เต็มที่ ฮอล ลี่ หัน มอง ไป รอบด้าน\n",
      " [!] Character 'ฯ' not found in the vocabulary. Discarding it.\n"
     ]
    },
    {
     "name": "stderr",
     "output_type": "stream",
     "text": [
      "\n",
      "\u001b[1m > EVALUATION \u001b[0m\n",
      "\n"
     ]
    },
    {
     "name": "stdout",
     "output_type": "stream",
     "text": [
      " | > Synthesizing test sentences.\n"
     ]
    },
    {
     "name": "stderr",
     "output_type": "stream",
     "text": [
      "\n",
      "  \u001b[1m--> EVAL PERFORMANCE\u001b[0m\n",
      "     | > avg_loader_time:\u001b[91m 0.06454730033874512 \u001b[0m(+0.047171401977539065)\n",
      "     | > avg_loss:\u001b[91m 0.8204952120780945 \u001b[0m(+0.09009983539581301)\n",
      "     | > avg_log_mle:\u001b[91m -0.059586513042449954 \u001b[0m(+0.0942832827568054)\n",
      "     | > avg_loss_dur:\u001b[92m 0.8800817251205444 \u001b[0m(-0.0041834473609925205)\n",
      "\n",
      "\n",
      "\u001b[4m\u001b[1m > EPOCH: 89/100\u001b[0m\n",
      " --> glowtts_train_dir/run-October-21-2024_11+30AM-0000000\n",
      "\n",
      "\u001b[1m > TRAINING (2024-10-21 16:26:31) \u001b[0m\n",
      "\n",
      "\u001b[1m   --> TIME: 2024-10-21 16:28:09 -- STEP: 312/592 -- GLOBAL_STEP: 53000\u001b[0m\n",
      "     | > loss: 0.5102704167366028  (0.3987762715954047)\n",
      "     | > log_mle: -0.3422586917877197  (-0.3942968711639061)\n",
      "     | > loss_dur: 0.8525291085243225  (0.793073142759311)\n",
      "     | > amp_scaler: 1024.0  (1024.0)\n",
      "     | > grad_norm: tensor(58.8329, device='cuda:0')  (tensor(89.2085, device='cuda:0'))\n",
      "     | > current_lr: 2.2250000000000002e-05 \n",
      "     | > step_time: 0.286  (0.30392003823549335)\n",
      "     | > loader_time: 0.0026  (0.0037327485206799615)\n",
      "\n",
      "\n",
      " > CHECKPOINT : glowtts_train_dir/run-October-21-2024_11+30AM-0000000/checkpoint_53000.pth\n"
     ]
    },
    {
     "name": "stdout",
     "output_type": "stream",
     "text": [
      "เขา ก็ บ่น เร็ว ๆ ก็ เล่า กัน โฟล ลี่ แนะ นําผม ให้ เวลา เต็มที่ ห้า นาที ก่อนที่ กรุงเทพฯ จะ เข้าไป ร่วมกับ เวลา ปกติ ของ โลก ฮอล ลี่ ก้าว ผ่าน ศูนย์ ที่ เคย เป็น ทางเดิน คม ระยะ เบา ๆ เพราะ แรง แตก ของ ระเบิด แต่ นอกจากนั้น ทุกอย่าง ยังคง สภาพเดิม ที่ เธอ จํา ได้ ทาง ข้างล่าง ห้องขัง ไม่ มี ใคร ตอบ ไม่ มี แม้แต่ คํา เดียว มี ใคร บางคน ออกเสียง ออกมา เสียงดัง ๆ มาย โฟล์ เต็มที่ ฮอล ลี่ หัน มอง ไป รอบด้าน\n",
      " [!] Character 'ฯ' not found in the vocabulary. Discarding it.\n"
     ]
    },
    {
     "name": "stderr",
     "output_type": "stream",
     "text": [
      "\n",
      "\u001b[1m > EVALUATION \u001b[0m\n",
      "\n"
     ]
    },
    {
     "name": "stdout",
     "output_type": "stream",
     "text": [
      " | > Synthesizing test sentences.\n"
     ]
    },
    {
     "name": "stderr",
     "output_type": "stream",
     "text": [
      "\n",
      "  \u001b[1m--> EVAL PERFORMANCE\u001b[0m\n",
      "     | > avg_loader_time:\u001b[92m 0.052685785293579104 \u001b[0m(-0.011861515045166013)\n",
      "     | > avg_loss:\u001b[92m 0.5014921069145203 \u001b[0m(-0.3190031051635742)\n",
      "     | > avg_log_mle:\u001b[92m -0.3021914005279541 \u001b[0m(-0.24260488748550418)\n",
      "     | > avg_loss_dur:\u001b[92m 0.8036835074424744 \u001b[0m(-0.07639821767806998)\n",
      "\n",
      " > BEST MODEL : glowtts_train_dir/run-October-21-2024_11+30AM-0000000/best_model_53280.pth\n",
      "\n",
      "\u001b[4m\u001b[1m > EPOCH: 90/100\u001b[0m\n",
      " --> glowtts_train_dir/run-October-21-2024_11+30AM-0000000\n",
      "\n",
      "\u001b[1m > TRAINING (2024-10-21 16:29:57) \u001b[0m\n"
     ]
    },
    {
     "name": "stdout",
     "output_type": "stream",
     "text": [
      "เขา ก็ บ่น เร็ว ๆ ก็ เล่า กัน โฟล ลี่ แนะ นําผม ให้ เวลา เต็มที่ ห้า นาที ก่อนที่ กรุงเทพฯ จะ เข้าไป ร่วมกับ เวลา ปกติ ของ โลก ฮอล ลี่ ก้าว ผ่าน ศูนย์ ที่ เคย เป็น ทางเดิน คม ระยะ เบา ๆ เพราะ แรง แตก ของ ระเบิด แต่ นอกจากนั้น ทุกอย่าง ยังคง สภาพเดิม ที่ เธอ จํา ได้ ทาง ข้างล่าง ห้องขัง ไม่ มี ใคร ตอบ ไม่ มี แม้แต่ คํา เดียว มี ใคร บางคน ออกเสียง ออกมา เสียงดัง ๆ มาย โฟล์ เต็มที่ ฮอล ลี่ หัน มอง ไป รอบด้าน\n",
      " [!] Character 'ฯ' not found in the vocabulary. Discarding it.\n"
     ]
    },
    {
     "name": "stderr",
     "output_type": "stream",
     "text": [
      "\n",
      "\u001b[1m > EVALUATION \u001b[0m\n",
      "\n"
     ]
    },
    {
     "name": "stdout",
     "output_type": "stream",
     "text": [
      " | > Synthesizing test sentences.\n"
     ]
    },
    {
     "name": "stderr",
     "output_type": "stream",
     "text": [
      "\n",
      "  \u001b[1m--> EVAL PERFORMANCE\u001b[0m\n",
      "     | > avg_loader_time:\u001b[91m 0.07925548553466796 \u001b[0m(+0.02656970024108886)\n",
      "     | > avg_loss:\u001b[91m 0.5041573643684387 \u001b[0m(+0.002665257453918435)\n",
      "     | > avg_log_mle:\u001b[92m -0.3031003952026367 \u001b[0m(-0.0009089946746825839)\n",
      "     | > avg_loss_dur:\u001b[91m 0.8072577595710755 \u001b[0m(+0.0035742521286010742)\n",
      "\n",
      "\n",
      "\u001b[4m\u001b[1m > EPOCH: 91/100\u001b[0m\n",
      " --> glowtts_train_dir/run-October-21-2024_11+30AM-0000000\n",
      "\n",
      "\u001b[1m > TRAINING (2024-10-21 16:33:15) \u001b[0m\n",
      "\n",
      "\u001b[1m   --> TIME: 2024-10-21 16:33:58 -- STEP: 128/592 -- GLOBAL_STEP: 54000\u001b[0m\n",
      "     | > loss: 0.45325350761413574  (0.4086241754703223)\n",
      "     | > log_mle: -0.5291752815246582  (-0.39518606290221214)\n",
      "     | > loss_dur: 0.982428789138794  (0.8038102383725345)\n",
      "     | > amp_scaler: 1024.0  (1024.0)\n",
      "     | > grad_norm: tensor(178.6634, device='cuda:0')  (tensor(88.3650, device='cuda:0'))\n",
      "     | > current_lr: 2.275e-05 \n",
      "     | > step_time: 0.3075  (0.3214159272611142)\n",
      "     | > loader_time: 0.0069  (0.0040422622114419954)\n",
      "\n",
      "\n",
      " > CHECKPOINT : glowtts_train_dir/run-October-21-2024_11+30AM-0000000/checkpoint_54000.pth\n"
     ]
    },
    {
     "name": "stdout",
     "output_type": "stream",
     "text": [
      "เขา ก็ บ่น เร็ว ๆ ก็ เล่า กัน โฟล ลี่ แนะ นําผม ให้ เวลา เต็มที่ ห้า นาที ก่อนที่ กรุงเทพฯ จะ เข้าไป ร่วมกับ เวลา ปกติ ของ โลก ฮอล ลี่ ก้าว ผ่าน ศูนย์ ที่ เคย เป็น ทางเดิน คม ระยะ เบา ๆ เพราะ แรง แตก ของ ระเบิด แต่ นอกจากนั้น ทุกอย่าง ยังคง สภาพเดิม ที่ เธอ จํา ได้ ทาง ข้างล่าง ห้องขัง ไม่ มี ใคร ตอบ ไม่ มี แม้แต่ คํา เดียว มี ใคร บางคน ออกเสียง ออกมา เสียงดัง ๆ มาย โฟล์ เต็มที่ ฮอล ลี่ หัน มอง ไป รอบด้าน\n",
      " [!] Character 'ฯ' not found in the vocabulary. Discarding it.\n"
     ]
    },
    {
     "name": "stderr",
     "output_type": "stream",
     "text": [
      "\n",
      "\u001b[1m > EVALUATION \u001b[0m\n",
      "\n"
     ]
    },
    {
     "name": "stdout",
     "output_type": "stream",
     "text": [
      " | > Synthesizing test sentences.\n"
     ]
    },
    {
     "name": "stderr",
     "output_type": "stream",
     "text": [
      "\n",
      "  \u001b[1m--> EVAL PERFORMANCE\u001b[0m\n",
      "     | > avg_loader_time:\u001b[92m 0.06686892509460449 \u001b[0m(-0.012386560440063477)\n",
      "     | > avg_loss:\u001b[91m 0.885746169090271 \u001b[0m(+0.3815888047218323)\n",
      "     | > avg_log_mle:\u001b[91m -0.06943259239196778 \u001b[0m(+0.23366780281066893)\n",
      "     | > avg_loss_dur:\u001b[91m 0.9551787614822388 \u001b[0m(+0.1479210019111633)\n",
      "\n",
      "\n",
      "\u001b[4m\u001b[1m > EPOCH: 92/100\u001b[0m\n",
      " --> glowtts_train_dir/run-October-21-2024_11+30AM-0000000\n",
      "\n",
      "\u001b[1m > TRAINING (2024-10-21 16:36:41) \u001b[0m\n",
      "\n",
      "\u001b[1m   --> TIME: 2024-10-21 16:39:31 -- STEP: 536/592 -- GLOBAL_STEP: 55000\u001b[0m\n",
      "     | > loss: 0.18929141759872437  (0.37849681980129496)\n",
      "     | > log_mle: -0.5242153406143188  (-0.4094713872938016)\n",
      "     | > loss_dur: 0.7135067582130432  (0.7879682070950965)\n",
      "     | > amp_scaler: 2048.0  (2048.0)\n",
      "     | > grad_norm: tensor(181.2472, device='cuda:0')  (tensor(93.7481, device='cuda:0'))\n",
      "     | > current_lr: 2.3e-05 \n",
      "     | > step_time: 0.357  (0.30888957941710077)\n",
      "     | > loader_time: 0.0051  (0.004079915249525616)\n",
      "\n",
      "\n",
      " > CHECKPOINT : glowtts_train_dir/run-October-21-2024_11+30AM-0000000/checkpoint_55000.pth\n"
     ]
    },
    {
     "name": "stdout",
     "output_type": "stream",
     "text": [
      "เขา ก็ บ่น เร็ว ๆ ก็ เล่า กัน โฟล ลี่ แนะ นําผม ให้ เวลา เต็มที่ ห้า นาที ก่อนที่ กรุงเทพฯ จะ เข้าไป ร่วมกับ เวลา ปกติ ของ โลก ฮอล ลี่ ก้าว ผ่าน ศูนย์ ที่ เคย เป็น ทางเดิน คม ระยะ เบา ๆ เพราะ แรง แตก ของ ระเบิด แต่ นอกจากนั้น ทุกอย่าง ยังคง สภาพเดิม ที่ เธอ จํา ได้ ทาง ข้างล่าง ห้องขัง ไม่ มี ใคร ตอบ ไม่ มี แม้แต่ คํา เดียว มี ใคร บางคน ออกเสียง ออกมา เสียงดัง ๆ มาย โฟล์ เต็มที่ ฮอล ลี่ หัน มอง ไป รอบด้าน\n",
      " [!] Character 'ฯ' not found in the vocabulary. Discarding it.\n"
     ]
    },
    {
     "name": "stderr",
     "output_type": "stream",
     "text": [
      "\n",
      "\u001b[1m > EVALUATION \u001b[0m\n",
      "\n"
     ]
    },
    {
     "name": "stdout",
     "output_type": "stream",
     "text": [
      " | > Synthesizing test sentences.\n"
     ]
    },
    {
     "name": "stderr",
     "output_type": "stream",
     "text": [
      "\n",
      "  \u001b[1m--> EVAL PERFORMANCE\u001b[0m\n",
      "     | > avg_loader_time:\u001b[92m 0.03863415718078613 \u001b[0m(-0.028234767913818355)\n",
      "     | > avg_loss:\u001b[92m 0.4666158318519592 \u001b[0m(-0.41913033723831183)\n",
      "     | > avg_log_mle:\u001b[92m -0.2942983150482178 \u001b[0m(-0.22486572265625002)\n",
      "     | > avg_loss_dur:\u001b[92m 0.760914146900177 \u001b[0m(-0.1942646145820618)\n",
      "\n",
      " > BEST MODEL : glowtts_train_dir/run-October-21-2024_11+30AM-0000000/best_model_55056.pth\n",
      "\n",
      "\u001b[4m\u001b[1m > EPOCH: 93/100\u001b[0m\n",
      " --> glowtts_train_dir/run-October-21-2024_11+30AM-0000000\n",
      "\n",
      "\u001b[1m > TRAINING (2024-10-21 16:40:11) \u001b[0m\n"
     ]
    },
    {
     "name": "stdout",
     "output_type": "stream",
     "text": [
      "เขา ก็ บ่น เร็ว ๆ ก็ เล่า กัน โฟล ลี่ แนะ นําผม ให้ เวลา เต็มที่ ห้า นาที ก่อนที่ กรุงเทพฯ จะ เข้าไป ร่วมกับ เวลา ปกติ ของ โลก ฮอล ลี่ ก้าว ผ่าน ศูนย์ ที่ เคย เป็น ทางเดิน คม ระยะ เบา ๆ เพราะ แรง แตก ของ ระเบิด แต่ นอกจากนั้น ทุกอย่าง ยังคง สภาพเดิม ที่ เธอ จํา ได้ ทาง ข้างล่าง ห้องขัง ไม่ มี ใคร ตอบ ไม่ มี แม้แต่ คํา เดียว มี ใคร บางคน ออกเสียง ออกมา เสียงดัง ๆ มาย โฟล์ เต็มที่ ฮอล ลี่ หัน มอง ไป รอบด้าน\n",
      " [!] Character 'ฯ' not found in the vocabulary. Discarding it.\n"
     ]
    },
    {
     "name": "stderr",
     "output_type": "stream",
     "text": [
      "\n",
      "\u001b[1m > EVALUATION \u001b[0m\n",
      "\n"
     ]
    },
    {
     "name": "stdout",
     "output_type": "stream",
     "text": [
      " | > Synthesizing test sentences.\n"
     ]
    },
    {
     "name": "stderr",
     "output_type": "stream",
     "text": [
      "\n",
      "  \u001b[1m--> EVAL PERFORMANCE\u001b[0m\n",
      "     | > avg_loader_time:\u001b[91m 0.06129674911499024 \u001b[0m(+0.022662591934204106)\n",
      "     | > avg_loss:\u001b[91m 0.5275510907173157 \u001b[0m(+0.060935258865356445)\n",
      "     | > avg_log_mle:\u001b[92m -0.3483013868331909 \u001b[0m(-0.0540030717849731)\n",
      "     | > avg_loss_dur:\u001b[91m 0.8758524775505065 \u001b[0m(+0.11493833065032955)\n",
      "\n",
      "\n",
      "\u001b[4m\u001b[1m > EPOCH: 94/100\u001b[0m\n",
      " --> glowtts_train_dir/run-October-21-2024_11+30AM-0000000\n",
      "\n",
      "\u001b[1m > TRAINING (2024-10-21 16:43:35) \u001b[0m\n",
      "\n",
      "\u001b[1m   --> TIME: 2024-10-21 16:45:30 -- STEP: 352/592 -- GLOBAL_STEP: 56000\u001b[0m\n",
      "     | > loss: 0.2380426526069641  (0.3876765096052124)\n",
      "     | > log_mle: -0.47144579887390137  (-0.40887201949954033)\n",
      "     | > loss_dur: 0.7094884514808655  (0.7965485291047526)\n",
      "     | > amp_scaler: 1024.0  (1024.0)\n",
      "     | > grad_norm: tensor(84.5055, device='cuda:0')  (tensor(93.7283, device='cuda:0'))\n",
      "     | > current_lr: 2.3500000000000002e-05 \n",
      "     | > step_time: 0.2939  (0.31561643427068525)\n",
      "     | > loader_time: 0.0035  (0.004523585465821356)\n",
      "\n",
      "\n",
      " > CHECKPOINT : glowtts_train_dir/run-October-21-2024_11+30AM-0000000/checkpoint_56000.pth\n"
     ]
    },
    {
     "name": "stdout",
     "output_type": "stream",
     "text": [
      "เขา ก็ บ่น เร็ว ๆ ก็ เล่า กัน โฟล ลี่ แนะ นําผม ให้ เวลา เต็มที่ ห้า นาที ก่อนที่ กรุงเทพฯ จะ เข้าไป ร่วมกับ เวลา ปกติ ของ โลก ฮอล ลี่ ก้าว ผ่าน ศูนย์ ที่ เคย เป็น ทางเดิน คม ระยะ เบา ๆ เพราะ แรง แตก ของ ระเบิด แต่ นอกจากนั้น ทุกอย่าง ยังคง สภาพเดิม ที่ เธอ จํา ได้ ทาง ข้างล่าง ห้องขัง ไม่ มี ใคร ตอบ ไม่ มี แม้แต่ คํา เดียว มี ใคร บางคน ออกเสียง ออกมา เสียงดัง ๆ มาย โฟล์ เต็มที่ ฮอล ลี่ หัน มอง ไป รอบด้าน\n",
      " [!] Character 'ฯ' not found in the vocabulary. Discarding it.\n"
     ]
    },
    {
     "name": "stderr",
     "output_type": "stream",
     "text": [
      "\n",
      "\u001b[1m > EVALUATION \u001b[0m\n",
      "\n"
     ]
    },
    {
     "name": "stdout",
     "output_type": "stream",
     "text": [
      " | > Synthesizing test sentences.\n"
     ]
    },
    {
     "name": "stderr",
     "output_type": "stream",
     "text": [
      "\n",
      "  \u001b[1m--> EVAL PERFORMANCE\u001b[0m\n",
      "     | > avg_loader_time:\u001b[92m 0.05490365028381348 \u001b[0m(-0.006393098831176759)\n",
      "     | > avg_loss:\u001b[92m 0.40024055242538453 \u001b[0m(-0.12731053829193112)\n",
      "     | > avg_log_mle:\u001b[92m -0.37926793098449707 \u001b[0m(-0.030966544151306175)\n",
      "     | > avg_loss_dur:\u001b[92m 0.7795084834098815 \u001b[0m(-0.096343994140625)\n",
      "\n",
      " > BEST MODEL : glowtts_train_dir/run-October-21-2024_11+30AM-0000000/best_model_56240.pth\n",
      "\n",
      "\u001b[4m\u001b[1m > EPOCH: 95/100\u001b[0m\n",
      " --> glowtts_train_dir/run-October-21-2024_11+30AM-0000000\n",
      "\n",
      "\u001b[1m > TRAINING (2024-10-21 16:47:09) \u001b[0m\n"
     ]
    },
    {
     "name": "stdout",
     "output_type": "stream",
     "text": [
      "เขา ก็ บ่น เร็ว ๆ ก็ เล่า กัน โฟล ลี่ แนะ นําผม ให้ เวลา เต็มที่ ห้า นาที ก่อนที่ กรุงเทพฯ จะ เข้าไป ร่วมกับ เวลา ปกติ ของ โลก ฮอล ลี่ ก้าว ผ่าน ศูนย์ ที่ เคย เป็น ทางเดิน คม ระยะ เบา ๆ เพราะ แรง แตก ของ ระเบิด แต่ นอกจากนั้น ทุกอย่าง ยังคง สภาพเดิม ที่ เธอ จํา ได้ ทาง ข้างล่าง ห้องขัง ไม่ มี ใคร ตอบ ไม่ มี แม้แต่ คํา เดียว มี ใคร บางคน ออกเสียง ออกมา เสียงดัง ๆ มาย โฟล์ เต็มที่ ฮอล ลี่ หัน มอง ไป รอบด้าน\n",
      " [!] Character 'ฯ' not found in the vocabulary. Discarding it.\n"
     ]
    },
    {
     "name": "stderr",
     "output_type": "stream",
     "text": [
      "\n",
      "\u001b[1m > EVALUATION \u001b[0m\n",
      "\n"
     ]
    },
    {
     "name": "stdout",
     "output_type": "stream",
     "text": [
      " | > Synthesizing test sentences.\n"
     ]
    },
    {
     "name": "stderr",
     "output_type": "stream",
     "text": [
      "\n",
      "  \u001b[1m--> EVAL PERFORMANCE\u001b[0m\n",
      "     | > avg_loader_time:\u001b[92m 0.02948899269104004 \u001b[0m(-0.025414657592773438)\n",
      "     | > avg_loss:\u001b[91m 0.9058891892433166 \u001b[0m(+0.505648636817932)\n",
      "     | > avg_log_mle:\u001b[91m -0.15171868801116944 \u001b[0m(+0.22754924297332763)\n",
      "     | > avg_loss_dur:\u001b[91m 1.0576078772544861 \u001b[0m(+0.2780993938446046)\n",
      "\n",
      "\n",
      "\u001b[4m\u001b[1m > EPOCH: 96/100\u001b[0m\n",
      " --> glowtts_train_dir/run-October-21-2024_11+30AM-0000000\n",
      "\n",
      "\u001b[1m > TRAINING (2024-10-21 16:50:30) \u001b[0m\n",
      "\n",
      "\u001b[1m   --> TIME: 2024-10-21 16:51:26 -- STEP: 168/592 -- GLOBAL_STEP: 57000\u001b[0m\n",
      "     | > loss: 0.02443981170654297  (0.3689816512522244)\n",
      "     | > log_mle: -0.6807861328125  (-0.420182677251952)\n",
      "     | > loss_dur: 0.705225944519043  (0.7891643285041767)\n",
      "     | > amp_scaler: 1024.0  (1024.0)\n",
      "     | > grad_norm: tensor(85.9509, device='cuda:0')  (tensor(92.3808, device='cuda:0'))\n",
      "     | > current_lr: 2.4e-05 \n",
      "     | > step_time: 0.2734  (0.31594134228570125)\n",
      "     | > loader_time: 0.0032  (0.0038024201279594784)\n",
      "\n",
      "\n",
      " > CHECKPOINT : glowtts_train_dir/run-October-21-2024_11+30AM-0000000/checkpoint_57000.pth\n"
     ]
    },
    {
     "name": "stdout",
     "output_type": "stream",
     "text": [
      "เขา ก็ บ่น เร็ว ๆ ก็ เล่า กัน โฟล ลี่ แนะ นําผม ให้ เวลา เต็มที่ ห้า นาที ก่อนที่ กรุงเทพฯ จะ เข้าไป ร่วมกับ เวลา ปกติ ของ โลก ฮอล ลี่ ก้าว ผ่าน ศูนย์ ที่ เคย เป็น ทางเดิน คม ระยะ เบา ๆ เพราะ แรง แตก ของ ระเบิด แต่ นอกจากนั้น ทุกอย่าง ยังคง สภาพเดิม ที่ เธอ จํา ได้ ทาง ข้างล่าง ห้องขัง ไม่ มี ใคร ตอบ ไม่ มี แม้แต่ คํา เดียว มี ใคร บางคน ออกเสียง ออกมา เสียงดัง ๆ มาย โฟล์ เต็มที่ ฮอล ลี่ หัน มอง ไป รอบด้าน\n",
      " [!] Character 'ฯ' not found in the vocabulary. Discarding it.\n"
     ]
    },
    {
     "name": "stderr",
     "output_type": "stream",
     "text": [
      "\n",
      "\u001b[1m > EVALUATION \u001b[0m\n",
      "\n"
     ]
    },
    {
     "name": "stdout",
     "output_type": "stream",
     "text": [
      " | > Synthesizing test sentences.\n"
     ]
    },
    {
     "name": "stderr",
     "output_type": "stream",
     "text": [
      "\n",
      "  \u001b[1m--> EVAL PERFORMANCE\u001b[0m\n",
      "     | > avg_loader_time:\u001b[91m 0.06013307571411133 \u001b[0m(+0.030644083023071287)\n",
      "     | > avg_loss:\u001b[92m 0.40338186025619505 \u001b[0m(-0.5025073289871216)\n",
      "     | > avg_log_mle:\u001b[92m -0.4163423299789429 \u001b[0m(-0.26462364196777344)\n",
      "     | > avg_loss_dur:\u001b[92m 0.819724190235138 \u001b[0m(-0.23788368701934814)\n",
      "\n",
      "\n",
      "\u001b[4m\u001b[1m > EPOCH: 97/100\u001b[0m\n",
      " --> glowtts_train_dir/run-October-21-2024_11+30AM-0000000\n",
      "\n",
      "\u001b[1m > TRAINING (2024-10-21 16:53:56) \u001b[0m\n"
     ]
    },
    {
     "name": "stdout",
     "output_type": "stream",
     "text": [
      "เขา ก็ บ่น เร็ว ๆ ก็ เล่า กัน โฟล ลี่ แนะ นําผม ให้ เวลา เต็มที่ ห้า นาที ก่อนที่ กรุงเทพฯ จะ เข้าไป ร่วมกับ เวลา ปกติ ของ โลก ฮอล ลี่ ก้าว ผ่าน ศูนย์ ที่ เคย เป็น ทางเดิน คม ระยะ เบา ๆ เพราะ แรง แตก ของ ระเบิด แต่ นอกจากนั้น ทุกอย่าง ยังคง สภาพเดิม ที่ เธอ จํา ได้ ทาง ข้างล่าง ห้องขัง ไม่ มี ใคร ตอบ ไม่ มี แม้แต่ คํา เดียว มี ใคร บางคน ออกเสียง ออกมา เสียงดัง ๆ มาย โฟล์ เต็มที่ ฮอล ลี่ หัน มอง ไป รอบด้าน\n",
      " [!] Character 'ฯ' not found in the vocabulary. Discarding it.\n"
     ]
    },
    {
     "name": "stderr",
     "output_type": "stream",
     "text": [
      "\n",
      "\u001b[1m   --> TIME: 2024-10-21 16:57:02 -- STEP: 576/592 -- GLOBAL_STEP: 58000\u001b[0m\n",
      "     | > loss: 0.36035215854644775  (0.37415255513042195)\n",
      "     | > log_mle: -0.29287755489349365  (-0.41238796504007447)\n",
      "     | > loss_dur: 0.6532297134399414  (0.7865405201704969)\n",
      "     | > amp_scaler: 2048.0  (2048.0)\n",
      "     | > grad_norm: tensor(5.4829, device='cuda:0')  (tensor(86.1146, device='cuda:0'))\n",
      "     | > current_lr: 2.425e-05 \n",
      "     | > step_time: 0.3754  (0.3137219010127914)\n",
      "     | > loader_time: 0.0033  (0.004566406210263569)\n",
      "\n",
      "\n",
      " > CHECKPOINT : glowtts_train_dir/run-October-21-2024_11+30AM-0000000/checkpoint_58000.pth\n",
      "\n",
      "\u001b[1m > EVALUATION \u001b[0m\n",
      "\n"
     ]
    },
    {
     "name": "stdout",
     "output_type": "stream",
     "text": [
      " | > Synthesizing test sentences.\n"
     ]
    },
    {
     "name": "stderr",
     "output_type": "stream",
     "text": [
      "\n",
      "  \u001b[1m--> EVAL PERFORMANCE\u001b[0m\n",
      "     | > avg_loader_time:\u001b[92m 0.052467966079711915 \u001b[0m(-0.007665109634399411)\n",
      "     | > avg_loss:\u001b[91m 0.49691680669784544 \u001b[0m(+0.09353494644165039)\n",
      "     | > avg_log_mle:\u001b[91m -0.3412628173828125 \u001b[0m(+0.07507951259613038)\n",
      "     | > avg_loss_dur:\u001b[91m 0.8381796240806579 \u001b[0m(+0.018455433845519953)\n",
      "\n",
      "\n",
      "\u001b[4m\u001b[1m > EPOCH: 98/100\u001b[0m\n",
      " --> glowtts_train_dir/run-October-21-2024_11+30AM-0000000\n",
      "\n",
      "\u001b[1m > TRAINING (2024-10-21 16:57:24) \u001b[0m\n"
     ]
    },
    {
     "name": "stdout",
     "output_type": "stream",
     "text": [
      "เขา ก็ บ่น เร็ว ๆ ก็ เล่า กัน โฟล ลี่ แนะ นําผม ให้ เวลา เต็มที่ ห้า นาที ก่อนที่ กรุงเทพฯ จะ เข้าไป ร่วมกับ เวลา ปกติ ของ โลก ฮอล ลี่ ก้าว ผ่าน ศูนย์ ที่ เคย เป็น ทางเดิน คม ระยะ เบา ๆ เพราะ แรง แตก ของ ระเบิด แต่ นอกจากนั้น ทุกอย่าง ยังคง สภาพเดิม ที่ เธอ จํา ได้ ทาง ข้างล่าง ห้องขัง ไม่ มี ใคร ตอบ ไม่ มี แม้แต่ คํา เดียว มี ใคร บางคน ออกเสียง ออกมา เสียงดัง ๆ มาย โฟล์ เต็มที่ ฮอล ลี่ หัน มอง ไป รอบด้าน\n",
      " [!] Character 'ฯ' not found in the vocabulary. Discarding it.\n"
     ]
    },
    {
     "name": "stderr",
     "output_type": "stream",
     "text": [
      "\n",
      "\u001b[1m > EVALUATION \u001b[0m\n",
      "\n"
     ]
    },
    {
     "name": "stdout",
     "output_type": "stream",
     "text": [
      " | > Synthesizing test sentences.\n"
     ]
    },
    {
     "name": "stderr",
     "output_type": "stream",
     "text": [
      "\n",
      "  \u001b[1m--> EVAL PERFORMANCE\u001b[0m\n",
      "     | > avg_loader_time:\u001b[91m 0.06299843788146972 \u001b[0m(+0.010530471801757806)\n",
      "     | > avg_loss:\u001b[91m 0.7943869948387146 \u001b[0m(+0.2974701881408691)\n",
      "     | > avg_log_mle:\u001b[91m -0.27699568271636965 \u001b[0m(+0.06426713466644285)\n",
      "     | > avg_loss_dur:\u001b[91m 1.0713826775550843 \u001b[0m(+0.23320305347442638)\n",
      "\n",
      "\n",
      "\u001b[4m\u001b[1m > EPOCH: 99/100\u001b[0m\n",
      " --> glowtts_train_dir/run-October-21-2024_11+30AM-0000000\n",
      "\n",
      "\u001b[1m > TRAINING (2024-10-21 17:00:45) \u001b[0m\n",
      "\n",
      "\u001b[1m   --> TIME: 2024-10-21 17:02:50 -- STEP: 392/592 -- GLOBAL_STEP: 59000\u001b[0m\n",
      "     | > loss: 0.46263587474823  (0.3688690837244601)\n",
      "     | > log_mle: -0.4133720397949219  (-0.42341443865883105)\n",
      "     | > loss_dur: 0.8760079145431519  (0.7922835223832906)\n",
      "     | > amp_scaler: 1024.0  (1024.0)\n",
      "     | > grad_norm: tensor(135.8799, device='cuda:0')  (tensor(85.1037, device='cuda:0'))\n",
      "     | > current_lr: 2.475e-05 \n",
      "     | > step_time: 0.2885  (0.3103503031390051)\n",
      "     | > loader_time: 0.0056  (0.004234946503931162)\n",
      "\n",
      "\n",
      " > CHECKPOINT : glowtts_train_dir/run-October-21-2024_11+30AM-0000000/checkpoint_59000.pth\n"
     ]
    },
    {
     "name": "stdout",
     "output_type": "stream",
     "text": [
      "เขา ก็ บ่น เร็ว ๆ ก็ เล่า กัน โฟล ลี่ แนะ นําผม ให้ เวลา เต็มที่ ห้า นาที ก่อนที่ กรุงเทพฯ จะ เข้าไป ร่วมกับ เวลา ปกติ ของ โลก ฮอล ลี่ ก้าว ผ่าน ศูนย์ ที่ เคย เป็น ทางเดิน คม ระยะ เบา ๆ เพราะ แรง แตก ของ ระเบิด แต่ นอกจากนั้น ทุกอย่าง ยังคง สภาพเดิม ที่ เธอ จํา ได้ ทาง ข้างล่าง ห้องขัง ไม่ มี ใคร ตอบ ไม่ มี แม้แต่ คํา เดียว มี ใคร บางคน ออกเสียง ออกมา เสียงดัง ๆ มาย โฟล์ เต็มที่ ฮอล ลี่ หัน มอง ไป รอบด้าน\n",
      " [!] Character 'ฯ' not found in the vocabulary. Discarding it.\n"
     ]
    },
    {
     "name": "stderr",
     "output_type": "stream",
     "text": [
      "\n",
      "\u001b[1m > EVALUATION \u001b[0m\n",
      "\n"
     ]
    },
    {
     "name": "stdout",
     "output_type": "stream",
     "text": [
      " | > Synthesizing test sentences.\n"
     ]
    },
    {
     "name": "stderr",
     "output_type": "stream",
     "text": [
      "\n",
      "  \u001b[1m--> EVAL PERFORMANCE\u001b[0m\n",
      "     | > avg_loader_time:\u001b[91m 0.073612642288208 \u001b[0m(+0.010614204406738284)\n",
      "     | > avg_loss:\u001b[91m 0.9774448037147522 \u001b[0m(+0.18305780887603762)\n",
      "     | > avg_log_mle:\u001b[91m 0.01074446439743042 \u001b[0m(+0.2877401471138001)\n",
      "     | > avg_loss_dur:\u001b[92m 0.9667003273963928 \u001b[0m(-0.10468235015869154)\n",
      "\n"
     ]
    }
   ],
   "source": [
    "trainer.fit()"
   ]
  },
  {
   "cell_type": "code",
   "execution_count": 27,
   "metadata": {},
   "outputs": [
    {
     "name": "stdout",
     "output_type": "stream",
     "text": [
      " > Using model: glow_tts\n",
      " > Setting up Audio Processor...\n",
      " | > sample_rate:22050\n",
      " | > resample:True\n",
      " | > num_mels:80\n",
      " | > log_func:np.log10\n",
      " | > min_level_db:-100\n",
      " | > frame_shift_ms:None\n",
      " | > frame_length_ms:None\n",
      " | > ref_level_db:20\n",
      " | > fft_size:1024\n",
      " | > power:1.5\n",
      " | > preemphasis:0.0\n",
      " | > griffin_lim_iters:60\n",
      " | > signal_norm:True\n",
      " | > symmetric_norm:True\n",
      " | > mel_fmin:0\n",
      " | > mel_fmax:None\n",
      " | > pitch_fmin:1.0\n",
      " | > pitch_fmax:640.0\n",
      " | > spec_gain:20.0\n",
      " | > stft_pad_mode:reflect\n",
      " | > max_norm:4.0\n",
      " | > clip_norm:True\n",
      " | > do_trim_silence:True\n",
      " | > trim_db:45\n",
      " | > do_sound_norm:False\n",
      " | > do_amp_to_db_linear:True\n",
      " | > do_amp_to_db_mel:True\n",
      " | > do_rms_norm:False\n",
      " | > db_level:None\n",
      " | > stats_path:None\n",
      " | > base:10\n",
      " | > hop_length:256\n",
      " | > win_length:1024\n",
      "/home/voice-cloning-finetune/TTS/TTS/tts/utils/managers.py:20: FutureWarning: You are using `torch.load` with `weights_only=False` (the current default value), which uses the default pickle module implicitly. It is possible to construct malicious pickle data which will execute arbitrary code during unpickling (See https://github.com/pytorch/pytorch/blob/main/SECURITY.md#untrusted-models for more details). In a future release, the default value for `weights_only` will be flipped to `True`. This limits the functions that could be executed during unpickling. Arbitrary objects will no longer be allowed to be loaded via this mode unless they are explicitly allowlisted by the user via `torch.serialization.add_safe_globals`. We recommend you start setting `weights_only=True` for any use case where you don't have full control of the loaded file. Please open an issue on GitHub for any issues related to this experimental feature.\n",
      "  return torch.load(f, map_location=\"cpu\")\n",
      " > Init speaker_embedding layer.\n",
      "/home/voice-cloning-finetune/TTS/TTS/utils/io.py:54: FutureWarning: You are using `torch.load` with `weights_only=False` (the current default value), which uses the default pickle module implicitly. It is possible to construct malicious pickle data which will execute arbitrary code during unpickling (See https://github.com/pytorch/pytorch/blob/main/SECURITY.md#untrusted-models for more details). In a future release, the default value for `weights_only` will be flipped to `True`. This limits the functions that could be executed during unpickling. Arbitrary objects will no longer be allowed to be loaded via this mode unless they are explicitly allowlisted by the user via `torch.serialization.add_safe_globals`. We recommend you start setting `weights_only=True` for any use case where you don't have full control of the loaded file. Please open an issue on GitHub for any issues related to this experimental feature.\n",
      "  return torch.load(f, map_location=map_location, **kwargs)\n",
      " > Text: เธอต้องการอะไร\n",
      " > Text splitted to sentences.\n",
      "['เธอต้องการอะไร']\n",
      " > Processing time: 0.2991926670074463\n",
      " > Real-time factor: 0.2259314488874723\n",
      " > Saving output to /home/voice-cloning-finetune/results/out.wav\n"
     ]
    }
   ],
   "source": [
    "# Speaker_idxs: {'Alice All Around Tarot': 0, 'THE STANDARD': 1, 'Thai Audio Books For All Blinds': 2, 'Understand Thai': 3, 'นิยาย ก่อนนอน': 4, 'หนังสือเสียง Thai Audiobook': 5, 'เจ้าคุณพระ': 6, '𝘚𝘰𝘭𝘢𝘳.11': 7}\n",
    "# Language_idxs: {'th': 0}\n",
    "!tts --text \"เธอต้องการอะไร\" \\\n",
    "    --speaker_idx \"Alice All Around Tarot\" \\\n",
    "    --language_idx \"th\" \\\n",
    "    --model_path  /home/voice-cloning-finetune/glowtts_train_dir/run-October-21-2024_11+30AM-0000000/best_model_56240.pth \\\n",
    "    --config_path /home/voice-cloning-finetune/glowtts_train_dir/run-October-21-2024_11+30AM-0000000/config.json \\\n",
    "    --speakers_file_path /home/voice-cloning-finetune/glowtts_train_dir/run-October-21-2024_11+30AM-0000000/speakers.pth \\\n",
    "    --out_path /home/voice-cloning-finetune/results/out.wav"
   ]
  }
 ],
 "metadata": {
  "kernelspec": {
   "display_name": "Python 3",
   "language": "python",
   "name": "python3"
  },
  "language_info": {
   "codemirror_mode": {
    "name": "ipython",
    "version": 3
   },
   "file_extension": ".py",
   "mimetype": "text/x-python",
   "name": "python",
   "nbconvert_exporter": "python",
   "pygments_lexer": "ipython3",
   "version": "3.9.20"
  }
 },
 "nbformat": 4,
 "nbformat_minor": 2
}
